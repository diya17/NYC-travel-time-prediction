{
  "nbformat": 4,
  "nbformat_minor": 0,
  "metadata": {
    "colab": {
      "provenance": [],
      "machine_shape": "hm"
    },
    "kernelspec": {
      "name": "python3",
      "display_name": "Python 3"
    },
    "language_info": {
      "name": "python"
    },
    "gpuClass": "standard",
    "accelerator": "TPU"
  },
  "cells": [
    {
      "cell_type": "code",
      "execution_count": 41,
      "metadata": {
        "colab": {
          "base_uri": "https://localhost:8080/"
        },
        "id": "u4jNltC6BxBl",
        "outputId": "d16a3788-0ba5-4066-ec34-cb0ff6fe093c"
      },
      "outputs": [
        {
          "output_type": "stream",
          "name": "stdout",
          "text": [
            "Looking in indexes: https://pypi.org/simple, https://us-python.pkg.dev/colab-wheels/public/simple/\n",
            "Requirement already satisfied: ipython-autotime in /usr/local/lib/python3.7/dist-packages (0.3.1)\n",
            "Requirement already satisfied: ipython in /usr/local/lib/python3.7/dist-packages (from ipython-autotime) (7.9.0)\n",
            "Requirement already satisfied: decorator in /usr/local/lib/python3.7/dist-packages (from ipython->ipython-autotime) (4.4.2)\n",
            "Requirement already satisfied: traitlets>=4.2 in /usr/local/lib/python3.7/dist-packages (from ipython->ipython-autotime) (5.1.1)\n",
            "Requirement already satisfied: backcall in /usr/local/lib/python3.7/dist-packages (from ipython->ipython-autotime) (0.2.0)\n",
            "Requirement already satisfied: setuptools>=18.5 in /usr/local/lib/python3.7/dist-packages (from ipython->ipython-autotime) (57.4.0)\n",
            "Requirement already satisfied: pygments in /usr/local/lib/python3.7/dist-packages (from ipython->ipython-autotime) (2.6.1)\n",
            "Requirement already satisfied: jedi>=0.10 in /usr/local/lib/python3.7/dist-packages (from ipython->ipython-autotime) (0.18.2)\n",
            "Requirement already satisfied: pexpect in /usr/local/lib/python3.7/dist-packages (from ipython->ipython-autotime) (4.8.0)\n",
            "Requirement already satisfied: prompt-toolkit<2.1.0,>=2.0.0 in /usr/local/lib/python3.7/dist-packages (from ipython->ipython-autotime) (2.0.10)\n",
            "Requirement already satisfied: pickleshare in /usr/local/lib/python3.7/dist-packages (from ipython->ipython-autotime) (0.7.5)\n",
            "Requirement already satisfied: parso<0.9.0,>=0.8.0 in /usr/local/lib/python3.7/dist-packages (from jedi>=0.10->ipython->ipython-autotime) (0.8.3)\n",
            "Requirement already satisfied: wcwidth in /usr/local/lib/python3.7/dist-packages (from prompt-toolkit<2.1.0,>=2.0.0->ipython->ipython-autotime) (0.2.5)\n",
            "Requirement already satisfied: six>=1.9.0 in /usr/local/lib/python3.7/dist-packages (from prompt-toolkit<2.1.0,>=2.0.0->ipython->ipython-autotime) (1.15.0)\n",
            "Requirement already satisfied: ptyprocess>=0.5 in /usr/local/lib/python3.7/dist-packages (from pexpect->ipython->ipython-autotime) (0.7.0)\n",
            "The autotime extension is already loaded. To reload it, use:\n",
            "  %reload_ext autotime\n",
            "Mounted at /content/drive\n",
            "time: 6.01 s (started: 2022-11-26 04:29:13 +00:00)\n"
          ]
        }
      ],
      "source": [
        "!pip install ipython-autotime\n",
        "%load_ext autotime\n",
        "import pandas as pd\n",
        "from google.colab import drive\n",
        "import pathlib\n",
        "import numpy as np\n",
        "import gc\n",
        "import matplotlib.pyplot as plt\n",
        "from keras.models import Sequential\n",
        "from keras.layers import LSTM\n",
        "from keras.layers.core import Dropout,Dense\n",
        "from keras.callbacks import ModelCheckpoint\n",
        "import pyarrow.parquet as pq\n",
        "from sklearn.model_selection import train_test_split\n",
        "from sklearn.preprocessing import MinMaxScaler\n",
        "import tensorflow as tf\n",
        "from sklearn.metrics import mean_squared_error\n",
        "from sklearn.metrics import mean_absolute_error\n",
        "\n",
        "\n",
        "drive.mount('/content/drive',force_remount=True)"
      ]
    },
    {
      "cell_type": "code",
      "source": [
        "data_dir = \"/content/drive/MyDrive/yellow_tripdata_2020_data.parquet\"\n",
        "data_dir = pathlib.Path(data_dir)\n",
        "yellowTaxiData2020 = pq.ParquetFile(data_dir)\n",
        "del data_dir"
      ],
      "metadata": {
        "colab": {
          "base_uri": "https://localhost:8080/"
        },
        "id": "ZzEuLd2dHNtF",
        "outputId": "d032399a-837c-4aab-ea81-b565ba4b7844"
      },
      "execution_count": 2,
      "outputs": [
        {
          "output_type": "stream",
          "name": "stdout",
          "text": [
            "time: 21.3 ms (started: 2022-11-26 02:21:48 +00:00)\n"
          ]
        }
      ]
    },
    {
      "cell_type": "code",
      "source": [
        "random_state=17"
      ],
      "metadata": {
        "colab": {
          "base_uri": "https://localhost:8080/"
        },
        "id": "434YYj4QMMoU",
        "outputId": "93fac273-c553-40bb-8aa8-8f636e6eb40c"
      },
      "execution_count": 3,
      "outputs": [
        {
          "output_type": "stream",
          "name": "stdout",
          "text": [
            "time: 503 µs (started: 2022-11-26 02:21:48 +00:00)\n"
          ]
        }
      ]
    },
    {
      "cell_type": "code",
      "source": [
        "taxiData = pd.DataFrame()"
      ],
      "metadata": {
        "colab": {
          "base_uri": "https://localhost:8080/"
        },
        "id": "xoZ0wLciMufv",
        "outputId": "c2ab5954-e96f-4490-ed05-9afbd8d39f7f"
      },
      "execution_count": 4,
      "outputs": [
        {
          "output_type": "stream",
          "name": "stdout",
          "text": [
            "time: 1.38 ms (started: 2022-11-26 02:21:48 +00:00)\n"
          ]
        }
      ]
    },
    {
      "cell_type": "code",
      "source": [
        "for taxiDataBatch in yellowTaxiData2020.iter_batches(batch_size=2000000):\n",
        "    taxiDataBatchDF = taxiDataBatch.to_pandas()\n",
        "    taxiDataBatchDF.drop(columns=['tpep_pickup_datetime', 'tpep_dropoff_datetime', 'pickup_date', 'pickup_time', 'dropoff_date', 'dropoff_time'], inplace=True)\n",
        "    taxiData = pd.concat([taxiData, taxiDataBatchDF])"
      ],
      "metadata": {
        "colab": {
          "base_uri": "https://localhost:8080/"
        },
        "id": "VTcgQS-ahZOs",
        "outputId": "f1c7309f-0f5f-4aa8-e14f-73b1d30a3b72"
      },
      "execution_count": 5,
      "outputs": [
        {
          "output_type": "stream",
          "name": "stdout",
          "text": [
            "time: 2.82 s (started: 2022-11-26 02:21:48 +00:00)\n"
          ]
        }
      ]
    },
    {
      "cell_type": "code",
      "source": [
        "del yellowTaxiData2020\n",
        "gc.collect()"
      ],
      "metadata": {
        "colab": {
          "base_uri": "https://localhost:8080/"
        },
        "id": "oaOXX__VhZ_o",
        "outputId": "73e2c800-46d2-4c20-e0d5-bf0c01bc9561"
      },
      "execution_count": 6,
      "outputs": [
        {
          "output_type": "execute_result",
          "data": {
            "text/plain": [
              "44"
            ]
          },
          "metadata": {},
          "execution_count": 6
        },
        {
          "output_type": "stream",
          "name": "stdout",
          "text": [
            "time: 172 ms (started: 2022-11-26 02:21:51 +00:00)\n"
          ]
        }
      ]
    },
    {
      "cell_type": "code",
      "source": [
        "data_dir = \"/content/drive/MyDrive/yellow_tripdata_2021_data.parquet\"\n",
        "data_dir = pathlib.Path(data_dir)\n",
        "yellowTaxiData2021 = pq.ParquetFile(data_dir)\n",
        "del data_dir"
      ],
      "metadata": {
        "colab": {
          "base_uri": "https://localhost:8080/"
        },
        "id": "dXTwG2r7hffK",
        "outputId": "34f09fdd-a4e1-4f90-d0c2-e881d9845299"
      },
      "execution_count": 7,
      "outputs": [
        {
          "output_type": "stream",
          "name": "stdout",
          "text": [
            "time: 6.09 ms (started: 2022-11-26 02:21:51 +00:00)\n"
          ]
        }
      ]
    },
    {
      "cell_type": "code",
      "source": [
        "for taxiDataBatch in yellowTaxiData2021.iter_batches(batch_size=2000000):\n",
        "    taxiDataBatchDF = taxiDataBatch.to_pandas()\n",
        "    taxiDataBatchDF.drop(columns=['tpep_pickup_datetime', 'tpep_dropoff_datetime', 'pickup_date', 'pickup_time', 'dropoff_date', 'dropoff_time'], inplace=True)\n",
        "    taxiData = pd.concat([taxiData, taxiDataBatchDF])"
      ],
      "metadata": {
        "colab": {
          "base_uri": "https://localhost:8080/"
        },
        "id": "zwEV_gaahiCf",
        "outputId": "3b16f412-ea76-4418-ecd8-2020def0df27"
      },
      "execution_count": 8,
      "outputs": [
        {
          "output_type": "stream",
          "name": "stdout",
          "text": [
            "time: 14.4 s (started: 2022-11-26 02:21:51 +00:00)\n"
          ]
        }
      ]
    },
    {
      "cell_type": "code",
      "source": [
        "def createLSTMDataSet(data, sequence_length, feature_count): \n",
        "    X = []\n",
        "    y = []\n",
        "\n",
        "    for i in range(data.shape[0] - feature_count - 1):\n",
        "        if data[i, 0] == data[i+1, 0]:\n",
        "            if data[i, 0] == data[i+sequence_length, 0]:\n",
        "                X.append(data[i:i+sequence_length, :feature_count])\n",
        "                y.append(data[i+sequence_length, feature_count])\n",
        "    \n",
        "    return np.array(X), np.array(y)\n"
      ],
      "metadata": {
        "colab": {
          "base_uri": "https://localhost:8080/"
        },
        "id": "TlI9EWHkGPxN",
        "outputId": "9af2638b-b587-46f8-f8e7-961f64fcbebc"
      },
      "execution_count": 9,
      "outputs": [
        {
          "output_type": "stream",
          "name": "stdout",
          "text": [
            "time: 1.58 ms (started: 2022-11-26 02:22:06 +00:00)\n"
          ]
        }
      ]
    },
    {
      "cell_type": "code",
      "source": [
        "taxiDataLSTM = taxiData[['PULocationID', 'DOLocationID', 'pickup_weekday', 'pickup_month', 'pickup_dt', 'trip_distance', 'pickup_holiday', 'pickup_near_holiday', 'ride_duration']]"
      ],
      "metadata": {
        "colab": {
          "base_uri": "https://localhost:8080/"
        },
        "id": "fsakaebEH1T1",
        "outputId": "41e2181c-463f-4018-e167-db4427c29930"
      },
      "execution_count": 11,
      "outputs": [
        {
          "output_type": "stream",
          "name": "stdout",
          "text": [
            "time: 7.94 s (started: 2022-11-26 02:22:06 +00:00)\n"
          ]
        }
      ]
    },
    {
      "cell_type": "code",
      "source": [
        "taxiDataLSTM.sort_values(by=['PULocationID', 'DOLocationID', 'pickup_weekday', 'pickup_month', 'pickup_dt'], inplace=True, ascending=True)"
      ],
      "metadata": {
        "colab": {
          "base_uri": "https://localhost:8080/"
        },
        "id": "GjALC_K6NFHf",
        "outputId": "d3dd02db-fe57-4a36-efad-4728792fbfc9"
      },
      "execution_count": 12,
      "outputs": [
        {
          "output_type": "stream",
          "name": "stdout",
          "text": [
            "time: 36.6 s (started: 2022-11-26 02:22:14 +00:00)\n"
          ]
        },
        {
          "output_type": "stream",
          "name": "stderr",
          "text": [
            "/usr/local/lib/python3.7/dist-packages/pandas/util/_decorators.py:311: SettingWithCopyWarning: \n",
            "A value is trying to be set on a copy of a slice from a DataFrame\n",
            "\n",
            "See the caveats in the documentation: https://pandas.pydata.org/pandas-docs/stable/user_guide/indexing.html#returning-a-view-versus-a-copy\n",
            "  return func(*args, **kwargs)\n"
          ]
        }
      ]
    },
    {
      "cell_type": "code",
      "source": [
        "del taxiData\n",
        "gc.collect()"
      ],
      "metadata": {
        "colab": {
          "base_uri": "https://localhost:8080/"
        },
        "id": "PcQLtHRvvhDG",
        "outputId": "f3bda0d6-c147-42cb-8ccd-8a370204ac7c"
      },
      "execution_count": 13,
      "outputs": [
        {
          "output_type": "execute_result",
          "data": {
            "text/plain": [
              "304"
            ]
          },
          "metadata": {},
          "execution_count": 13
        },
        {
          "output_type": "stream",
          "name": "stdout",
          "text": [
            "time: 177 ms (started: 2022-11-26 02:22:51 +00:00)\n"
          ]
        }
      ]
    },
    {
      "cell_type": "code",
      "source": [
        "scaler = MinMaxScaler()\n",
        "taxiDataLSTM = scaler.fit_transform(taxiDataLSTM)"
      ],
      "metadata": {
        "colab": {
          "base_uri": "https://localhost:8080/"
        },
        "id": "IZkf4I-giG5x",
        "outputId": "5d027e61-5be8-4ba6-ff0d-cc0766c1b80b"
      },
      "execution_count": 14,
      "outputs": [
        {
          "output_type": "stream",
          "name": "stdout",
          "text": [
            "time: 2.42 s (started: 2022-11-26 02:22:51 +00:00)\n"
          ]
        }
      ]
    },
    {
      "cell_type": "code",
      "source": [
        "X, y = createLSTMDataSet(taxiDataLSTM, 5, 8)"
      ],
      "metadata": {
        "colab": {
          "base_uri": "https://localhost:8080/"
        },
        "id": "T_PBXLrZI1v-",
        "outputId": "94ebd305-37f1-4e07-df2f-4f65cd6511d3"
      },
      "execution_count": 15,
      "outputs": [
        {
          "output_type": "stream",
          "name": "stdout",
          "text": [
            "time: 1min 14s (started: 2022-11-26 02:22:59 +00:00)\n"
          ]
        }
      ]
    },
    {
      "cell_type": "code",
      "source": [
        "del yellowTaxiData2021, taxiDataBatchDF\n",
        "gc.collect()"
      ],
      "metadata": {
        "colab": {
          "base_uri": "https://localhost:8080/"
        },
        "id": "_GZEG2IMJiiY",
        "outputId": "dd7a3745-13b9-4872-a1db-dea33b7e68ad"
      },
      "execution_count": 16,
      "outputs": [
        {
          "output_type": "execute_result",
          "data": {
            "text/plain": [
              "131"
            ]
          },
          "metadata": {},
          "execution_count": 16
        },
        {
          "output_type": "stream",
          "name": "stdout",
          "text": [
            "time: 165 ms (started: 2022-11-26 02:24:20 +00:00)\n"
          ]
        }
      ]
    },
    {
      "cell_type": "code",
      "source": [
        "X_train, X_test, y_train, y_test = train_test_split(X, \n",
        "                                                    y, \n",
        "                                                    test_size=0.4, \n",
        "                                                    random_state=random_state)"
      ],
      "metadata": {
        "id": "lgiJ6H4LiU3d",
        "colab": {
          "base_uri": "https://localhost:8080/"
        },
        "outputId": "8afd9e38-ef20-4b73-a237-aa6cf4e2c30b"
      },
      "execution_count": 17,
      "outputs": [
        {
          "output_type": "stream",
          "name": "stdout",
          "text": [
            "time: 8.7 s (started: 2022-11-26 02:24:20 +00:00)\n"
          ]
        }
      ]
    },
    {
      "cell_type": "code",
      "source": [
        "np.random.seed(random_state)"
      ],
      "metadata": {
        "colab": {
          "base_uri": "https://localhost:8080/"
        },
        "id": "08NYSiPxwvvY",
        "outputId": "34380c44-f004-4070-8de8-1034a6d8221f"
      },
      "execution_count": 18,
      "outputs": [
        {
          "output_type": "stream",
          "name": "stdout",
          "text": [
            "time: 680 µs (started: 2022-11-26 02:28:02 +00:00)\n"
          ]
        }
      ]
    },
    {
      "cell_type": "code",
      "source": [
        "del X, y\n",
        "gc.collect()"
      ],
      "metadata": {
        "colab": {
          "base_uri": "https://localhost:8080/"
        },
        "id": "rBE56ofWRCLH",
        "outputId": "36458afb-e39d-40cd-c741-5aaa04eff4b6"
      },
      "execution_count": 21,
      "outputs": [
        {
          "output_type": "execute_result",
          "data": {
            "text/plain": [
              "345"
            ]
          },
          "metadata": {},
          "execution_count": 21
        },
        {
          "output_type": "stream",
          "name": "stdout",
          "text": [
            "time: 193 ms (started: 2022-11-26 02:29:16 +00:00)\n"
          ]
        }
      ]
    },
    {
      "cell_type": "code",
      "source": [
        "model = Sequential()\n",
        "model.add(LSTM(units=128, input_shape=(5,8), return_sequences=True))\n",
        "model.add(Dropout(0.2, seed=random_state))\n",
        "model.add(LSTM(units=128, return_sequences=False))\n",
        "model.add(Dropout(0.2, seed=random_state))\n",
        "model.add(Dense(1))\n",
        "model.compile(loss='mean_squared_error', optimizer='rmsprop')"
      ],
      "metadata": {
        "id": "K3lg6nPo1GAp",
        "colab": {
          "base_uri": "https://localhost:8080/"
        },
        "outputId": "b3997213-1aa3-4fe8-cf7b-486cbfd76f0a"
      },
      "execution_count": 31,
      "outputs": [
        {
          "output_type": "stream",
          "name": "stdout",
          "text": [
            "time: 725 ms (started: 2022-11-26 02:51:31 +00:00)\n"
          ]
        }
      ]
    },
    {
      "cell_type": "code",
      "source": [
        "model.summary()"
      ],
      "metadata": {
        "colab": {
          "base_uri": "https://localhost:8080/"
        },
        "id": "TBLOPiSYqJeJ",
        "outputId": "87113567-9fef-495d-84ed-6849fc3a9c63"
      },
      "execution_count": 32,
      "outputs": [
        {
          "output_type": "stream",
          "name": "stdout",
          "text": [
            "Model: \"sequential_1\"\n",
            "_________________________________________________________________\n",
            " Layer (type)                Output Shape              Param #   \n",
            "=================================================================\n",
            " lstm_2 (LSTM)               (None, 5, 128)            70144     \n",
            "                                                                 \n",
            " dropout_2 (Dropout)         (None, 5, 128)            0         \n",
            "                                                                 \n",
            " lstm_3 (LSTM)               (None, 128)               131584    \n",
            "                                                                 \n",
            " dropout_3 (Dropout)         (None, 128)               0         \n",
            "                                                                 \n",
            " dense_1 (Dense)             (None, 1)                 129       \n",
            "                                                                 \n",
            "=================================================================\n",
            "Total params: 201,857\n",
            "Trainable params: 201,857\n",
            "Non-trainable params: 0\n",
            "_________________________________________________________________\n",
            "time: 35.9 ms (started: 2022-11-26 02:51:32 +00:00)\n"
          ]
        }
      ]
    },
    {
      "cell_type": "code",
      "source": [
        "gc.collect()"
      ],
      "metadata": {
        "colab": {
          "base_uri": "https://localhost:8080/"
        },
        "id": "k93bHZyPRo0g",
        "outputId": "f06f8601-7f53-446a-f3ba-7f616b0f462d"
      },
      "execution_count": 33,
      "outputs": [
        {
          "output_type": "execute_result",
          "data": {
            "text/plain": [
              "7199"
            ]
          },
          "metadata": {},
          "execution_count": 33
        },
        {
          "output_type": "stream",
          "name": "stdout",
          "text": [
            "time: 237 ms (started: 2022-11-26 02:51:34 +00:00)\n"
          ]
        }
      ]
    },
    {
      "cell_type": "code",
      "source": [
        "callback = tf.keras.callbacks.EarlyStopping(monitor='loss', min_delta=0.01, mode='min')"
      ],
      "metadata": {
        "colab": {
          "base_uri": "https://localhost:8080/"
        },
        "id": "PbtaDXIZt_Hs",
        "outputId": "c976ed3e-7366-45cd-a329-338f1b24a9eb"
      },
      "execution_count": 34,
      "outputs": [
        {
          "output_type": "stream",
          "name": "stdout",
          "text": [
            "time: 787 µs (started: 2022-11-26 02:51:36 +00:00)\n"
          ]
        }
      ]
    },
    {
      "cell_type": "code",
      "source": [
        "model.fit(X_train, y_train, epochs=5, batch_size=714,shuffle=True, callbacks=[callback])"
      ],
      "metadata": {
        "id": "GmigpKQ15E3o",
        "colab": {
          "base_uri": "https://localhost:8080/"
        },
        "outputId": "bde89720-dc49-49c9-d8f7-c611c907869b"
      },
      "execution_count": 35,
      "outputs": [
        {
          "output_type": "stream",
          "name": "stdout",
          "text": [
            "Epoch 1/5\n",
            "21492/21492 [==============================] - 1569s 73ms/step - loss: 0.0384\n",
            "Epoch 2/5\n",
            "21492/21492 [==============================] - 1559s 73ms/step - loss: 0.0362\n"
          ]
        },
        {
          "output_type": "execute_result",
          "data": {
            "text/plain": [
              "<keras.callbacks.History at 0x7fd5f0125bd0>"
            ]
          },
          "metadata": {},
          "execution_count": 35
        },
        {
          "output_type": "stream",
          "name": "stdout",
          "text": [
            "time: 52min 9s (started: 2022-11-26 02:51:50 +00:00)\n"
          ]
        }
      ]
    },
    {
      "cell_type": "code",
      "source": [
        "model.save('/content/drive/MyDrive/Colab Notebooks/lstm_ny_model')"
      ],
      "metadata": {
        "colab": {
          "base_uri": "https://localhost:8080/"
        },
        "id": "1OXyNOtlpYad",
        "outputId": "9282cfb9-6e7d-4870-dd1c-032d2084b313"
      },
      "execution_count": 36,
      "outputs": [
        {
          "output_type": "stream",
          "name": "stderr",
          "text": [
            "WARNING:absl:Found untraced functions such as lstm_cell_2_layer_call_fn, lstm_cell_2_layer_call_and_return_conditional_losses, lstm_cell_3_layer_call_fn, lstm_cell_3_layer_call_and_return_conditional_losses while saving (showing 4 of 4). These functions will not be directly callable after loading.\n"
          ]
        },
        {
          "output_type": "stream",
          "name": "stdout",
          "text": [
            "time: 10.2 s (started: 2022-11-26 03:44:43 +00:00)\n"
          ]
        }
      ]
    },
    {
      "cell_type": "code",
      "source": [
        "predictions = model.predict(X_test)"
      ],
      "metadata": {
        "colab": {
          "base_uri": "https://localhost:8080/"
        },
        "id": "yQ7bU9UwCcqt",
        "outputId": "e2fb9537-4267-4fce-87ea-3b92955801f3"
      },
      "execution_count": 37,
      "outputs": [
        {
          "output_type": "stream",
          "name": "stdout",
          "text": [
            "319693/319693 [==============================] - 2462s 8ms/step\n",
            "time: 42min 52s (started: 2022-11-26 03:45:17 +00:00)\n"
          ]
        }
      ]
    },
    {
      "cell_type": "code",
      "source": [
        "predictions"
      ],
      "metadata": {
        "colab": {
          "base_uri": "https://localhost:8080/"
        },
        "id": "BodFdPaPCijx",
        "outputId": "37d5f89c-f03e-490f-9c52-5104b0295e47"
      },
      "execution_count": 38,
      "outputs": [
        {
          "output_type": "execute_result",
          "data": {
            "text/plain": [
              "array([[0.5366985 ],\n",
              "       [0.41321748],\n",
              "       [0.37551996],\n",
              "       ...,\n",
              "       [0.31194037],\n",
              "       [0.4220124 ],\n",
              "       [0.38538814]], dtype=float32)"
            ]
          },
          "metadata": {},
          "execution_count": 38
        },
        {
          "output_type": "stream",
          "name": "stdout",
          "text": [
            "time: 4.06 ms (started: 2022-11-26 04:28:12 +00:00)\n"
          ]
        }
      ]
    },
    {
      "cell_type": "code",
      "source": [
        "y_test"
      ],
      "metadata": {
        "colab": {
          "base_uri": "https://localhost:8080/"
        },
        "id": "sEElc6gIMXQq",
        "outputId": "216ce08e-dcde-4036-d3fc-5c06bd9d01ed"
      },
      "execution_count": 39,
      "outputs": [
        {
          "output_type": "execute_result",
          "data": {
            "text/plain": [
              "array([0.26746725, 0.28657205, 0.54421397, ..., 0.35917031, 0.16757642,\n",
              "       0.4121179 ])"
            ]
          },
          "metadata": {},
          "execution_count": 39
        },
        {
          "output_type": "stream",
          "name": "stdout",
          "text": [
            "time: 3.67 ms (started: 2022-11-26 04:28:20 +00:00)\n"
          ]
        }
      ]
    },
    {
      "cell_type": "code",
      "source": [
        "predictions_train = model.predict(X_train)"
      ],
      "metadata": {
        "colab": {
          "base_uri": "https://localhost:8080/"
        },
        "id": "hVT0YYQ8MpvU",
        "outputId": "d679b3f8-c949-463a-aa43-e85f9c925290"
      },
      "execution_count": 43,
      "outputs": [
        {
          "output_type": "stream",
          "name": "stdout",
          "text": [
            "479539/479539 [==============================] - 4308s 9ms/step\n",
            "time: 1h 14min 33s (started: 2022-11-26 04:29:53 +00:00)\n"
          ]
        }
      ]
    },
    {
      "cell_type": "code",
      "source": [
        "rmse_train = mean_squared_error(y_train, predictions_train)**0.5\n",
        "print(f'The RMSE of training prediction is: {rmse_train}')"
      ],
      "metadata": {
        "colab": {
          "base_uri": "https://localhost:8080/"
        },
        "id": "FhF5rFL-YBPL",
        "outputId": "92c1ae27-f018-4e29-bb8c-6cb8fb8bbbc6"
      },
      "execution_count": 44,
      "outputs": [
        {
          "output_type": "stream",
          "name": "stdout",
          "text": [
            "The RMSE of training prediction is: 0.1877786177459142\n",
            "time: 272 ms (started: 2022-11-26 05:45:41 +00:00)\n"
          ]
        }
      ]
    },
    {
      "cell_type": "code",
      "source": [
        "mse_train = mean_squared_error(y_train, predictions_train)\n",
        "print(f'The MSE of training prediction is: {mse_train}')"
      ],
      "metadata": {
        "colab": {
          "base_uri": "https://localhost:8080/"
        },
        "id": "n0qaWgbyYDwG",
        "outputId": "f00f49de-a59e-4ecb-d16b-278fa017d3ab"
      },
      "execution_count": 45,
      "outputs": [
        {
          "output_type": "stream",
          "name": "stdout",
          "text": [
            "The MSE of training prediction is: 0.03526080928256616\n",
            "time: 100 ms (started: 2022-11-26 05:45:43 +00:00)\n"
          ]
        }
      ]
    },
    {
      "cell_type": "code",
      "source": [
        "mae_train = mean_absolute_error(y_train, predictions_train)\n",
        "print(f'The MAE of training prediction is: {mae_train}')"
      ],
      "metadata": {
        "colab": {
          "base_uri": "https://localhost:8080/"
        },
        "id": "jTusEF3FYGSf",
        "outputId": "b939bf1a-cb21-4108-f57e-47421b044011"
      },
      "execution_count": 46,
      "outputs": [
        {
          "output_type": "stream",
          "name": "stdout",
          "text": [
            "The MAE of training prediction is: 0.15122186322047848\n",
            "time: 358 ms (started: 2022-11-26 05:45:47 +00:00)\n"
          ]
        }
      ]
    },
    {
      "cell_type": "code",
      "source": [
        "rmse_test = mean_squared_error(y_test, predictions)**0.5\n",
        "print(f'The RMSE of prediction is: {rmse_test}')"
      ],
      "metadata": {
        "colab": {
          "base_uri": "https://localhost:8080/"
        },
        "id": "JPyHEqy6MZkr",
        "outputId": "8530c0b5-8977-4413-b46d-eaad15452ff8"
      },
      "execution_count": 42,
      "outputs": [
        {
          "output_type": "stream",
          "name": "stdout",
          "text": [
            "The RMSE of prediction is: 0.18786428847575676\n",
            "time: 280 ms (started: 2022-11-26 04:29:25 +00:00)\n"
          ]
        }
      ]
    },
    {
      "cell_type": "code",
      "source": [
        "mse_test = mean_squared_error(y_test, predictions)\n",
        "print(f'The MSE of prediction is: {mse_test}')"
      ],
      "metadata": {
        "colab": {
          "base_uri": "https://localhost:8080/"
        },
        "id": "JHNEl6yCYKyU",
        "outputId": "5dd11ada-46c8-4440-f909-041befa13cc0"
      },
      "execution_count": 47,
      "outputs": [
        {
          "output_type": "stream",
          "name": "stdout",
          "text": [
            "The MSE of prediction is: 0.03529299088450235\n",
            "time: 77.3 ms (started: 2022-11-26 05:45:52 +00:00)\n"
          ]
        }
      ]
    },
    {
      "cell_type": "code",
      "source": [
        "mae_test = mean_absolute_error(y_test, predictions)\n",
        "print(f'The MAE of training prediction is: {mae_test}')"
      ],
      "metadata": {
        "colab": {
          "base_uri": "https://localhost:8080/"
        },
        "id": "OFuXr1RzYNAd",
        "outputId": "09558b1c-687d-45e1-bc4d-e35ad5ff4d65"
      },
      "execution_count": 48,
      "outputs": [
        {
          "output_type": "stream",
          "name": "stdout",
          "text": [
            "The MAE of training prediction is: 0.1513102728706388\n",
            "time: 186 ms (started: 2022-11-26 05:45:57 +00:00)\n"
          ]
        }
      ]
    }
  ]
}