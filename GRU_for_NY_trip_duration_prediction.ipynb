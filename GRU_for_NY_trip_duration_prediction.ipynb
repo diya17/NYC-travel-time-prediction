{
  "nbformat": 4,
  "nbformat_minor": 0,
  "metadata": {
    "colab": {
      "provenance": [],
      "machine_shape": "hm"
    },
    "kernelspec": {
      "name": "python3",
      "display_name": "Python 3"
    },
    "language_info": {
      "name": "python"
    },
    "accelerator": "TPU",
    "gpuClass": "standard"
  },
  "cells": [
    {
      "cell_type": "code",
      "execution_count": 1,
      "metadata": {
        "colab": {
          "base_uri": "https://localhost:8080/"
        },
        "id": "LqNoLGmyCPf1",
        "outputId": "b1253f7e-ddee-4632-aa30-7a2a02c777a7"
      },
      "outputs": [
        {
          "output_type": "stream",
          "name": "stdout",
          "text": [
            "Looking in indexes: https://pypi.org/simple, https://us-python.pkg.dev/colab-wheels/public/simple/\n",
            "Collecting ipython-autotime\n",
            "  Downloading ipython_autotime-0.3.1-py2.py3-none-any.whl (6.8 kB)\n",
            "Requirement already satisfied: ipython in /usr/local/lib/python3.7/dist-packages (from ipython-autotime) (7.9.0)\n",
            "Requirement already satisfied: decorator in /usr/local/lib/python3.7/dist-packages (from ipython->ipython-autotime) (4.4.2)\n",
            "Requirement already satisfied: prompt-toolkit<2.1.0,>=2.0.0 in /usr/local/lib/python3.7/dist-packages (from ipython->ipython-autotime) (2.0.10)\n",
            "Collecting jedi>=0.10\n",
            "  Downloading jedi-0.18.2-py2.py3-none-any.whl (1.6 MB)\n",
            "\u001b[K     |████████████████████████████████| 1.6 MB 4.7 MB/s \n",
            "\u001b[?25hRequirement already satisfied: setuptools>=18.5 in /usr/local/lib/python3.7/dist-packages (from ipython->ipython-autotime) (57.4.0)\n",
            "Requirement already satisfied: backcall in /usr/local/lib/python3.7/dist-packages (from ipython->ipython-autotime) (0.2.0)\n",
            "Requirement already satisfied: traitlets>=4.2 in /usr/local/lib/python3.7/dist-packages (from ipython->ipython-autotime) (5.1.1)\n",
            "Requirement already satisfied: pexpect in /usr/local/lib/python3.7/dist-packages (from ipython->ipython-autotime) (4.8.0)\n",
            "Requirement already satisfied: pygments in /usr/local/lib/python3.7/dist-packages (from ipython->ipython-autotime) (2.6.1)\n",
            "Requirement already satisfied: pickleshare in /usr/local/lib/python3.7/dist-packages (from ipython->ipython-autotime) (0.7.5)\n",
            "Requirement already satisfied: parso<0.9.0,>=0.8.0 in /usr/local/lib/python3.7/dist-packages (from jedi>=0.10->ipython->ipython-autotime) (0.8.3)\n",
            "Requirement already satisfied: six>=1.9.0 in /usr/local/lib/python3.7/dist-packages (from prompt-toolkit<2.1.0,>=2.0.0->ipython->ipython-autotime) (1.15.0)\n",
            "Requirement already satisfied: wcwidth in /usr/local/lib/python3.7/dist-packages (from prompt-toolkit<2.1.0,>=2.0.0->ipython->ipython-autotime) (0.2.5)\n",
            "Requirement already satisfied: ptyprocess>=0.5 in /usr/local/lib/python3.7/dist-packages (from pexpect->ipython->ipython-autotime) (0.7.0)\n",
            "Installing collected packages: jedi, ipython-autotime\n",
            "Successfully installed ipython-autotime-0.3.1 jedi-0.18.2\n",
            "Mounted at /content/drive\n",
            "time: 19.8 s (started: 2022-11-26 06:13:38 +00:00)\n"
          ]
        }
      ],
      "source": [
        "!pip install ipython-autotime\n",
        "%load_ext autotime\n",
        "import pandas as pd\n",
        "from google.colab import drive\n",
        "import pathlib\n",
        "import numpy as np\n",
        "import gc\n",
        "import matplotlib.pyplot as plt\n",
        "from keras.models import Sequential\n",
        "from keras.layers import GRU\n",
        "from keras.layers.core import Dropout,Dense\n",
        "from keras.callbacks import ModelCheckpoint\n",
        "import pyarrow.parquet as pq\n",
        "from sklearn.model_selection import train_test_split\n",
        "from sklearn.preprocessing import MinMaxScaler\n",
        "import tensorflow as tf\n",
        "from sklearn.metrics import mean_squared_error\n",
        "from sklearn.metrics import mean_absolute_error\n",
        "\n",
        "\n",
        "drive.mount('/content/drive',force_remount=True)"
      ]
    },
    {
      "cell_type": "code",
      "source": [
        "data_dir = \"/content/drive/MyDrive/yellow_tripdata_2020_data.parquet\"\n",
        "data_dir = pathlib.Path(data_dir)\n",
        "yellowTaxiData2020 = pq.ParquetFile(data_dir)\n",
        "del data_dir"
      ],
      "metadata": {
        "colab": {
          "base_uri": "https://localhost:8080/"
        },
        "id": "qni9eflFiQQv",
        "outputId": "f2de4200-ddcd-4b5c-cc09-3d44a036e7c9"
      },
      "execution_count": 2,
      "outputs": [
        {
          "output_type": "stream",
          "name": "stdout",
          "text": [
            "time: 195 ms (started: 2022-11-26 06:13:58 +00:00)\n"
          ]
        }
      ]
    },
    {
      "cell_type": "code",
      "source": [
        "random_state=17"
      ],
      "metadata": {
        "colab": {
          "base_uri": "https://localhost:8080/"
        },
        "id": "q0y2ToFziTl9",
        "outputId": "80de629f-6c99-4b32-d92d-9d614a808916"
      },
      "execution_count": 3,
      "outputs": [
        {
          "output_type": "stream",
          "name": "stdout",
          "text": [
            "time: 535 µs (started: 2022-11-26 06:13:58 +00:00)\n"
          ]
        }
      ]
    },
    {
      "cell_type": "code",
      "source": [
        "taxiData = pd.DataFrame()"
      ],
      "metadata": {
        "colab": {
          "base_uri": "https://localhost:8080/"
        },
        "id": "FZpY6PjkiVAc",
        "outputId": "93950906-7dcf-46af-b544-cface974fa6b"
      },
      "execution_count": 4,
      "outputs": [
        {
          "output_type": "stream",
          "name": "stdout",
          "text": [
            "time: 1.7 ms (started: 2022-11-26 06:13:58 +00:00)\n"
          ]
        }
      ]
    },
    {
      "cell_type": "code",
      "source": [
        "for taxiDataBatch in yellowTaxiData2020.iter_batches(batch_size=2000000):\n",
        "    taxiDataBatchDF = taxiDataBatch.to_pandas()\n",
        "    taxiDataBatchDF.drop(columns=['tpep_pickup_datetime', 'tpep_dropoff_datetime', 'pickup_date', 'pickup_time', 'dropoff_date', 'dropoff_time'], inplace=True)\n",
        "    taxiData = pd.concat([taxiData, taxiDataBatchDF])"
      ],
      "metadata": {
        "colab": {
          "base_uri": "https://localhost:8080/"
        },
        "id": "-A3SevSdiXaB",
        "outputId": "b6193d17-7c19-4781-9ece-32d7a470a501"
      },
      "execution_count": 5,
      "outputs": [
        {
          "output_type": "stream",
          "name": "stdout",
          "text": [
            "time: 2.86 s (started: 2022-11-26 06:13:58 +00:00)\n"
          ]
        }
      ]
    },
    {
      "cell_type": "code",
      "source": [
        "del yellowTaxiData2020\n",
        "gc.collect()"
      ],
      "metadata": {
        "colab": {
          "base_uri": "https://localhost:8080/"
        },
        "id": "y5a0NjVziY-Q",
        "outputId": "b37fdb7c-4e6e-45a0-bfda-b65c4b5df8b7"
      },
      "execution_count": 6,
      "outputs": [
        {
          "output_type": "execute_result",
          "data": {
            "text/plain": [
              "44"
            ]
          },
          "metadata": {},
          "execution_count": 6
        },
        {
          "output_type": "stream",
          "name": "stdout",
          "text": [
            "time: 161 ms (started: 2022-11-26 06:14:01 +00:00)\n"
          ]
        }
      ]
    },
    {
      "cell_type": "code",
      "source": [
        "data_dir = \"/content/drive/MyDrive/yellow_tripdata_2021_data.parquet\"\n",
        "data_dir = pathlib.Path(data_dir)\n",
        "yellowTaxiData2021 = pq.ParquetFile(data_dir)\n",
        "del data_dir"
      ],
      "metadata": {
        "colab": {
          "base_uri": "https://localhost:8080/"
        },
        "id": "GZVoq65PiakO",
        "outputId": "173e3e36-307b-454b-cd0f-a47bbd3264b3"
      },
      "execution_count": 7,
      "outputs": [
        {
          "output_type": "stream",
          "name": "stdout",
          "text": [
            "time: 134 ms (started: 2022-11-26 06:14:01 +00:00)\n"
          ]
        }
      ]
    },
    {
      "cell_type": "code",
      "source": [
        "for taxiDataBatch in yellowTaxiData2021.iter_batches(batch_size=2000000):\n",
        "    taxiDataBatchDF = taxiDataBatch.to_pandas()\n",
        "    taxiDataBatchDF.drop(columns=['tpep_pickup_datetime', 'tpep_dropoff_datetime', 'pickup_date', 'pickup_time', 'dropoff_date', 'dropoff_time'], inplace=True)\n",
        "    taxiData = pd.concat([taxiData, taxiDataBatchDF])"
      ],
      "metadata": {
        "colab": {
          "base_uri": "https://localhost:8080/"
        },
        "id": "fv61W30HiciE",
        "outputId": "a54a5853-57cf-4be6-914c-32b5a3fbb950"
      },
      "execution_count": 8,
      "outputs": [
        {
          "output_type": "stream",
          "name": "stdout",
          "text": [
            "time: 15.9 s (started: 2022-11-26 06:14:01 +00:00)\n"
          ]
        }
      ]
    },
    {
      "cell_type": "code",
      "source": [
        "def createGRUDataSet(data, sequence_length, feature_count): \n",
        "    X = []\n",
        "    y = []\n",
        "\n",
        "    for i in range(data.shape[0] - feature_count - 1):\n",
        "        if data[i, 0] == data[i+1, 0]:\n",
        "            if data[i, 0] == data[i+sequence_length, 0]:\n",
        "                X.append(data[i:i+sequence_length, :feature_count])\n",
        "                y.append(data[i+sequence_length, feature_count])\n",
        "    \n",
        "    return np.array(X), np.array(y)"
      ],
      "metadata": {
        "colab": {
          "base_uri": "https://localhost:8080/"
        },
        "id": "YL_ySb4IieMw",
        "outputId": "9725be90-f64d-41a3-87b7-8911c74c234d"
      },
      "execution_count": 9,
      "outputs": [
        {
          "output_type": "stream",
          "name": "stdout",
          "text": [
            "time: 1.53 ms (started: 2022-11-26 06:14:17 +00:00)\n"
          ]
        }
      ]
    },
    {
      "cell_type": "code",
      "source": [
        "taxiDataGRU = taxiData[['PULocationID', 'DOLocationID', 'pickup_weekday', 'pickup_month', 'pickup_dt', 'trip_distance', 'pickup_holiday', 'pickup_near_holiday', 'ride_duration']]"
      ],
      "metadata": {
        "colab": {
          "base_uri": "https://localhost:8080/"
        },
        "id": "wJYuhI0IihLy",
        "outputId": "7df0fb47-c0ba-4330-fa68-ad5117f7d272"
      },
      "execution_count": 10,
      "outputs": [
        {
          "output_type": "stream",
          "name": "stdout",
          "text": [
            "time: 2.24 s (started: 2022-11-26 06:14:17 +00:00)\n"
          ]
        }
      ]
    },
    {
      "cell_type": "code",
      "source": [
        "taxiDataGRU.sort_values(by=['PULocationID', 'DOLocationID', 'pickup_weekday', 'pickup_month', 'pickup_dt'], inplace=True, ascending=True)"
      ],
      "metadata": {
        "colab": {
          "base_uri": "https://localhost:8080/"
        },
        "id": "_mJag6rfii05",
        "outputId": "b527fe79-8c9d-4a7c-a670-a4c6d238e558"
      },
      "execution_count": 11,
      "outputs": [
        {
          "output_type": "stream",
          "name": "stdout",
          "text": [
            "time: 35.9 s (started: 2022-11-26 06:14:19 +00:00)\n"
          ]
        },
        {
          "output_type": "stream",
          "name": "stderr",
          "text": [
            "/usr/local/lib/python3.7/dist-packages/pandas/util/_decorators.py:311: SettingWithCopyWarning: \n",
            "A value is trying to be set on a copy of a slice from a DataFrame\n",
            "\n",
            "See the caveats in the documentation: https://pandas.pydata.org/pandas-docs/stable/user_guide/indexing.html#returning-a-view-versus-a-copy\n",
            "  return func(*args, **kwargs)\n"
          ]
        }
      ]
    },
    {
      "cell_type": "code",
      "source": [
        "del taxiData\n",
        "gc.collect()"
      ],
      "metadata": {
        "colab": {
          "base_uri": "https://localhost:8080/"
        },
        "id": "CnVy80iyik6j",
        "outputId": "e0ad3cf1-f246-4c07-c133-77d861f90c3c"
      },
      "execution_count": 12,
      "outputs": [
        {
          "output_type": "execute_result",
          "data": {
            "text/plain": [
              "88"
            ]
          },
          "metadata": {},
          "execution_count": 12
        },
        {
          "output_type": "stream",
          "name": "stdout",
          "text": [
            "time: 140 ms (started: 2022-11-26 06:14:55 +00:00)\n"
          ]
        }
      ]
    },
    {
      "cell_type": "code",
      "source": [
        "scaler = MinMaxScaler()\n",
        "taxiDataGRU = scaler.fit_transform(taxiDataGRU)"
      ],
      "metadata": {
        "colab": {
          "base_uri": "https://localhost:8080/"
        },
        "id": "vH9msK2SilWY",
        "outputId": "93f1b96d-e4ef-4d13-8dd5-cad04f23f9c2"
      },
      "execution_count": 13,
      "outputs": [
        {
          "output_type": "stream",
          "name": "stdout",
          "text": [
            "time: 2.39 s (started: 2022-11-26 06:14:55 +00:00)\n"
          ]
        }
      ]
    },
    {
      "cell_type": "code",
      "source": [
        "X, y = createGRUDataSet(taxiDataGRU, 5, 8)"
      ],
      "metadata": {
        "colab": {
          "base_uri": "https://localhost:8080/"
        },
        "id": "vgGEt3OUiqhU",
        "outputId": "f49e9b91-bdf7-428b-89c6-4ab89c8115f1"
      },
      "execution_count": 14,
      "outputs": [
        {
          "output_type": "stream",
          "name": "stdout",
          "text": [
            "time: 1min 1s (started: 2022-11-26 06:14:58 +00:00)\n"
          ]
        }
      ]
    },
    {
      "cell_type": "code",
      "source": [
        "del yellowTaxiData2021, taxiDataBatchDF\n",
        "gc.collect()"
      ],
      "metadata": {
        "colab": {
          "base_uri": "https://localhost:8080/"
        },
        "id": "FqHzEO5Ri4H7",
        "outputId": "0413622b-96b9-4479-be2b-1359b528c562"
      },
      "execution_count": 15,
      "outputs": [
        {
          "output_type": "execute_result",
          "data": {
            "text/plain": [
              "66"
            ]
          },
          "metadata": {},
          "execution_count": 15
        },
        {
          "output_type": "stream",
          "name": "stdout",
          "text": [
            "time: 141 ms (started: 2022-11-26 06:15:59 +00:00)\n"
          ]
        }
      ]
    },
    {
      "cell_type": "code",
      "source": [
        "X_train, X_test, y_train, y_test = train_test_split(X, \n",
        "                                                    y, \n",
        "                                                    test_size=0.4, \n",
        "                                                    random_state=random_state)"
      ],
      "metadata": {
        "colab": {
          "base_uri": "https://localhost:8080/"
        },
        "id": "9E_qb8INi6Jl",
        "outputId": "ef99c1cd-cecd-460e-ef0e-cf87a64bb6aa"
      },
      "execution_count": 16,
      "outputs": [
        {
          "output_type": "stream",
          "name": "stdout",
          "text": [
            "time: 6.01 s (started: 2022-11-26 06:16:00 +00:00)\n"
          ]
        }
      ]
    },
    {
      "cell_type": "code",
      "source": [
        "np.random.seed(random_state)"
      ],
      "metadata": {
        "colab": {
          "base_uri": "https://localhost:8080/"
        },
        "id": "H_qoUgmQi9Gt",
        "outputId": "9fa8d328-887b-4b73-cc3a-a0bfe5c8bb06"
      },
      "execution_count": 17,
      "outputs": [
        {
          "output_type": "stream",
          "name": "stdout",
          "text": [
            "time: 713 µs (started: 2022-11-26 06:16:06 +00:00)\n"
          ]
        }
      ]
    },
    {
      "cell_type": "code",
      "source": [
        "del X, y\n",
        "gc.collect()"
      ],
      "metadata": {
        "colab": {
          "base_uri": "https://localhost:8080/"
        },
        "id": "DKDY-x9Zi9c2",
        "outputId": "70101cfe-47fc-4e67-a047-5d1b6a37de9e"
      },
      "execution_count": 18,
      "outputs": [
        {
          "output_type": "execute_result",
          "data": {
            "text/plain": [
              "44"
            ]
          },
          "metadata": {},
          "execution_count": 18
        },
        {
          "output_type": "stream",
          "name": "stdout",
          "text": [
            "time: 159 ms (started: 2022-11-26 06:16:06 +00:00)\n"
          ]
        }
      ]
    },
    {
      "cell_type": "code",
      "source": [
        "model = Sequential()\n",
        "model.add(GRU(units=128, input_shape=(5,8), return_sequences=True))\n",
        "model.add(Dropout(0.2, seed=random_state))\n",
        "model.add(GRU(units=128, return_sequences=False))\n",
        "model.add(Dropout(0.2, seed=random_state))\n",
        "model.add(Dense(1))\n",
        "model.compile(loss='mean_squared_error', optimizer='rmsprop')"
      ],
      "metadata": {
        "colab": {
          "base_uri": "https://localhost:8080/"
        },
        "id": "CHiwKw4Hi_DB",
        "outputId": "12791072-573e-4f06-a1d3-b43ab7c6b4ba"
      },
      "execution_count": 19,
      "outputs": [
        {
          "output_type": "stream",
          "name": "stdout",
          "text": [
            "time: 848 ms (started: 2022-11-26 06:16:06 +00:00)\n"
          ]
        }
      ]
    },
    {
      "cell_type": "code",
      "source": [
        "model.summary()"
      ],
      "metadata": {
        "colab": {
          "base_uri": "https://localhost:8080/"
        },
        "id": "YL03efqzjFdb",
        "outputId": "05e6876f-586e-4e19-a903-5ba9559f8711"
      },
      "execution_count": 20,
      "outputs": [
        {
          "output_type": "stream",
          "name": "stdout",
          "text": [
            "Model: \"sequential\"\n",
            "_________________________________________________________________\n",
            " Layer (type)                Output Shape              Param #   \n",
            "=================================================================\n",
            " gru (GRU)                   (None, 5, 128)            52992     \n",
            "                                                                 \n",
            " dropout (Dropout)           (None, 5, 128)            0         \n",
            "                                                                 \n",
            " gru_1 (GRU)                 (None, 128)               99072     \n",
            "                                                                 \n",
            " dropout_1 (Dropout)         (None, 128)               0         \n",
            "                                                                 \n",
            " dense (Dense)               (None, 1)                 129       \n",
            "                                                                 \n",
            "=================================================================\n",
            "Total params: 152,193\n",
            "Trainable params: 152,193\n",
            "Non-trainable params: 0\n",
            "_________________________________________________________________\n",
            "time: 27.2 ms (started: 2022-11-26 06:16:07 +00:00)\n"
          ]
        }
      ]
    },
    {
      "cell_type": "code",
      "source": [
        "gc.collect()"
      ],
      "metadata": {
        "colab": {
          "base_uri": "https://localhost:8080/"
        },
        "id": "2evrLY5JjHFo",
        "outputId": "900840b1-f6fc-46ed-a80f-1eff662f8d13"
      },
      "execution_count": 21,
      "outputs": [
        {
          "output_type": "execute_result",
          "data": {
            "text/plain": [
              "2710"
            ]
          },
          "metadata": {},
          "execution_count": 21
        },
        {
          "output_type": "stream",
          "name": "stdout",
          "text": [
            "time: 145 ms (started: 2022-11-26 06:16:07 +00:00)\n"
          ]
        }
      ]
    },
    {
      "cell_type": "code",
      "source": [
        "callback = tf.keras.callbacks.EarlyStopping(monitor='loss', min_delta=0.01, mode='min')"
      ],
      "metadata": {
        "colab": {
          "base_uri": "https://localhost:8080/"
        },
        "id": "niBBOkpcjI0q",
        "outputId": "acc71a47-55e1-4576-dd38-f2a1494feb29"
      },
      "execution_count": 22,
      "outputs": [
        {
          "output_type": "stream",
          "name": "stdout",
          "text": [
            "time: 63.7 ms (started: 2022-11-26 06:16:07 +00:00)\n"
          ]
        }
      ]
    },
    {
      "cell_type": "code",
      "source": [
        "model.fit(X_train, y_train, epochs=5, batch_size=714,shuffle=True, callbacks=[callback])"
      ],
      "metadata": {
        "colab": {
          "base_uri": "https://localhost:8080/"
        },
        "id": "VGcGeDrtjLEy",
        "outputId": "89316c06-c960-431a-dd78-21997adcd563"
      },
      "execution_count": 23,
      "outputs": [
        {
          "output_type": "stream",
          "name": "stdout",
          "text": [
            "Epoch 1/5\n",
            "21492/21492 [==============================] - 1031s 48ms/step - loss: 0.0379\n",
            "Epoch 2/5\n",
            "21492/21492 [==============================] - 1059s 49ms/step - loss: 0.0357\n"
          ]
        },
        {
          "output_type": "execute_result",
          "data": {
            "text/plain": [
              "<keras.callbacks.History at 0x7fc818463750>"
            ]
          },
          "metadata": {},
          "execution_count": 23
        },
        {
          "output_type": "stream",
          "name": "stdout",
          "text": [
            "time: 34min 50s (started: 2022-11-26 06:16:07 +00:00)\n"
          ]
        }
      ]
    },
    {
      "cell_type": "code",
      "source": [
        "model.save('/content/drive/MyDrive/Colab Notebooks/gru_ny_model')"
      ],
      "metadata": {
        "colab": {
          "base_uri": "https://localhost:8080/"
        },
        "id": "UOdw_ooKjNOo",
        "outputId": "2b232d1e-d44e-4f23-8fa3-5b4ff5f9e0f9"
      },
      "execution_count": 24,
      "outputs": [
        {
          "output_type": "stream",
          "name": "stderr",
          "text": [
            "WARNING:absl:Found untraced functions such as gru_cell_layer_call_fn, gru_cell_layer_call_and_return_conditional_losses, gru_cell_1_layer_call_fn, gru_cell_1_layer_call_and_return_conditional_losses while saving (showing 4 of 4). These functions will not be directly callable after loading.\n"
          ]
        },
        {
          "output_type": "stream",
          "name": "stdout",
          "text": [
            "time: 8.87 s (started: 2022-11-26 06:50:58 +00:00)\n"
          ]
        }
      ]
    },
    {
      "cell_type": "code",
      "source": [
        "predictions = model.predict(X_test)"
      ],
      "metadata": {
        "colab": {
          "base_uri": "https://localhost:8080/"
        },
        "id": "Bap-IRJMjOa_",
        "outputId": "3044173b-d75b-41fc-c2f0-025053f89ac1"
      },
      "execution_count": 25,
      "outputs": [
        {
          "output_type": "stream",
          "name": "stdout",
          "text": [
            "319693/319693 [==============================] - 1217s 4ms/step\n",
            "time: 21min 59s (started: 2022-11-26 06:51:06 +00:00)\n"
          ]
        }
      ]
    },
    {
      "cell_type": "code",
      "source": [
        "predictions_train = model.predict(X_train)"
      ],
      "metadata": {
        "colab": {
          "base_uri": "https://localhost:8080/"
        },
        "id": "kN729uAojSd1",
        "outputId": "833bbc1e-39fa-412e-a81d-fb475aa4b81f"
      },
      "execution_count": 26,
      "outputs": [
        {
          "output_type": "stream",
          "name": "stdout",
          "text": [
            "479539/479539 [==============================] - 1936s 4ms/step\n",
            "time: 34min 54s (started: 2022-11-26 07:13:06 +00:00)\n"
          ]
        }
      ]
    },
    {
      "cell_type": "code",
      "source": [
        "rmse_train = mean_squared_error(y_train, predictions_train)**0.5\n",
        "print(f'The RMSE of training prediction is: {rmse_train}')"
      ],
      "metadata": {
        "colab": {
          "base_uri": "https://localhost:8080/"
        },
        "id": "ABH-DMypjUSg",
        "outputId": "d24d80cb-88f7-4bfe-b067-8143b5ff615e"
      },
      "execution_count": 27,
      "outputs": [
        {
          "output_type": "stream",
          "name": "stdout",
          "text": [
            "The RMSE of training prediction is: 0.18702378063879022\n",
            "time: 571 ms (started: 2022-11-26 07:48:02 +00:00)\n"
          ]
        }
      ]
    },
    {
      "cell_type": "code",
      "source": [
        "mse_train = mean_squared_error(y_train, predictions_train)\n",
        "print(f'The MSE of training prediction is: {mse_train}')"
      ],
      "metadata": {
        "colab": {
          "base_uri": "https://localhost:8080/"
        },
        "id": "9M0t1_wGjVqQ",
        "outputId": "3cf07b6e-0b6e-428b-ee81-2164ec4a188f"
      },
      "execution_count": 28,
      "outputs": [
        {
          "output_type": "stream",
          "name": "stdout",
          "text": [
            "The MSE of training prediction is: 0.03497789452442632\n",
            "time: 103 ms (started: 2022-11-26 07:48:02 +00:00)\n"
          ]
        }
      ]
    },
    {
      "cell_type": "code",
      "source": [
        "mae_train = mean_absolute_error(y_train, predictions_train)\n",
        "print(f'The MAE of training prediction is: {mae_train}')"
      ],
      "metadata": {
        "colab": {
          "base_uri": "https://localhost:8080/"
        },
        "id": "zUjoVDIvjXSl",
        "outputId": "ba4356c9-b410-4fac-ad68-97a9e35c630e"
      },
      "execution_count": 29,
      "outputs": [
        {
          "output_type": "stream",
          "name": "stdout",
          "text": [
            "The MAE of training prediction is: 0.15051484673068372\n",
            "time: 355 ms (started: 2022-11-26 07:48:02 +00:00)\n"
          ]
        }
      ]
    },
    {
      "cell_type": "code",
      "source": [
        "rmse_test = mean_squared_error(y_test, predictions)**0.5\n",
        "print(f'The RMSE of prediction is: {rmse_test}')"
      ],
      "metadata": {
        "colab": {
          "base_uri": "https://localhost:8080/"
        },
        "id": "ryI67dKvjYsA",
        "outputId": "9158cc39-d404-4260-8fbf-942c7e6eabf1"
      },
      "execution_count": 30,
      "outputs": [
        {
          "output_type": "stream",
          "name": "stdout",
          "text": [
            "The RMSE of prediction is: 0.18712379721134817\n",
            "time: 255 ms (started: 2022-11-26 07:48:03 +00:00)\n"
          ]
        }
      ]
    },
    {
      "cell_type": "code",
      "source": [
        "mse_test = mean_squared_error(y_test, predictions)\n",
        "print(f'The MSE of prediction is: {mse_test}')"
      ],
      "metadata": {
        "colab": {
          "base_uri": "https://localhost:8080/"
        },
        "id": "rwtmJJ2mjaSF",
        "outputId": "ecaab940-c6b7-4c1f-8c94-fa89afd5e864"
      },
      "execution_count": 31,
      "outputs": [
        {
          "output_type": "stream",
          "name": "stdout",
          "text": [
            "The MSE of prediction is: 0.035015315482793755\n",
            "time: 66.8 ms (started: 2022-11-26 07:48:03 +00:00)\n"
          ]
        }
      ]
    },
    {
      "cell_type": "code",
      "source": [
        "mae_test = mean_absolute_error(y_test, predictions)\n",
        "print(f'The MAE of training prediction is: {mae_test}')"
      ],
      "metadata": {
        "colab": {
          "base_uri": "https://localhost:8080/"
        },
        "id": "IzdlJAURjb1q",
        "outputId": "64a66f6e-b00d-49b5-ea6c-1a38246a19b4"
      },
      "execution_count": 32,
      "outputs": [
        {
          "output_type": "stream",
          "name": "stdout",
          "text": [
            "The MAE of training prediction is: 0.15062226691178393\n",
            "time: 77.2 ms (started: 2022-11-26 07:48:03 +00:00)\n"
          ]
        }
      ]
    }
  ]
}