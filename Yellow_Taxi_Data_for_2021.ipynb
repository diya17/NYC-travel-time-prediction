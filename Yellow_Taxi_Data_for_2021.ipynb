{
  "nbformat": 4,
  "nbformat_minor": 0,
  "metadata": {
    "colab": {
      "provenance": []
    },
    "kernelspec": {
      "name": "python3",
      "display_name": "Python 3"
    },
    "language_info": {
      "name": "python"
    },
    "accelerator": "GPU",
    "gpuClass": "standard"
  },
  "cells": [
    {
      "cell_type": "code",
      "execution_count": 1,
      "metadata": {
        "colab": {
          "base_uri": "https://localhost:8080/"
        },
        "id": "ueYPQ4350uJX",
        "outputId": "1291d34b-44f5-4e4d-fdfd-1e38776f758f"
      },
      "outputs": [
        {
          "output_type": "stream",
          "name": "stdout",
          "text": [
            "Mounted at /content/drive\n"
          ]
        }
      ],
      "source": [
        "import pandas as pd\n",
        "from google.colab import drive\n",
        "import pathlib\n",
        "import numpy as np\n",
        "from pandas.tseries.holiday import USFederalHolidayCalendar\n",
        "from datetime import datetime, timedelta\n",
        "import gc\n",
        "import matplotlib.pyplot as plt\n",
        "\n",
        "drive.mount('/content/drive',force_remount=True)"
      ]
    },
    {
      "cell_type": "code",
      "source": [
        "data_dir = \"/content/drive/MyDrive/2021-par/yellow_tripdata_2021-01.parquet\"\n",
        "data_dir = pathlib.Path(data_dir)\n",
        "df1 = pd.read_parquet(data_dir)"
      ],
      "metadata": {
        "id": "FzyaeS0y0xB1"
      },
      "execution_count": 2,
      "outputs": []
    },
    {
      "cell_type": "code",
      "source": [
        "df1.shape"
      ],
      "metadata": {
        "colab": {
          "base_uri": "https://localhost:8080/"
        },
        "id": "AptvL-Ffxa3z",
        "outputId": "b6151bdd-f00e-4c58-b832-fffb06eaa638"
      },
      "execution_count": 3,
      "outputs": [
        {
          "output_type": "execute_result",
          "data": {
            "text/plain": [
              "(1369769, 19)"
            ]
          },
          "metadata": {},
          "execution_count": 3
        }
      ]
    },
    {
      "cell_type": "code",
      "source": [
        "df1.drop(columns=['VendorID', 'RatecodeID', 'store_and_fwd_flag', 'payment_type', 'fare_amount', 'extra', 'mta_tax', 'tip_amount', 'tolls_amount', 'improvement_surcharge', 'total_amount', 'congestion_surcharge', 'airport_fee'], inplace=True)"
      ],
      "metadata": {
        "id": "_NJGMmTqx6DA"
      },
      "execution_count": 4,
      "outputs": []
    },
    {
      "cell_type": "code",
      "source": [
        "df1[df1['trip_distance'] < 1.0].shape"
      ],
      "metadata": {
        "colab": {
          "base_uri": "https://localhost:8080/"
        },
        "id": "SWDXwPr_y58D",
        "outputId": "af27bb38-856a-4bf7-d8f5-e3b8d82e49e8"
      },
      "execution_count": 5,
      "outputs": [
        {
          "output_type": "execute_result",
          "data": {
            "text/plain": [
              "(331342, 6)"
            ]
          },
          "metadata": {},
          "execution_count": 5
        }
      ]
    },
    {
      "cell_type": "code",
      "source": [
        "df1 = df1[df1['trip_distance'] >= 1.0]"
      ],
      "metadata": {
        "id": "MikVcIiEzjP4"
      },
      "execution_count": 6,
      "outputs": []
    },
    {
      "cell_type": "code",
      "source": [
        "df1.shape"
      ],
      "metadata": {
        "colab": {
          "base_uri": "https://localhost:8080/"
        },
        "id": "s9ShahTJzpTj",
        "outputId": "7692bfe9-e9d9-453c-b453-08134dfc5c1f"
      },
      "execution_count": 7,
      "outputs": [
        {
          "output_type": "execute_result",
          "data": {
            "text/plain": [
              "(1038427, 6)"
            ]
          },
          "metadata": {},
          "execution_count": 7
        }
      ]
    },
    {
      "cell_type": "code",
      "source": [
        "df1[df1['passenger_count'] == 0].shape"
      ],
      "metadata": {
        "colab": {
          "base_uri": "https://localhost:8080/"
        },
        "id": "pwP2H4OAzsjd",
        "outputId": "5dc68dc8-3654-4fab-d1d6-8a0ccd0c6f2a"
      },
      "execution_count": 8,
      "outputs": [
        {
          "output_type": "execute_result",
          "data": {
            "text/plain": [
              "(19603, 6)"
            ]
          },
          "metadata": {},
          "execution_count": 8
        }
      ]
    },
    {
      "cell_type": "code",
      "source": [
        "df1 = df1[df1['passenger_count'] != 0]"
      ],
      "metadata": {
        "id": "Lf1Y6Pv1zy8t"
      },
      "execution_count": 9,
      "outputs": []
    },
    {
      "cell_type": "code",
      "source": [
        "df1.shape"
      ],
      "metadata": {
        "colab": {
          "base_uri": "https://localhost:8080/"
        },
        "id": "ptVWOk8Xz60A",
        "outputId": "69172296-5635-4f03-e912-3f82e5c31df9"
      },
      "execution_count": 10,
      "outputs": [
        {
          "output_type": "execute_result",
          "data": {
            "text/plain": [
              "(1018824, 6)"
            ]
          },
          "metadata": {},
          "execution_count": 10
        }
      ]
    },
    {
      "cell_type": "code",
      "source": [
        "data_dir = \"/content/drive/MyDrive/2021-par/yellow_tripdata_2021-02.parquet\"\n",
        "data_dir = pathlib.Path(data_dir)\n",
        "df2= pd.read_parquet(data_dir)"
      ],
      "metadata": {
        "id": "2k4mE9X80yMc"
      },
      "execution_count": 11,
      "outputs": []
    },
    {
      "cell_type": "code",
      "source": [
        "df2.shape"
      ],
      "metadata": {
        "colab": {
          "base_uri": "https://localhost:8080/"
        },
        "id": "p-ApwPIR0Pdm",
        "outputId": "943b5511-86e7-4c1a-8d58-d20212a0825a"
      },
      "execution_count": 12,
      "outputs": [
        {
          "output_type": "execute_result",
          "data": {
            "text/plain": [
              "(1371709, 19)"
            ]
          },
          "metadata": {},
          "execution_count": 12
        }
      ]
    },
    {
      "cell_type": "code",
      "source": [
        "df2.drop(columns=['VendorID', 'RatecodeID', 'store_and_fwd_flag', 'payment_type', 'fare_amount', 'extra', 'mta_tax', 'tip_amount', 'tolls_amount', 'improvement_surcharge', 'total_amount', 'congestion_surcharge', 'airport_fee'], inplace=True)\n",
        "print(df2[df2['trip_distance'] < 1.0].shape)\n",
        "df2 = df2[df2['trip_distance'] >= 1.0]\n",
        "print(df2.shape)\n",
        "print(df2[df2['passenger_count'] == 0].shape)\n",
        "df2 = df2[df2['passenger_count'] != 0]\n",
        "df2.shape"
      ],
      "metadata": {
        "colab": {
          "base_uri": "https://localhost:8080/"
        },
        "id": "tessATyh0SGs",
        "outputId": "7f80b9b8-0f90-49bf-b70a-ea4f5bbe6b91"
      },
      "execution_count": 13,
      "outputs": [
        {
          "output_type": "stream",
          "name": "stdout",
          "text": [
            "(327533, 6)\n",
            "(1044176, 6)\n",
            "(19365, 6)\n"
          ]
        },
        {
          "output_type": "execute_result",
          "data": {
            "text/plain": [
              "(1024811, 6)"
            ]
          },
          "metadata": {},
          "execution_count": 13
        }
      ]
    },
    {
      "cell_type": "code",
      "source": [
        "data_dir = \"/content/drive/MyDrive/2021-par/yellow_tripdata_2021-03.parquet\"\n",
        "data_dir = pathlib.Path(data_dir)\n",
        "df3 = pd.read_parquet(data_dir)"
      ],
      "metadata": {
        "id": "fUpO58KzryGy"
      },
      "execution_count": 14,
      "outputs": []
    },
    {
      "cell_type": "code",
      "source": [
        "df3.shape"
      ],
      "metadata": {
        "colab": {
          "base_uri": "https://localhost:8080/"
        },
        "id": "QZqo-oGo1YKc",
        "outputId": "7b488bc8-4217-4c9f-c9c7-55c622e3e870"
      },
      "execution_count": 15,
      "outputs": [
        {
          "output_type": "execute_result",
          "data": {
            "text/plain": [
              "(1925152, 19)"
            ]
          },
          "metadata": {},
          "execution_count": 15
        }
      ]
    },
    {
      "cell_type": "code",
      "source": [
        "df3.drop(columns=['VendorID', 'RatecodeID', 'store_and_fwd_flag', 'payment_type', 'fare_amount', 'extra', 'mta_tax', 'tip_amount', 'tolls_amount', 'improvement_surcharge', 'total_amount', 'congestion_surcharge', 'airport_fee'], inplace=True)\n",
        "print(df3[df3['trip_distance'] < 1.0].shape)\n",
        "df3 = df3[df3['trip_distance'] >= 1.0]\n",
        "print(df3.shape)\n",
        "print(df3[df3['passenger_count'] == 0].shape)\n",
        "df3 = df3[df3['passenger_count'] != 0]\n",
        "df3.shape"
      ],
      "metadata": {
        "colab": {
          "base_uri": "https://localhost:8080/"
        },
        "id": "973DC0KF1PF3",
        "outputId": "6521bd1f-374d-42a6-e12b-72f2f60d0911"
      },
      "execution_count": 16,
      "outputs": [
        {
          "output_type": "stream",
          "name": "stdout",
          "text": [
            "(446625, 6)\n",
            "(1478527, 6)\n",
            "(29899, 6)\n"
          ]
        },
        {
          "output_type": "execute_result",
          "data": {
            "text/plain": [
              "(1448628, 6)"
            ]
          },
          "metadata": {},
          "execution_count": 16
        }
      ]
    },
    {
      "cell_type": "code",
      "source": [
        "data_dir = \"/content/drive/MyDrive/2021-par/yellow_tripdata_2021-04.parquet\"\n",
        "data_dir = pathlib.Path(data_dir)\n",
        "df4 = pd.read_parquet(data_dir)"
      ],
      "metadata": {
        "id": "O5mVCSYHr0O9"
      },
      "execution_count": 17,
      "outputs": []
    },
    {
      "cell_type": "code",
      "source": [
        "df4.shape"
      ],
      "metadata": {
        "colab": {
          "base_uri": "https://localhost:8080/"
        },
        "id": "OBV8hbpw3X3u",
        "outputId": "d1f27f58-f449-406a-a5ba-f854a6329c69"
      },
      "execution_count": 18,
      "outputs": [
        {
          "output_type": "execute_result",
          "data": {
            "text/plain": [
              "(2171187, 19)"
            ]
          },
          "metadata": {},
          "execution_count": 18
        }
      ]
    },
    {
      "cell_type": "code",
      "source": [
        "df4.drop(columns=['VendorID', 'RatecodeID', 'store_and_fwd_flag', 'payment_type', 'fare_amount', 'extra', 'mta_tax', 'tip_amount', 'tolls_amount', 'improvement_surcharge', 'total_amount', 'congestion_surcharge', 'airport_fee'], inplace=True)\n",
        "print(df4[df4['trip_distance'] < 1.0].shape)\n",
        "df4 = df4[df4['trip_distance'] >= 1.0]\n",
        "print(df4.shape)\n",
        "print(df4[df4['passenger_count'] == 0].shape)\n",
        "df4 = df4[df4['passenger_count'] != 0]\n",
        "df4.shape"
      ],
      "metadata": {
        "colab": {
          "base_uri": "https://localhost:8080/"
        },
        "id": "QT0AI4q93aNJ",
        "outputId": "6c10c83a-2338-4255-ef38-2dd56fb37d2d"
      },
      "execution_count": 19,
      "outputs": [
        {
          "output_type": "stream",
          "name": "stdout",
          "text": [
            "(486776, 6)\n",
            "(1684411, 6)\n",
            "(31999, 6)\n"
          ]
        },
        {
          "output_type": "execute_result",
          "data": {
            "text/plain": [
              "(1652412, 6)"
            ]
          },
          "metadata": {},
          "execution_count": 19
        }
      ]
    },
    {
      "cell_type": "code",
      "source": [
        "data_dir = \"/content/drive/MyDrive/2021-par/yellow_tripdata_2021-05.parquet\"\n",
        "data_dir = pathlib.Path(data_dir)\n",
        "df5 = pd.read_parquet(data_dir)"
      ],
      "metadata": {
        "id": "AMxXzdGVr3Ok"
      },
      "execution_count": 20,
      "outputs": []
    },
    {
      "cell_type": "code",
      "source": [
        "df5.shape"
      ],
      "metadata": {
        "colab": {
          "base_uri": "https://localhost:8080/"
        },
        "id": "NPGlxAHX3nnP",
        "outputId": "9af29b74-f514-4247-a923-e90691a57b45"
      },
      "execution_count": 21,
      "outputs": [
        {
          "output_type": "execute_result",
          "data": {
            "text/plain": [
              "(2507109, 19)"
            ]
          },
          "metadata": {},
          "execution_count": 21
        }
      ]
    },
    {
      "cell_type": "code",
      "source": [
        "df5.drop(columns=['VendorID', 'RatecodeID', 'store_and_fwd_flag', 'payment_type', 'fare_amount', 'extra', 'mta_tax', 'tip_amount', 'tolls_amount', 'improvement_surcharge', 'total_amount', 'congestion_surcharge', 'airport_fee'], inplace=True)\n",
        "print(df5[df5['trip_distance'] < 1.0].shape)\n",
        "df5 = df5[df5['trip_distance'] >= 1.0]\n",
        "print(df5.shape)\n",
        "print(df5[df5['passenger_count'] == 0].shape)\n",
        "df5 = df5[df5['passenger_count'] != 0]\n",
        "df5.shape"
      ],
      "metadata": {
        "colab": {
          "base_uri": "https://localhost:8080/"
        },
        "id": "fJLSDHXe3pWK",
        "outputId": "a286f494-0cf5-4fa0-a22d-bf1bf93887ce"
      },
      "execution_count": 22,
      "outputs": [
        {
          "output_type": "stream",
          "name": "stdout",
          "text": [
            "(534270, 6)\n",
            "(1972839, 6)\n",
            "(37808, 6)\n"
          ]
        },
        {
          "output_type": "execute_result",
          "data": {
            "text/plain": [
              "(1935031, 6)"
            ]
          },
          "metadata": {},
          "execution_count": 22
        }
      ]
    },
    {
      "cell_type": "code",
      "source": [
        "data_dir = \"/content/drive/MyDrive/2021-par/yellow_tripdata_2021-06.parquet\"\n",
        "data_dir = pathlib.Path(data_dir)\n",
        "df6 = pd.read_parquet(data_dir)"
      ],
      "metadata": {
        "id": "o0hE4rw7r53t"
      },
      "execution_count": 23,
      "outputs": []
    },
    {
      "cell_type": "code",
      "source": [
        "df6.shape"
      ],
      "metadata": {
        "colab": {
          "base_uri": "https://localhost:8080/"
        },
        "id": "o54O6keB3zBA",
        "outputId": "ea01469b-b9a3-4168-e290-997f3033d054"
      },
      "execution_count": 24,
      "outputs": [
        {
          "output_type": "execute_result",
          "data": {
            "text/plain": [
              "(2834264, 19)"
            ]
          },
          "metadata": {},
          "execution_count": 24
        }
      ]
    },
    {
      "cell_type": "code",
      "source": [
        "df6.drop(columns=['VendorID', 'RatecodeID', 'store_and_fwd_flag', 'payment_type', 'fare_amount', 'extra', 'mta_tax', 'tip_amount', 'tolls_amount', 'improvement_surcharge', 'total_amount', 'congestion_surcharge', 'airport_fee'], inplace=True)\n",
        "print(df6[df6['trip_distance'] < 1.0].shape)\n",
        "df6 = df6[df6['trip_distance'] >= 1.0]\n",
        "print(df6.shape)\n",
        "print(df6[df6['passenger_count'] == 0].shape)\n",
        "df6 = df6[df6['passenger_count'] != 0]\n",
        "df6.shape"
      ],
      "metadata": {
        "colab": {
          "base_uri": "https://localhost:8080/"
        },
        "id": "DIRvXflx31VI",
        "outputId": "efb54707-ae6e-4149-ae68-15ba2fa3804c"
      },
      "execution_count": 25,
      "outputs": [
        {
          "output_type": "stream",
          "name": "stdout",
          "text": [
            "(591290, 6)\n",
            "(2242974, 6)\n",
            "(49533, 6)\n"
          ]
        },
        {
          "output_type": "execute_result",
          "data": {
            "text/plain": [
              "(2193441, 6)"
            ]
          },
          "metadata": {},
          "execution_count": 25
        }
      ]
    },
    {
      "cell_type": "code",
      "source": [
        "data_dir = \"/content/drive/MyDrive/2021-par/yellow_tripdata_2021-07.parquet\"\n",
        "data_dir = pathlib.Path(data_dir)\n",
        "df7 = pd.read_parquet(data_dir)"
      ],
      "metadata": {
        "id": "1D2WsWMir8dF"
      },
      "execution_count": 26,
      "outputs": []
    },
    {
      "cell_type": "code",
      "source": [
        "df7.shape"
      ],
      "metadata": {
        "colab": {
          "base_uri": "https://localhost:8080/"
        },
        "id": "9zf6-UF94DZY",
        "outputId": "5ad60c86-969d-4099-86e0-b410cea2ce7d"
      },
      "execution_count": 27,
      "outputs": [
        {
          "output_type": "execute_result",
          "data": {
            "text/plain": [
              "(2821746, 19)"
            ]
          },
          "metadata": {},
          "execution_count": 27
        }
      ]
    },
    {
      "cell_type": "code",
      "source": [
        "df7.drop(columns=['VendorID', 'RatecodeID', 'store_and_fwd_flag', 'payment_type', 'fare_amount', 'extra', 'mta_tax', 'tip_amount', 'tolls_amount', 'improvement_surcharge', 'total_amount', 'congestion_surcharge', 'airport_fee'], inplace=True)\n",
        "print(df7[df7['trip_distance'] < 1.0].shape)\n",
        "df7 = df7[df7['trip_distance'] >= 1.0]\n",
        "print(df7.shape)\n",
        "print(df7[df7['passenger_count'] == 0].shape)\n",
        "df7 = df7[df7['passenger_count'] != 0]\n",
        "df7.shape"
      ],
      "metadata": {
        "colab": {
          "base_uri": "https://localhost:8080/"
        },
        "id": "JTAUfIwg4GcS",
        "outputId": "e453a0be-73d2-4d3d-ea8e-e2903cc8c1a8"
      },
      "execution_count": 28,
      "outputs": [
        {
          "output_type": "stream",
          "name": "stdout",
          "text": [
            "(567763, 6)\n",
            "(2253983, 6)\n",
            "(49224, 6)\n"
          ]
        },
        {
          "output_type": "execute_result",
          "data": {
            "text/plain": [
              "(2204759, 6)"
            ]
          },
          "metadata": {},
          "execution_count": 28
        }
      ]
    },
    {
      "cell_type": "code",
      "source": [
        "data_dir = \"/content/drive/MyDrive/2021-par/yellow_tripdata_2021-08.parquet\"\n",
        "data_dir = pathlib.Path(data_dir)\n",
        "df8 = pd.read_parquet(data_dir)"
      ],
      "metadata": {
        "id": "P9OA1jqJr_FR"
      },
      "execution_count": 29,
      "outputs": []
    },
    {
      "cell_type": "code",
      "source": [
        "df8.shape"
      ],
      "metadata": {
        "colab": {
          "base_uri": "https://localhost:8080/"
        },
        "id": "ZkxfjKThs6Z4",
        "outputId": "c78cf7f1-0d83-4c79-9665-5514866bcfb0"
      },
      "execution_count": 30,
      "outputs": [
        {
          "output_type": "execute_result",
          "data": {
            "text/plain": [
              "(2788757, 19)"
            ]
          },
          "metadata": {},
          "execution_count": 30
        }
      ]
    },
    {
      "cell_type": "code",
      "source": [
        "df8.drop(columns=['VendorID', 'RatecodeID', 'store_and_fwd_flag', 'payment_type', 'fare_amount', 'extra', 'mta_tax', 'tip_amount', 'tolls_amount', 'improvement_surcharge', 'total_amount', 'congestion_surcharge', 'airport_fee'], inplace=True)\n",
        "print(df8[df8['trip_distance'] < 1.0].shape)\n",
        "df8 = df8[df8['trip_distance'] >= 1.0]\n",
        "print(df8.shape)\n",
        "print(df8[df8['passenger_count'] == 0].shape)\n",
        "df8 = df8[df8['passenger_count'] != 0]\n",
        "df8.shape"
      ],
      "metadata": {
        "colab": {
          "base_uri": "https://localhost:8080/"
        },
        "id": "P5kUEQJU4QsU",
        "outputId": "900cafae-a68a-4aff-e15d-ed3a9692e6d1"
      },
      "execution_count": 31,
      "outputs": [
        {
          "output_type": "stream",
          "name": "stdout",
          "text": [
            "(551044, 6)\n",
            "(2237713, 6)\n",
            "(52751, 6)\n"
          ]
        },
        {
          "output_type": "execute_result",
          "data": {
            "text/plain": [
              "(2184962, 6)"
            ]
          },
          "metadata": {},
          "execution_count": 31
        }
      ]
    },
    {
      "cell_type": "code",
      "source": [
        "data_dir = \"/content/drive/MyDrive/2021-par/yellow_tripdata_2021-09.parquet\"\n",
        "data_dir = pathlib.Path(data_dir)\n",
        "df9 = pd.read_parquet(data_dir)"
      ],
      "metadata": {
        "id": "WBV5STVqsA9-"
      },
      "execution_count": 32,
      "outputs": []
    },
    {
      "cell_type": "code",
      "source": [
        "df9.shape"
      ],
      "metadata": {
        "colab": {
          "base_uri": "https://localhost:8080/"
        },
        "id": "VacltdBm4dQs",
        "outputId": "2206af03-5e34-4e26-a7a9-40144bfde944"
      },
      "execution_count": 33,
      "outputs": [
        {
          "output_type": "execute_result",
          "data": {
            "text/plain": [
              "(2963793, 19)"
            ]
          },
          "metadata": {},
          "execution_count": 33
        }
      ]
    },
    {
      "cell_type": "code",
      "source": [
        "df9.drop(columns=['VendorID', 'RatecodeID', 'store_and_fwd_flag', 'payment_type', 'fare_amount', 'extra', 'mta_tax', 'tip_amount', 'tolls_amount', 'improvement_surcharge', 'total_amount', 'congestion_surcharge', 'airport_fee'], inplace=True)\n",
        "print(df9[df9['trip_distance'] < 1.0].shape)\n",
        "df9 = df9[df9['trip_distance'] >= 1.0]\n",
        "print(df9.shape)\n",
        "print(df9[df9['passenger_count'] == 0].shape)\n",
        "df9 = df9[df9['passenger_count'] != 0]\n",
        "df9.shape"
      ],
      "metadata": {
        "colab": {
          "base_uri": "https://localhost:8080/"
        },
        "id": "y1ZPEAB-4e2G",
        "outputId": "425115aa-bcca-4c15-9774-781ea1f38e86"
      },
      "execution_count": 34,
      "outputs": [
        {
          "output_type": "stream",
          "name": "stdout",
          "text": [
            "(591095, 6)\n",
            "(2372698, 6)\n",
            "(51536, 6)\n"
          ]
        },
        {
          "output_type": "execute_result",
          "data": {
            "text/plain": [
              "(2321162, 6)"
            ]
          },
          "metadata": {},
          "execution_count": 34
        }
      ]
    },
    {
      "cell_type": "code",
      "source": [
        "data_dir = \"/content/drive/MyDrive/2021-par/yellow_tripdata_2021-10.parquet\"\n",
        "data_dir = pathlib.Path(data_dir)\n",
        "df10 = pd.read_parquet(data_dir)"
      ],
      "metadata": {
        "id": "wjbVC5UAsCpy"
      },
      "execution_count": 35,
      "outputs": []
    },
    {
      "cell_type": "code",
      "source": [
        "df10.shape"
      ],
      "metadata": {
        "colab": {
          "base_uri": "https://localhost:8080/"
        },
        "id": "k82PJNBF4yGs",
        "outputId": "0fe961bc-e11a-48c3-9faa-0ac01ef26d29"
      },
      "execution_count": 36,
      "outputs": [
        {
          "output_type": "execute_result",
          "data": {
            "text/plain": [
              "(3463504, 19)"
            ]
          },
          "metadata": {},
          "execution_count": 36
        }
      ]
    },
    {
      "cell_type": "code",
      "source": [
        "df10.drop(columns=['VendorID', 'RatecodeID', 'store_and_fwd_flag', 'payment_type', 'fare_amount', 'extra', 'mta_tax', 'tip_amount', 'tolls_amount', 'improvement_surcharge', 'total_amount', 'congestion_surcharge', 'airport_fee'], inplace=True)\n",
        "print(df10[df10['trip_distance'] < 1.0].shape)\n",
        "df10 = df10[df10['trip_distance'] >= 1.0]\n",
        "print(df10.shape)\n",
        "print(df10[df10['passenger_count'] == 0].shape)\n",
        "df10 = df10[df10['passenger_count'] != 0]\n",
        "df10.shape"
      ],
      "metadata": {
        "colab": {
          "base_uri": "https://localhost:8080/"
        },
        "id": "AgJFOdOM41fP",
        "outputId": "bf11e004-55ed-47d1-ecc2-df1ad1e3095c"
      },
      "execution_count": 37,
      "outputs": [
        {
          "output_type": "stream",
          "name": "stdout",
          "text": [
            "(696358, 6)\n",
            "(2767146, 6)\n",
            "(61113, 6)\n"
          ]
        },
        {
          "output_type": "execute_result",
          "data": {
            "text/plain": [
              "(2706033, 6)"
            ]
          },
          "metadata": {},
          "execution_count": 37
        }
      ]
    },
    {
      "cell_type": "code",
      "source": [
        "data_dir = \"/content/drive/MyDrive/2021-par/yellow_tripdata_2021-11.parquet\"\n",
        "data_dir = pathlib.Path(data_dir)\n",
        "df11 = pd.read_parquet(data_dir)"
      ],
      "metadata": {
        "id": "4uXmwra0sExX"
      },
      "execution_count": 38,
      "outputs": []
    },
    {
      "cell_type": "code",
      "source": [
        "df11.shape"
      ],
      "metadata": {
        "colab": {
          "base_uri": "https://localhost:8080/"
        },
        "id": "55E8D0S35az4",
        "outputId": "6dd4d234-9146-4347-d09b-e6c6d9f1806a"
      },
      "execution_count": 39,
      "outputs": [
        {
          "output_type": "execute_result",
          "data": {
            "text/plain": [
              "(3472949, 19)"
            ]
          },
          "metadata": {},
          "execution_count": 39
        }
      ]
    },
    {
      "cell_type": "code",
      "source": [
        "df11.drop(columns=['VendorID', 'RatecodeID', 'store_and_fwd_flag', 'payment_type', 'fare_amount', 'extra', 'mta_tax', 'tip_amount', 'tolls_amount', 'improvement_surcharge', 'total_amount', 'congestion_surcharge', 'airport_fee'], inplace=True)\n",
        "print(df11[df11['trip_distance'] < 1.0].shape)\n",
        "df11 = df11[df11['trip_distance'] >= 1.0]\n",
        "print(df11.shape)\n",
        "print(df11[df11['passenger_count'] == 0].shape)\n",
        "df11 = df11[df11['passenger_count'] != 0]\n",
        "df11.shape"
      ],
      "metadata": {
        "colab": {
          "base_uri": "https://localhost:8080/"
        },
        "id": "PV8sNiYO5eDJ",
        "outputId": "0444eb45-2a22-4fe9-e45d-cdf8d226b904"
      },
      "execution_count": 40,
      "outputs": [
        {
          "output_type": "stream",
          "name": "stdout",
          "text": [
            "(705241, 6)\n",
            "(2767708, 6)\n",
            "(62526, 6)\n"
          ]
        },
        {
          "output_type": "execute_result",
          "data": {
            "text/plain": [
              "(2705182, 6)"
            ]
          },
          "metadata": {},
          "execution_count": 40
        }
      ]
    },
    {
      "cell_type": "code",
      "source": [
        "data_dir = \"/content/drive/MyDrive/2021-par/yellow_tripdata_2021-12.parquet\"\n",
        "data_dir = pathlib.Path(data_dir)\n",
        "df12 = pd.read_parquet(data_dir)"
      ],
      "metadata": {
        "id": "i1zpLE9lsHJK"
      },
      "execution_count": 41,
      "outputs": []
    },
    {
      "cell_type": "code",
      "source": [
        "df12.shape"
      ],
      "metadata": {
        "colab": {
          "base_uri": "https://localhost:8080/"
        },
        "id": "SbjP94QJ5r_C",
        "outputId": "b5328450-8d04-4f62-c9ba-bacf995ce674"
      },
      "execution_count": 42,
      "outputs": [
        {
          "output_type": "execute_result",
          "data": {
            "text/plain": [
              "(3214369, 19)"
            ]
          },
          "metadata": {},
          "execution_count": 42
        }
      ]
    },
    {
      "cell_type": "code",
      "source": [
        "df12.drop(columns=['VendorID', 'RatecodeID', 'store_and_fwd_flag', 'payment_type', 'fare_amount', 'extra', 'mta_tax', 'tip_amount', 'tolls_amount', 'improvement_surcharge', 'total_amount', 'congestion_surcharge', 'airport_fee'], inplace=True)\n",
        "print(df12[df12['trip_distance'] < 1.0].shape)\n",
        "df12 = df12[df12['trip_distance'] >= 1.0]\n",
        "print(df12.shape)\n",
        "print(df12[df12['passenger_count'] == 0].shape)\n",
        "df12 = df12[df12['passenger_count'] != 0]\n",
        "df12.shape"
      ],
      "metadata": {
        "colab": {
          "base_uri": "https://localhost:8080/"
        },
        "id": "DJq6SU7x5uT_",
        "outputId": "610cfa39-3682-49ea-db91-8442dcad9fe5"
      },
      "execution_count": 43,
      "outputs": [
        {
          "output_type": "stream",
          "name": "stdout",
          "text": [
            "(663463, 6)\n",
            "(2550906, 6)\n",
            "(54940, 6)\n"
          ]
        },
        {
          "output_type": "execute_result",
          "data": {
            "text/plain": [
              "(2495966, 6)"
            ]
          },
          "metadata": {},
          "execution_count": 43
        }
      ]
    },
    {
      "cell_type": "code",
      "source": [
        "frames = [df1, df2, df3, df4, df5, df6, df7, df8, df9, df10, df11, df12]"
      ],
      "metadata": {
        "id": "UEazLVsUsMs5"
      },
      "execution_count": 44,
      "outputs": []
    },
    {
      "cell_type": "code",
      "source": [
        "yelloTaxiData2021 = pd.concat(frames)\n",
        "df1 = df2 = df3= df4 = df5 = df6 = df7 = df8 = df9 = df10 = df11 = df12 = None\n",
        "del df1,df2,df3,df4,df5,df6,df7,df8,df9,df10,df11,df12,frames\n",
        "gc.collect()\n",
        "yelloTaxiData2021"
      ],
      "metadata": {
        "colab": {
          "base_uri": "https://localhost:8080/",
          "height": 424
        },
        "id": "wqYkkaMh6-gk",
        "outputId": "37256847-edc2-4ba4-b5a5-911de0268e08"
      },
      "execution_count": 45,
      "outputs": [
        {
          "output_type": "execute_result",
          "data": {
            "text/plain": [
              "        tpep_pickup_datetime tpep_dropoff_datetime  passenger_count  \\\n",
              "0        2021-01-01 00:30:10   2021-01-01 00:36:12              1.0   \n",
              "2        2021-01-01 00:43:30   2021-01-01 01:11:06              1.0   \n",
              "4        2021-01-01 00:31:49   2021-01-01 00:48:21              1.0   \n",
              "5        2021-01-01 00:16:29   2021-01-01 00:24:30              1.0   \n",
              "6        2021-01-01 00:00:28   2021-01-01 00:17:28              1.0   \n",
              "...                      ...                   ...              ...   \n",
              "3214364  2021-12-31 23:18:02   2021-12-31 23:32:19              NaN   \n",
              "3214365  2021-12-31 23:46:00   2022-01-01 00:07:00              NaN   \n",
              "3214366  2021-12-31 23:46:00   2022-01-01 00:04:00              NaN   \n",
              "3214367  2021-12-31 23:53:00   2022-01-01 00:02:00              NaN   \n",
              "3214368  2021-12-31 23:19:28   2021-12-31 23:26:30              NaN   \n",
              "\n",
              "         trip_distance  PULocationID  DOLocationID  \n",
              "0                 2.10           142            43  \n",
              "2                14.70           132           165  \n",
              "4                 4.94            68            33  \n",
              "5                 1.60           224            68  \n",
              "6                 4.10            95           157  \n",
              "...                ...           ...           ...  \n",
              "3214364           3.99           145           107  \n",
              "3214365           5.96           236           158  \n",
              "3214366           4.99            48            13  \n",
              "3214367           1.36            75            75  \n",
              "3214368           1.99           170           237  \n",
              "\n",
              "[23891211 rows x 6 columns]"
            ],
            "text/html": [
              "\n",
              "  <div id=\"df-164c53b1-b7bc-410f-b432-cc0b5794ebd8\">\n",
              "    <div class=\"colab-df-container\">\n",
              "      <div>\n",
              "<style scoped>\n",
              "    .dataframe tbody tr th:only-of-type {\n",
              "        vertical-align: middle;\n",
              "    }\n",
              "\n",
              "    .dataframe tbody tr th {\n",
              "        vertical-align: top;\n",
              "    }\n",
              "\n",
              "    .dataframe thead th {\n",
              "        text-align: right;\n",
              "    }\n",
              "</style>\n",
              "<table border=\"1\" class=\"dataframe\">\n",
              "  <thead>\n",
              "    <tr style=\"text-align: right;\">\n",
              "      <th></th>\n",
              "      <th>tpep_pickup_datetime</th>\n",
              "      <th>tpep_dropoff_datetime</th>\n",
              "      <th>passenger_count</th>\n",
              "      <th>trip_distance</th>\n",
              "      <th>PULocationID</th>\n",
              "      <th>DOLocationID</th>\n",
              "    </tr>\n",
              "  </thead>\n",
              "  <tbody>\n",
              "    <tr>\n",
              "      <th>0</th>\n",
              "      <td>2021-01-01 00:30:10</td>\n",
              "      <td>2021-01-01 00:36:12</td>\n",
              "      <td>1.0</td>\n",
              "      <td>2.10</td>\n",
              "      <td>142</td>\n",
              "      <td>43</td>\n",
              "    </tr>\n",
              "    <tr>\n",
              "      <th>2</th>\n",
              "      <td>2021-01-01 00:43:30</td>\n",
              "      <td>2021-01-01 01:11:06</td>\n",
              "      <td>1.0</td>\n",
              "      <td>14.70</td>\n",
              "      <td>132</td>\n",
              "      <td>165</td>\n",
              "    </tr>\n",
              "    <tr>\n",
              "      <th>4</th>\n",
              "      <td>2021-01-01 00:31:49</td>\n",
              "      <td>2021-01-01 00:48:21</td>\n",
              "      <td>1.0</td>\n",
              "      <td>4.94</td>\n",
              "      <td>68</td>\n",
              "      <td>33</td>\n",
              "    </tr>\n",
              "    <tr>\n",
              "      <th>5</th>\n",
              "      <td>2021-01-01 00:16:29</td>\n",
              "      <td>2021-01-01 00:24:30</td>\n",
              "      <td>1.0</td>\n",
              "      <td>1.60</td>\n",
              "      <td>224</td>\n",
              "      <td>68</td>\n",
              "    </tr>\n",
              "    <tr>\n",
              "      <th>6</th>\n",
              "      <td>2021-01-01 00:00:28</td>\n",
              "      <td>2021-01-01 00:17:28</td>\n",
              "      <td>1.0</td>\n",
              "      <td>4.10</td>\n",
              "      <td>95</td>\n",
              "      <td>157</td>\n",
              "    </tr>\n",
              "    <tr>\n",
              "      <th>...</th>\n",
              "      <td>...</td>\n",
              "      <td>...</td>\n",
              "      <td>...</td>\n",
              "      <td>...</td>\n",
              "      <td>...</td>\n",
              "      <td>...</td>\n",
              "    </tr>\n",
              "    <tr>\n",
              "      <th>3214364</th>\n",
              "      <td>2021-12-31 23:18:02</td>\n",
              "      <td>2021-12-31 23:32:19</td>\n",
              "      <td>NaN</td>\n",
              "      <td>3.99</td>\n",
              "      <td>145</td>\n",
              "      <td>107</td>\n",
              "    </tr>\n",
              "    <tr>\n",
              "      <th>3214365</th>\n",
              "      <td>2021-12-31 23:46:00</td>\n",
              "      <td>2022-01-01 00:07:00</td>\n",
              "      <td>NaN</td>\n",
              "      <td>5.96</td>\n",
              "      <td>236</td>\n",
              "      <td>158</td>\n",
              "    </tr>\n",
              "    <tr>\n",
              "      <th>3214366</th>\n",
              "      <td>2021-12-31 23:46:00</td>\n",
              "      <td>2022-01-01 00:04:00</td>\n",
              "      <td>NaN</td>\n",
              "      <td>4.99</td>\n",
              "      <td>48</td>\n",
              "      <td>13</td>\n",
              "    </tr>\n",
              "    <tr>\n",
              "      <th>3214367</th>\n",
              "      <td>2021-12-31 23:53:00</td>\n",
              "      <td>2022-01-01 00:02:00</td>\n",
              "      <td>NaN</td>\n",
              "      <td>1.36</td>\n",
              "      <td>75</td>\n",
              "      <td>75</td>\n",
              "    </tr>\n",
              "    <tr>\n",
              "      <th>3214368</th>\n",
              "      <td>2021-12-31 23:19:28</td>\n",
              "      <td>2021-12-31 23:26:30</td>\n",
              "      <td>NaN</td>\n",
              "      <td>1.99</td>\n",
              "      <td>170</td>\n",
              "      <td>237</td>\n",
              "    </tr>\n",
              "  </tbody>\n",
              "</table>\n",
              "<p>23891211 rows × 6 columns</p>\n",
              "</div>\n",
              "      <button class=\"colab-df-convert\" onclick=\"convertToInteractive('df-164c53b1-b7bc-410f-b432-cc0b5794ebd8')\"\n",
              "              title=\"Convert this dataframe to an interactive table.\"\n",
              "              style=\"display:none;\">\n",
              "        \n",
              "  <svg xmlns=\"http://www.w3.org/2000/svg\" height=\"24px\"viewBox=\"0 0 24 24\"\n",
              "       width=\"24px\">\n",
              "    <path d=\"M0 0h24v24H0V0z\" fill=\"none\"/>\n",
              "    <path d=\"M18.56 5.44l.94 2.06.94-2.06 2.06-.94-2.06-.94-.94-2.06-.94 2.06-2.06.94zm-11 1L8.5 8.5l.94-2.06 2.06-.94-2.06-.94L8.5 2.5l-.94 2.06-2.06.94zm10 10l.94 2.06.94-2.06 2.06-.94-2.06-.94-.94-2.06-.94 2.06-2.06.94z\"/><path d=\"M17.41 7.96l-1.37-1.37c-.4-.4-.92-.59-1.43-.59-.52 0-1.04.2-1.43.59L10.3 9.45l-7.72 7.72c-.78.78-.78 2.05 0 2.83L4 21.41c.39.39.9.59 1.41.59.51 0 1.02-.2 1.41-.59l7.78-7.78 2.81-2.81c.8-.78.8-2.07 0-2.86zM5.41 20L4 18.59l7.72-7.72 1.47 1.35L5.41 20z\"/>\n",
              "  </svg>\n",
              "      </button>\n",
              "      \n",
              "  <style>\n",
              "    .colab-df-container {\n",
              "      display:flex;\n",
              "      flex-wrap:wrap;\n",
              "      gap: 12px;\n",
              "    }\n",
              "\n",
              "    .colab-df-convert {\n",
              "      background-color: #E8F0FE;\n",
              "      border: none;\n",
              "      border-radius: 50%;\n",
              "      cursor: pointer;\n",
              "      display: none;\n",
              "      fill: #1967D2;\n",
              "      height: 32px;\n",
              "      padding: 0 0 0 0;\n",
              "      width: 32px;\n",
              "    }\n",
              "\n",
              "    .colab-df-convert:hover {\n",
              "      background-color: #E2EBFA;\n",
              "      box-shadow: 0px 1px 2px rgba(60, 64, 67, 0.3), 0px 1px 3px 1px rgba(60, 64, 67, 0.15);\n",
              "      fill: #174EA6;\n",
              "    }\n",
              "\n",
              "    [theme=dark] .colab-df-convert {\n",
              "      background-color: #3B4455;\n",
              "      fill: #D2E3FC;\n",
              "    }\n",
              "\n",
              "    [theme=dark] .colab-df-convert:hover {\n",
              "      background-color: #434B5C;\n",
              "      box-shadow: 0px 1px 3px 1px rgba(0, 0, 0, 0.15);\n",
              "      filter: drop-shadow(0px 1px 2px rgba(0, 0, 0, 0.3));\n",
              "      fill: #FFFFFF;\n",
              "    }\n",
              "  </style>\n",
              "\n",
              "      <script>\n",
              "        const buttonEl =\n",
              "          document.querySelector('#df-164c53b1-b7bc-410f-b432-cc0b5794ebd8 button.colab-df-convert');\n",
              "        buttonEl.style.display =\n",
              "          google.colab.kernel.accessAllowed ? 'block' : 'none';\n",
              "\n",
              "        async function convertToInteractive(key) {\n",
              "          const element = document.querySelector('#df-164c53b1-b7bc-410f-b432-cc0b5794ebd8');\n",
              "          const dataTable =\n",
              "            await google.colab.kernel.invokeFunction('convertToInteractive',\n",
              "                                                     [key], {});\n",
              "          if (!dataTable) return;\n",
              "\n",
              "          const docLinkHtml = 'Like what you see? Visit the ' +\n",
              "            '<a target=\"_blank\" href=https://colab.research.google.com/notebooks/data_table.ipynb>data table notebook</a>'\n",
              "            + ' to learn more about interactive tables.';\n",
              "          element.innerHTML = '';\n",
              "          dataTable['output_type'] = 'display_data';\n",
              "          await google.colab.output.renderOutput(dataTable, element);\n",
              "          const docLink = document.createElement('div');\n",
              "          docLink.innerHTML = docLinkHtml;\n",
              "          element.appendChild(docLink);\n",
              "        }\n",
              "      </script>\n",
              "    </div>\n",
              "  </div>\n",
              "  "
            ]
          },
          "metadata": {},
          "execution_count": 45
        }
      ]
    },
    {
      "cell_type": "code",
      "source": [
        "yelloTaxiData2021.shape"
      ],
      "metadata": {
        "colab": {
          "base_uri": "https://localhost:8080/"
        },
        "id": "Jxs6j1Fb71d4",
        "outputId": "1bd282fc-82b5-48e0-b703-c3a4c85e92ef"
      },
      "execution_count": 46,
      "outputs": [
        {
          "output_type": "execute_result",
          "data": {
            "text/plain": [
              "(23891211, 6)"
            ]
          },
          "metadata": {},
          "execution_count": 46
        }
      ]
    },
    {
      "cell_type": "code",
      "source": [
        "plt.subplots(figsize=(20,10))\n",
        "plt.title(\"Visualize Outliers\")\n",
        "yelloTaxiData2021.boxplot();"
      ],
      "metadata": {
        "colab": {
          "base_uri": "https://localhost:8080/",
          "height": 664
        },
        "id": "JTmyZGiLl5_8",
        "outputId": "44bdaed7-3952-40ff-e433-61f677d51ae4"
      },
      "execution_count": 47,
      "outputs": [
        {
          "output_type": "stream",
          "name": "stderr",
          "text": [
            "/usr/local/lib/python3.7/dist-packages/matplotlib/cbook/__init__.py:1376: VisibleDeprecationWarning: Creating an ndarray from ragged nested sequences (which is a list-or-tuple of lists-or-tuples-or ndarrays with different lengths or shapes) is deprecated. If you meant to do this, you must specify 'dtype=object' when creating the ndarray.\n",
            "  X = np.atleast_1d(X.T if isinstance(X, np.ndarray) else np.asarray(X))\n"
          ]
        },
        {
          "output_type": "display_data",
          "data": {
            "text/plain": [
              "<Figure size 1440x720 with 1 Axes>"
            ],
            "image/png": "[encoded data removed]"
          },
          "metadata": {
            "needs_background": "light"
          }
        }
      ]
    },
    {
      "cell_type": "code",
      "source": [
        "yelloTaxiData2021[yelloTaxiData2021['trip_distance'] > 345000].shape"
      ],
      "metadata": {
        "colab": {
          "base_uri": "https://localhost:8080/"
        },
        "id": "Dw9QHkQimkfA",
        "outputId": "1e171532-dc75-4f90-ecbd-5ec110b61836"
      },
      "execution_count": 48,
      "outputs": [
        {
          "output_type": "execute_result",
          "data": {
            "text/plain": [
              "(2, 6)"
            ]
          },
          "metadata": {},
          "execution_count": 48
        }
      ]
    },
    {
      "cell_type": "code",
      "source": [
        "yelloTaxiData2021 = yelloTaxiData2021[yelloTaxiData2021['trip_distance'] < 345000]"
      ],
      "metadata": {
        "id": "Tn0kSEBWmyZD"
      },
      "execution_count": 49,
      "outputs": []
    },
    {
      "cell_type": "code",
      "source": [
        "# Calculating the ride duration from the pickup and dropoff date time\n",
        "yelloTaxiData2021['tpep_dropoff_datetime'] = pd.to_datetime(yelloTaxiData2021.tpep_dropoff_datetime)\n",
        "yelloTaxiData2021['tpep_pickup_datetime'] = pd.to_datetime(yelloTaxiData2021.tpep_pickup_datetime)\n",
        "yelloTaxiData2021.loc[:, 'ride_duration'] = (yelloTaxiData2021['tpep_dropoff_datetime'] - yelloTaxiData2021['tpep_pickup_datetime']).astype('timedelta64[s]')"
      ],
      "metadata": {
        "id": "OAgPA33pWicc",
        "colab": {
          "base_uri": "https://localhost:8080/"
        },
        "outputId": "d405c39c-63cf-4c88-dfd3-1cd8c08a1f83"
      },
      "execution_count": 50,
      "outputs": [
        {
          "output_type": "stream",
          "name": "stderr",
          "text": [
            "/usr/local/lib/python3.7/dist-packages/ipykernel_launcher.py:2: SettingWithCopyWarning: \n",
            "A value is trying to be set on a copy of a slice from a DataFrame.\n",
            "Try using .loc[row_indexer,col_indexer] = value instead\n",
            "\n",
            "See the caveats in the documentation: https://pandas.pydata.org/pandas-docs/stable/user_guide/indexing.html#returning-a-view-versus-a-copy\n",
            "  \n",
            "/usr/local/lib/python3.7/dist-packages/ipykernel_launcher.py:3: SettingWithCopyWarning: \n",
            "A value is trying to be set on a copy of a slice from a DataFrame.\n",
            "Try using .loc[row_indexer,col_indexer] = value instead\n",
            "\n",
            "See the caveats in the documentation: https://pandas.pydata.org/pandas-docs/stable/user_guide/indexing.html#returning-a-view-versus-a-copy\n",
            "  This is separate from the ipykernel package so we can avoid doing imports until\n",
            "/usr/local/lib/python3.7/dist-packages/pandas/core/indexing.py:1667: SettingWithCopyWarning: \n",
            "A value is trying to be set on a copy of a slice from a DataFrame.\n",
            "Try using .loc[row_indexer,col_indexer] = value instead\n",
            "\n",
            "See the caveats in the documentation: https://pandas.pydata.org/pandas-docs/stable/user_guide/indexing.html#returning-a-view-versus-a-copy\n",
            "  self.obj[key] = value\n"
          ]
        }
      ]
    },
    {
      "cell_type": "code",
      "source": [
        "plt.subplots(figsize=(20,10))\n",
        "plt.title(\"Visualize Outliers\")\n",
        "yelloTaxiData2021.boxplot(column=['ride_duration']);"
      ],
      "metadata": {
        "colab": {
          "base_uri": "https://localhost:8080/",
          "height": 608
        },
        "id": "ZQM5O2kim8rz",
        "outputId": "d842eb70-0732-4c3e-e0b5-eb5e92fee729"
      },
      "execution_count": 51,
      "outputs": [
        {
          "output_type": "display_data",
          "data": {
            "text/plain": [
              "<Figure size 1440x720 with 1 Axes>"
            ],
            "image/png": "[encoded data removed]"
          },
          "metadata": {
            "needs_background": "light"
          }
        }
      ]
    },
    {
      "cell_type": "code",
      "source": [
        "plt.subplots(figsize=(20,10))\n",
        "plt.title(\"Visualize Outliers\")\n",
        "yelloTaxiData2021.boxplot(column=['ride_duration'], showfliers=False, notch=True);"
      ],
      "metadata": {
        "colab": {
          "base_uri": "https://localhost:8080/",
          "height": 608
        },
        "id": "noyhKRTnm_Kt",
        "outputId": "a5aba80e-2e6d-41fd-bccd-f7213af7162b"
      },
      "execution_count": 52,
      "outputs": [
        {
          "output_type": "display_data",
          "data": {
            "text/plain": [
              "<Figure size 1440x720 with 1 Axes>"
            ],
            "image/png": "[encoded data removed]"
          },
          "metadata": {
            "needs_background": "light"
          }
        }
      ]
    },
    {
      "cell_type": "code",
      "source": [
        "yelloTaxiData2021[yelloTaxiData2021['ride_duration']<=0].shape"
      ],
      "metadata": {
        "colab": {
          "base_uri": "https://localhost:8080/"
        },
        "id": "AdObUPxinPHS",
        "outputId": "252f07cd-2d91-4bc1-a896-f4b397ca4afe"
      },
      "execution_count": 53,
      "outputs": [
        {
          "output_type": "execute_result",
          "data": {
            "text/plain": [
              "(36582, 7)"
            ]
          },
          "metadata": {},
          "execution_count": 53
        }
      ]
    },
    {
      "cell_type": "code",
      "source": [
        "yelloTaxiData2021 = yelloTaxiData2021[yelloTaxiData2021['ride_duration']>0]"
      ],
      "metadata": {
        "id": "u7ElpEFNnUWK"
      },
      "execution_count": 54,
      "outputs": []
    },
    {
      "cell_type": "code",
      "source": [
        "yelloTaxiData2021.shape"
      ],
      "metadata": {
        "colab": {
          "base_uri": "https://localhost:8080/"
        },
        "id": "yEF-Uq_indZR",
        "outputId": "8f5fc7fd-6d1b-47cb-ce9b-d1615b384e72"
      },
      "execution_count": 55,
      "outputs": [
        {
          "output_type": "execute_result",
          "data": {
            "text/plain": [
              "(23854627, 7)"
            ]
          },
          "metadata": {},
          "execution_count": 55
        }
      ]
    },
    {
      "cell_type": "code",
      "source": [
        "yelloTaxiData2021[yelloTaxiData2021['ride_duration']>2500].shape"
      ],
      "metadata": {
        "colab": {
          "base_uri": "https://localhost:8080/"
        },
        "id": "vRsPeDBXnjxF",
        "outputId": "42189fbd-e35f-4306-8137-2f7716f99398"
      },
      "execution_count": 56,
      "outputs": [
        {
          "output_type": "execute_result",
          "data": {
            "text/plain": [
              "(1064341, 7)"
            ]
          },
          "metadata": {},
          "execution_count": 56
        }
      ]
    },
    {
      "cell_type": "code",
      "source": [
        "yelloTaxiData2021 = yelloTaxiData2021[yelloTaxiData2021['ride_duration']<=2500]"
      ],
      "metadata": {
        "id": "8KZ2ove7nncZ"
      },
      "execution_count": 57,
      "outputs": []
    },
    {
      "cell_type": "code",
      "source": [
        "yelloTaxiData2021 = yelloTaxiData2021[yelloTaxiData2021['ride_duration'].between(np.mean(yelloTaxiData2021['ride_duration']) - 2*np.std(yelloTaxiData2021['ride_duration']), np.mean(yelloTaxiData2021['ride_duration']) + 2*np.std(yelloTaxiData2021['ride_duration']), inclusive = True)]"
      ],
      "metadata": {
        "colab": {
          "base_uri": "https://localhost:8080/"
        },
        "id": "hzsl7EetR2h4",
        "outputId": "c289b6ee-cba7-49e2-db59-b1ca75463ee1"
      },
      "execution_count": 58,
      "outputs": [
        {
          "output_type": "stream",
          "name": "stderr",
          "text": [
            "/usr/local/lib/python3.7/dist-packages/ipykernel_launcher.py:1: FutureWarning: Boolean inputs to the `inclusive` argument are deprecated infavour of `both` or `neither`.\n",
            "  \"\"\"Entry point for launching an IPython kernel.\n"
          ]
        }
      ]
    },
    {
      "cell_type": "code",
      "source": [
        "yelloTaxiData2021.shape"
      ],
      "metadata": {
        "colab": {
          "base_uri": "https://localhost:8080/"
        },
        "id": "aHVrn49YnxcP",
        "outputId": "05ac81da-b0cc-47db-bbdb-b298cf0cc0a6"
      },
      "execution_count": 59,
      "outputs": [
        {
          "output_type": "execute_result",
          "data": {
            "text/plain": [
              "(21507479, 7)"
            ]
          },
          "metadata": {},
          "execution_count": 59
        }
      ]
    },
    {
      "cell_type": "code",
      "source": [
        "yelloTaxiData2021.loc[:, 'pickup_date'] = yelloTaxiData2021['tpep_pickup_datetime'].dt.date\n",
        "yelloTaxiData2021.loc[:, 'pickup_time'] = yelloTaxiData2021['tpep_pickup_datetime'].dt.time\n",
        "yelloTaxiData2021.loc[:, 'pickup_weekday'] = yelloTaxiData2021['tpep_pickup_datetime'].dt.weekday\n",
        "yelloTaxiData2021.loc[:, 'pickup_weekofyear'] = yelloTaxiData2021['tpep_pickup_datetime'].dt.weekofyear\n",
        "yelloTaxiData2021.loc[:, 'pickup_hour'] = yelloTaxiData2021['tpep_pickup_datetime'].dt.hour\n",
        "yelloTaxiData2021.loc[:, 'pickup_minute'] = yelloTaxiData2021['tpep_pickup_datetime'].dt.minute\n",
        "yelloTaxiData2021.loc[:, 'pickup_dt'] = (yelloTaxiData2021['tpep_pickup_datetime'] - yelloTaxiData2021['tpep_pickup_datetime'].min()).dt.total_seconds()\n",
        "yelloTaxiData2021.loc[:, 'pickup_week_hour'] = yelloTaxiData2021['pickup_weekday'] * 24 + yelloTaxiData2021['pickup_hour']\n",
        "yelloTaxiData2021.loc[:, 'pickup_dayofyear'] = yelloTaxiData2021['tpep_pickup_datetime'].dt.dayofyear\n",
        "yelloTaxiData2021.loc[:, 'pickup_month'] = yelloTaxiData2021['tpep_pickup_datetime'].dt.month\n",
        "yelloTaxiData2021.loc[:, 'dropoff_date'] = yelloTaxiData2021['tpep_dropoff_datetime'].dt.date\n",
        "yelloTaxiData2021.loc[:, 'dropoff_time'] = yelloTaxiData2021['tpep_dropoff_datetime'].dt.time\n",
        "yelloTaxiData2021.loc[:, 'dropoff_hour'] = yelloTaxiData2021['tpep_dropoff_datetime'].dt.hour\n",
        "yelloTaxiData2021.loc[:, 'dropoff_weekday'] = yelloTaxiData2021['tpep_dropoff_datetime'].dt.weekday\n",
        "yelloTaxiData2021.loc[:, 'dropoff_month'] = yelloTaxiData2021['tpep_dropoff_datetime'].dt.month\n",
        "holidayCalendar = USFederalHolidayCalendar()\n",
        "holidays = holidayCalendar.holidays()\n",
        "yelloTaxiData2021['pickup_holiday'] = pd.to_datetime(yelloTaxiData2021.tpep_pickup_datetime.dt.date).isin(holidays)\n",
        "yelloTaxiData2021['pickup_holiday'] = yelloTaxiData2021.pickup_holiday.map(lambda x: 1 if x == True else 0)\n",
        "yelloTaxiData2021['pickup_near_holiday'] = (pd.to_datetime(yelloTaxiData2021.tpep_pickup_datetime.dt.date).isin(holidays + timedelta(days=1)) | pd.to_datetime(yelloTaxiData2021.tpep_pickup_datetime.dt.date).isin(holidays - timedelta(days=1)))\n",
        "yelloTaxiData2021['pickup_near_holiday'] = yelloTaxiData2021.pickup_near_holiday.map(lambda x: 1 if x == True else 0)"
      ],
      "metadata": {
        "colab": {
          "base_uri": "https://localhost:8080/"
        },
        "id": "kZn3TWwXWqPF",
        "outputId": "62f455d5-14df-4f34-c555-ddcaf571ff2f"
      },
      "execution_count": 60,
      "outputs": [
        {
          "output_type": "stream",
          "name": "stderr",
          "text": [
            "/usr/local/lib/python3.7/dist-packages/ipykernel_launcher.py:4: FutureWarning: Series.dt.weekofyear and Series.dt.week have been deprecated.  Please use Series.dt.isocalendar().week instead.\n",
            "  after removing the cwd from sys.path.\n"
          ]
        }
      ]
    },
    {
      "cell_type": "code",
      "source": [
        "yelloTaxiData2021.head()"
      ],
      "metadata": {
        "colab": {
          "base_uri": "https://localhost:8080/",
          "height": 300
        },
        "id": "JIjfV7DFYkSp",
        "outputId": "5fff9e81-d20a-4e67-d049-3638cc7b889e"
      },
      "execution_count": 61,
      "outputs": [
        {
          "output_type": "execute_result",
          "data": {
            "text/plain": [
              "  tpep_pickup_datetime tpep_dropoff_datetime  passenger_count  trip_distance  \\\n",
              "0  2021-01-01 00:30:10   2021-01-01 00:36:12              1.0           2.10   \n",
              "2  2021-01-01 00:43:30   2021-01-01 01:11:06              1.0          14.70   \n",
              "4  2021-01-01 00:31:49   2021-01-01 00:48:21              1.0           4.94   \n",
              "5  2021-01-01 00:16:29   2021-01-01 00:24:30              1.0           1.60   \n",
              "6  2021-01-01 00:00:28   2021-01-01 00:17:28              1.0           4.10   \n",
              "\n",
              "   PULocationID  DOLocationID  ride_duration pickup_date pickup_time  \\\n",
              "0           142            43          362.0  2021-01-01    00:30:10   \n",
              "2           132           165         1656.0  2021-01-01    00:43:30   \n",
              "4            68            33          992.0  2021-01-01    00:31:49   \n",
              "5           224            68          481.0  2021-01-01    00:16:29   \n",
              "6            95           157         1020.0  2021-01-01    00:00:28   \n",
              "\n",
              "   pickup_weekday  ...  pickup_week_hour  pickup_dayofyear  pickup_month  \\\n",
              "0               4  ...                96                 1             1   \n",
              "2               4  ...                96                 1             1   \n",
              "4               4  ...                96                 1             1   \n",
              "5               4  ...                96                 1             1   \n",
              "6               4  ...                96                 1             1   \n",
              "\n",
              "   dropoff_date  dropoff_time  dropoff_hour  dropoff_weekday dropoff_month  \\\n",
              "0    2021-01-01      00:36:12             0                4             1   \n",
              "2    2021-01-01      01:11:06             1                4             1   \n",
              "4    2021-01-01      00:48:21             0                4             1   \n",
              "5    2021-01-01      00:24:30             0                4             1   \n",
              "6    2021-01-01      00:17:28             0                4             1   \n",
              "\n",
              "  pickup_holiday  pickup_near_holiday  \n",
              "0              1                    0  \n",
              "2              1                    0  \n",
              "4              1                    0  \n",
              "5              1                    0  \n",
              "6              1                    0  \n",
              "\n",
              "[5 rows x 24 columns]"
            ],
            "text/html": [
              "\n",
              "  <div id=\"df-3c08d806-c965-41d4-96f0-ec606dd61423\">\n",
              "    <div class=\"colab-df-container\">\n",
              "      <div>\n",
              "<style scoped>\n",
              "    .dataframe tbody tr th:only-of-type {\n",
              "        vertical-align: middle;\n",
              "    }\n",
              "\n",
              "    .dataframe tbody tr th {\n",
              "        vertical-align: top;\n",
              "    }\n",
              "\n",
              "    .dataframe thead th {\n",
              "        text-align: right;\n",
              "    }\n",
              "</style>\n",
              "<table border=\"1\" class=\"dataframe\">\n",
              "  <thead>\n",
              "    <tr style=\"text-align: right;\">\n",
              "      <th></th>\n",
              "      <th>tpep_pickup_datetime</th>\n",
              "      <th>tpep_dropoff_datetime</th>\n",
              "      <th>passenger_count</th>\n",
              "      <th>trip_distance</th>\n",
              "      <th>PULocationID</th>\n",
              "      <th>DOLocationID</th>\n",
              "      <th>ride_duration</th>\n",
              "      <th>pickup_date</th>\n",
              "      <th>pickup_time</th>\n",
              "      <th>pickup_weekday</th>\n",
              "      <th>...</th>\n",
              "      <th>pickup_week_hour</th>\n",
              "      <th>pickup_dayofyear</th>\n",
              "      <th>pickup_month</th>\n",
              "      <th>dropoff_date</th>\n",
              "      <th>dropoff_time</th>\n",
              "      <th>dropoff_hour</th>\n",
              "      <th>dropoff_weekday</th>\n",
              "      <th>dropoff_month</th>\n",
              "      <th>pickup_holiday</th>\n",
              "      <th>pickup_near_holiday</th>\n",
              "    </tr>\n",
              "  </thead>\n",
              "  <tbody>\n",
              "    <tr>\n",
              "      <th>0</th>\n",
              "      <td>2021-01-01 00:30:10</td>\n",
              "      <td>2021-01-01 00:36:12</td>\n",
              "      <td>1.0</td>\n",
              "      <td>2.10</td>\n",
              "      <td>142</td>\n",
              "      <td>43</td>\n",
              "      <td>362.0</td>\n",
              "      <td>2021-01-01</td>\n",
              "      <td>00:30:10</td>\n",
              "      <td>4</td>\n",
              "      <td>...</td>\n",
              "      <td>96</td>\n",
              "      <td>1</td>\n",
              "      <td>1</td>\n",
              "      <td>2021-01-01</td>\n",
              "      <td>00:36:12</td>\n",
              "      <td>0</td>\n",
              "      <td>4</td>\n",
              "      <td>1</td>\n",
              "      <td>1</td>\n",
              "      <td>0</td>\n",
              "    </tr>\n",
              "    <tr>\n",
              "      <th>2</th>\n",
              "      <td>2021-01-01 00:43:30</td>\n",
              "      <td>2021-01-01 01:11:06</td>\n",
              "      <td>1.0</td>\n",
              "      <td>14.70</td>\n",
              "      <td>132</td>\n",
              "      <td>165</td>\n",
              "      <td>1656.0</td>\n",
              "      <td>2021-01-01</td>\n",
              "      <td>00:43:30</td>\n",
              "      <td>4</td>\n",
              "      <td>...</td>\n",
              "      <td>96</td>\n",
              "      <td>1</td>\n",
              "      <td>1</td>\n",
              "      <td>2021-01-01</td>\n",
              "      <td>01:11:06</td>\n",
              "      <td>1</td>\n",
              "      <td>4</td>\n",
              "      <td>1</td>\n",
              "      <td>1</td>\n",
              "      <td>0</td>\n",
              "    </tr>\n",
              "    <tr>\n",
              "      <th>4</th>\n",
              "      <td>2021-01-01 00:31:49</td>\n",
              "      <td>2021-01-01 00:48:21</td>\n",
              "      <td>1.0</td>\n",
              "      <td>4.94</td>\n",
              "      <td>68</td>\n",
              "      <td>33</td>\n",
              "      <td>992.0</td>\n",
              "      <td>2021-01-01</td>\n",
              "      <td>00:31:49</td>\n",
              "      <td>4</td>\n",
              "      <td>...</td>\n",
              "      <td>96</td>\n",
              "      <td>1</td>\n",
              "      <td>1</td>\n",
              "      <td>2021-01-01</td>\n",
              "      <td>00:48:21</td>\n",
              "      <td>0</td>\n",
              "      <td>4</td>\n",
              "      <td>1</td>\n",
              "      <td>1</td>\n",
              "      <td>0</td>\n",
              "    </tr>\n",
              "    <tr>\n",
              "      <th>5</th>\n",
              "      <td>2021-01-01 00:16:29</td>\n",
              "      <td>2021-01-01 00:24:30</td>\n",
              "      <td>1.0</td>\n",
              "      <td>1.60</td>\n",
              "      <td>224</td>\n",
              "      <td>68</td>\n",
              "      <td>481.0</td>\n",
              "      <td>2021-01-01</td>\n",
              "      <td>00:16:29</td>\n",
              "      <td>4</td>\n",
              "      <td>...</td>\n",
              "      <td>96</td>\n",
              "      <td>1</td>\n",
              "      <td>1</td>\n",
              "      <td>2021-01-01</td>\n",
              "      <td>00:24:30</td>\n",
              "      <td>0</td>\n",
              "      <td>4</td>\n",
              "      <td>1</td>\n",
              "      <td>1</td>\n",
              "      <td>0</td>\n",
              "    </tr>\n",
              "    <tr>\n",
              "      <th>6</th>\n",
              "      <td>2021-01-01 00:00:28</td>\n",
              "      <td>2021-01-01 00:17:28</td>\n",
              "      <td>1.0</td>\n",
              "      <td>4.10</td>\n",
              "      <td>95</td>\n",
              "      <td>157</td>\n",
              "      <td>1020.0</td>\n",
              "      <td>2021-01-01</td>\n",
              "      <td>00:00:28</td>\n",
              "      <td>4</td>\n",
              "      <td>...</td>\n",
              "      <td>96</td>\n",
              "      <td>1</td>\n",
              "      <td>1</td>\n",
              "      <td>2021-01-01</td>\n",
              "      <td>00:17:28</td>\n",
              "      <td>0</td>\n",
              "      <td>4</td>\n",
              "      <td>1</td>\n",
              "      <td>1</td>\n",
              "      <td>0</td>\n",
              "    </tr>\n",
              "  </tbody>\n",
              "</table>\n",
              "<p>5 rows × 24 columns</p>\n",
              "</div>\n",
              "      <button class=\"colab-df-convert\" onclick=\"convertToInteractive('df-3c08d806-c965-41d4-96f0-ec606dd61423')\"\n",
              "              title=\"Convert this dataframe to an interactive table.\"\n",
              "              style=\"display:none;\">\n",
              "        \n",
              "  <svg xmlns=\"http://www.w3.org/2000/svg\" height=\"24px\"viewBox=\"0 0 24 24\"\n",
              "       width=\"24px\">\n",
              "    <path d=\"M0 0h24v24H0V0z\" fill=\"none\"/>\n",
              "    <path d=\"M18.56 5.44l.94 2.06.94-2.06 2.06-.94-2.06-.94-.94-2.06-.94 2.06-2.06.94zm-11 1L8.5 8.5l.94-2.06 2.06-.94-2.06-.94L8.5 2.5l-.94 2.06-2.06.94zm10 10l.94 2.06.94-2.06 2.06-.94-2.06-.94-.94-2.06-.94 2.06-2.06.94z\"/><path d=\"M17.41 7.96l-1.37-1.37c-.4-.4-.92-.59-1.43-.59-.52 0-1.04.2-1.43.59L10.3 9.45l-7.72 7.72c-.78.78-.78 2.05 0 2.83L4 21.41c.39.39.9.59 1.41.59.51 0 1.02-.2 1.41-.59l7.78-7.78 2.81-2.81c.8-.78.8-2.07 0-2.86zM5.41 20L4 18.59l7.72-7.72 1.47 1.35L5.41 20z\"/>\n",
              "  </svg>\n",
              "      </button>\n",
              "      \n",
              "  <style>\n",
              "    .colab-df-container {\n",
              "      display:flex;\n",
              "      flex-wrap:wrap;\n",
              "      gap: 12px;\n",
              "    }\n",
              "\n",
              "    .colab-df-convert {\n",
              "      background-color: #E8F0FE;\n",
              "      border: none;\n",
              "      border-radius: 50%;\n",
              "      cursor: pointer;\n",
              "      display: none;\n",
              "      fill: #1967D2;\n",
              "      height: 32px;\n",
              "      padding: 0 0 0 0;\n",
              "      width: 32px;\n",
              "    }\n",
              "\n",
              "    .colab-df-convert:hover {\n",
              "      background-color: #E2EBFA;\n",
              "      box-shadow: 0px 1px 2px rgba(60, 64, 67, 0.3), 0px 1px 3px 1px rgba(60, 64, 67, 0.15);\n",
              "      fill: #174EA6;\n",
              "    }\n",
              "\n",
              "    [theme=dark] .colab-df-convert {\n",
              "      background-color: #3B4455;\n",
              "      fill: #D2E3FC;\n",
              "    }\n",
              "\n",
              "    [theme=dark] .colab-df-convert:hover {\n",
              "      background-color: #434B5C;\n",
              "      box-shadow: 0px 1px 3px 1px rgba(0, 0, 0, 0.15);\n",
              "      filter: drop-shadow(0px 1px 2px rgba(0, 0, 0, 0.3));\n",
              "      fill: #FFFFFF;\n",
              "    }\n",
              "  </style>\n",
              "\n",
              "      <script>\n",
              "        const buttonEl =\n",
              "          document.querySelector('#df-3c08d806-c965-41d4-96f0-ec606dd61423 button.colab-df-convert');\n",
              "        buttonEl.style.display =\n",
              "          google.colab.kernel.accessAllowed ? 'block' : 'none';\n",
              "\n",
              "        async function convertToInteractive(key) {\n",
              "          const element = document.querySelector('#df-3c08d806-c965-41d4-96f0-ec606dd61423');\n",
              "          const dataTable =\n",
              "            await google.colab.kernel.invokeFunction('convertToInteractive',\n",
              "                                                     [key], {});\n",
              "          if (!dataTable) return;\n",
              "\n",
              "          const docLinkHtml = 'Like what you see? Visit the ' +\n",
              "            '<a target=\"_blank\" href=https://colab.research.google.com/notebooks/data_table.ipynb>data table notebook</a>'\n",
              "            + ' to learn more about interactive tables.';\n",
              "          element.innerHTML = '';\n",
              "          dataTable['output_type'] = 'display_data';\n",
              "          await google.colab.output.renderOutput(dataTable, element);\n",
              "          const docLink = document.createElement('div');\n",
              "          docLink.innerHTML = docLinkHtml;\n",
              "          element.appendChild(docLink);\n",
              "        }\n",
              "      </script>\n",
              "    </div>\n",
              "  </div>\n",
              "  "
            ]
          },
          "metadata": {},
          "execution_count": 61
        }
      ]
    },
    {
      "cell_type": "code",
      "source": [
        "yelloTaxiData2021.shape"
      ],
      "metadata": {
        "colab": {
          "base_uri": "https://localhost:8080/"
        },
        "id": "eQ6bUfeAoRuB",
        "outputId": "6113e7cf-bb1c-487c-faac-0d32db42e399"
      },
      "execution_count": 62,
      "outputs": [
        {
          "output_type": "execute_result",
          "data": {
            "text/plain": [
              "(21507479, 24)"
            ]
          },
          "metadata": {},
          "execution_count": 62
        }
      ]
    },
    {
      "cell_type": "code",
      "source": [
        "yelloTaxiData2021.to_parquet('/content/drive/MyDrive/yellow_tripdata_2021_data.parquet')"
      ],
      "metadata": {
        "id": "8YMOrFBY0z1C"
      },
      "execution_count": 63,
      "outputs": []
    },
    {
      "cell_type": "markdown",
      "source": [],
      "metadata": {
        "id": "nUvZUWNY0wy6"
      }
    }
  ]
}