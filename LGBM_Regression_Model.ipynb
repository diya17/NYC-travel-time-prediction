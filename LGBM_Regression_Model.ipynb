{
  "nbformat": 4,
  "nbformat_minor": 0,
  "metadata": {
    "colab": {
      "provenance": [],
      "machine_shape": "hm"
    },
    "kernelspec": {
      "name": "python3",
      "display_name": "Python 3"
    },
    "language_info": {
      "name": "python"
    },
    "gpuClass": "standard"
  },
  "cells": [
    {
      "cell_type": "code",
      "execution_count": 118,
      "metadata": {
        "colab": {
          "base_uri": "https://localhost:8080/"
        },
        "id": "TbP1SYI7lt5O",
        "outputId": "8271817f-a943-4980-b589-e4496d2dece8"
      },
      "outputs": [
        {
          "output_type": "stream",
          "name": "stdout",
          "text": [
            "Looking in indexes: https://pypi.org/simple, https://us-python.pkg.dev/colab-wheels/public/simple/\n",
            "Requirement already satisfied: ipython-autotime in /usr/local/lib/python3.7/dist-packages (0.3.1)\n",
            "Requirement already satisfied: ipython in /usr/local/lib/python3.7/dist-packages (from ipython-autotime) (7.9.0)\n",
            "Requirement already satisfied: setuptools>=18.5 in /usr/local/lib/python3.7/dist-packages (from ipython->ipython-autotime) (57.4.0)\n",
            "Requirement already satisfied: jedi>=0.10 in /usr/local/lib/python3.7/dist-packages (from ipython->ipython-autotime) (0.18.2)\n",
            "Requirement already satisfied: pexpect in /usr/local/lib/python3.7/dist-packages (from ipython->ipython-autotime) (4.8.0)\n",
            "Requirement already satisfied: pygments in /usr/local/lib/python3.7/dist-packages (from ipython->ipython-autotime) (2.6.1)\n",
            "Requirement already satisfied: pickleshare in /usr/local/lib/python3.7/dist-packages (from ipython->ipython-autotime) (0.7.5)\n",
            "Requirement already satisfied: traitlets>=4.2 in /usr/local/lib/python3.7/dist-packages (from ipython->ipython-autotime) (5.1.1)\n",
            "Requirement already satisfied: backcall in /usr/local/lib/python3.7/dist-packages (from ipython->ipython-autotime) (0.2.0)\n",
            "Requirement already satisfied: prompt-toolkit<2.1.0,>=2.0.0 in /usr/local/lib/python3.7/dist-packages (from ipython->ipython-autotime) (2.0.10)\n",
            "Requirement already satisfied: decorator in /usr/local/lib/python3.7/dist-packages (from ipython->ipython-autotime) (4.4.2)\n",
            "Requirement already satisfied: parso<0.9.0,>=0.8.0 in /usr/local/lib/python3.7/dist-packages (from jedi>=0.10->ipython->ipython-autotime) (0.8.3)\n",
            "Requirement already satisfied: six>=1.9.0 in /usr/local/lib/python3.7/dist-packages (from prompt-toolkit<2.1.0,>=2.0.0->ipython->ipython-autotime) (1.15.0)\n",
            "Requirement already satisfied: wcwidth in /usr/local/lib/python3.7/dist-packages (from prompt-toolkit<2.1.0,>=2.0.0->ipython->ipython-autotime) (0.2.5)\n",
            "Requirement already satisfied: ptyprocess>=0.5 in /usr/local/lib/python3.7/dist-packages (from pexpect->ipython->ipython-autotime) (0.7.0)\n",
            "The autotime extension is already loaded. To reload it, use:\n",
            "  %reload_ext autotime\n",
            "Mounted at /content/drive\n",
            "time: 8.41 s (started: 2022-11-23 04:44:09 +00:00)\n"
          ]
        }
      ],
      "source": [
        "!pip install ipython-autotime\n",
        "%load_ext autotime\n",
        "import pandas as pd\n",
        "from google.colab import drive\n",
        "import pathlib\n",
        "import numpy as np\n",
        "import gc\n",
        "import matplotlib.pyplot as plt\n",
        "from xgboost import XGBRegressor\n",
        "import pyarrow.parquet as pq\n",
        "import lightgbm as lgb\n",
        "from sklearn.model_selection import RandomizedSearchCV\n",
        "from sklearn.model_selection import train_test_split\n",
        "from sklearn.metrics import mean_squared_error\n",
        "from sklearn.metrics import mean_absolute_error\n",
        "from sklearn.preprocessing import MinMaxScaler\n",
        "\n",
        "\n",
        "drive.mount('/content/drive',force_remount=True)"
      ]
    },
    {
      "cell_type": "code",
      "source": [
        "random_state=17"
      ],
      "metadata": {
        "colab": {
          "base_uri": "https://localhost:8080/"
        },
        "id": "1HoVPF1Pl19I",
        "outputId": "e30753a9-caaf-4eb1-94dd-24ac9219a22d"
      },
      "execution_count": 92,
      "outputs": [
        {
          "output_type": "stream",
          "name": "stdout",
          "text": [
            "time: 691 µs (started: 2022-11-23 03:13:14 +00:00)\n"
          ]
        }
      ]
    },
    {
      "cell_type": "code",
      "source": [
        "taxiData = pd.DataFrame()"
      ],
      "metadata": {
        "colab": {
          "base_uri": "https://localhost:8080/"
        },
        "id": "iMG7Aehrl3vk",
        "outputId": "7c30fde9-fbc8-4109-f843-8b7182a3b03f"
      },
      "execution_count": 93,
      "outputs": [
        {
          "output_type": "stream",
          "name": "stdout",
          "text": [
            "time: 1.47 ms (started: 2022-11-23 03:13:14 +00:00)\n"
          ]
        }
      ]
    },
    {
      "cell_type": "code",
      "source": [
        "data_dir = \"/content/drive/MyDrive/yellow_tripdata_2020_data.parquet\"\n",
        "data_dir = pathlib.Path(data_dir)\n",
        "yellowTaxiData2020 = pq.ParquetFile(data_dir)\n",
        "del data_dir"
      ],
      "metadata": {
        "colab": {
          "base_uri": "https://localhost:8080/"
        },
        "id": "Wzd85aEEl6LO",
        "outputId": "d3c44b4d-0ac5-457b-c5d6-3a79d3b0a887"
      },
      "execution_count": 94,
      "outputs": [
        {
          "output_type": "stream",
          "name": "stdout",
          "text": [
            "time: 68.5 ms (started: 2022-11-23 03:13:14 +00:00)\n"
          ]
        }
      ]
    },
    {
      "cell_type": "code",
      "source": [
        "for taxiDataBatch in yellowTaxiData2020.iter_batches(batch_size=2000000):\n",
        "    taxiDataBatchDF = taxiDataBatch.to_pandas()\n",
        "    taxiDataBatchDF.drop(columns=['tpep_pickup_datetime', 'tpep_dropoff_datetime', 'pickup_date', 'pickup_time', 'dropoff_date', 'dropoff_time'], inplace=True)\n",
        "    taxiData = pd.concat([taxiData, taxiDataBatchDF])"
      ],
      "metadata": {
        "colab": {
          "base_uri": "https://localhost:8080/"
        },
        "id": "WyicXH5frT0L",
        "outputId": "409cfced-94a2-4cbb-ffc4-cc4e6e2c9f44"
      },
      "execution_count": 95,
      "outputs": [
        {
          "output_type": "stream",
          "name": "stdout",
          "text": [
            "time: 7.02 s (started: 2022-11-23 03:13:17 +00:00)\n"
          ]
        }
      ]
    },
    {
      "cell_type": "code",
      "source": [
        "taxiData.shape"
      ],
      "metadata": {
        "colab": {
          "base_uri": "https://localhost:8080/"
        },
        "id": "60B0tMrml6s0",
        "outputId": "aab3cf9e-8b09-4989-e9e4-d94accc3a459"
      },
      "execution_count": 96,
      "outputs": [
        {
          "output_type": "execute_result",
          "data": {
            "text/plain": [
              "(4069192, 18)"
            ]
          },
          "metadata": {},
          "execution_count": 96
        },
        {
          "output_type": "stream",
          "name": "stdout",
          "text": [
            "time: 31.2 ms (started: 2022-11-23 03:13:25 +00:00)\n"
          ]
        }
      ]
    },
    {
      "cell_type": "code",
      "source": [
        "del yellowTaxiData2020"
      ],
      "metadata": {
        "colab": {
          "base_uri": "https://localhost:8080/"
        },
        "id": "O_KbmYEgl9dW",
        "outputId": "7f837bf8-d6a1-4498-b208-0607b31830a8"
      },
      "execution_count": 97,
      "outputs": [
        {
          "output_type": "stream",
          "name": "stdout",
          "text": [
            "time: 704 µs (started: 2022-11-23 03:13:28 +00:00)\n"
          ]
        }
      ]
    },
    {
      "cell_type": "code",
      "source": [
        "gc.collect()"
      ],
      "metadata": {
        "colab": {
          "base_uri": "https://localhost:8080/"
        },
        "id": "jclHmuszl_AY",
        "outputId": "d327c6f3-40f5-4bfb-d439-af2fea8d7c35"
      },
      "execution_count": 98,
      "outputs": [
        {
          "output_type": "execute_result",
          "data": {
            "text/plain": [
              "172"
            ]
          },
          "metadata": {},
          "execution_count": 98
        },
        {
          "output_type": "stream",
          "name": "stdout",
          "text": [
            "time: 739 ms (started: 2022-11-23 03:13:30 +00:00)\n"
          ]
        }
      ]
    },
    {
      "cell_type": "code",
      "source": [
        "data_dir = \"/content/drive/MyDrive/yellow_tripdata_2021_data.parquet\"\n",
        "data_dir = pathlib.Path(data_dir)\n",
        "yellowTaxiData2021 = pq.ParquetFile(data_dir)\n",
        "del data_dir"
      ],
      "metadata": {
        "colab": {
          "base_uri": "https://localhost:8080/"
        },
        "id": "9S0PTF_ppBAk",
        "outputId": "31d5cef6-7dd6-49f2-d942-8d57bbe67cc2"
      },
      "execution_count": 99,
      "outputs": [
        {
          "output_type": "stream",
          "name": "stdout",
          "text": [
            "time: 8.96 ms (started: 2022-11-23 03:13:31 +00:00)\n"
          ]
        }
      ]
    },
    {
      "cell_type": "code",
      "source": [
        "gc.collect()"
      ],
      "metadata": {
        "colab": {
          "base_uri": "https://localhost:8080/"
        },
        "id": "fCJFC5jGpIFz",
        "outputId": "7df3fc70-e81e-4def-ce0d-c9140209ddbe"
      },
      "execution_count": 100,
      "outputs": [
        {
          "output_type": "execute_result",
          "data": {
            "text/plain": [
              "88"
            ]
          },
          "metadata": {},
          "execution_count": 100
        },
        {
          "output_type": "stream",
          "name": "stdout",
          "text": [
            "time: 199 ms (started: 2022-11-23 03:13:34 +00:00)\n"
          ]
        }
      ]
    },
    {
      "cell_type": "code",
      "source": [
        "for taxiDataBatch in yellowTaxiData2021.iter_batches(batch_size=2000000):\n",
        "    taxiDataBatchDF = taxiDataBatch.to_pandas()\n",
        "    taxiDataBatchDF.drop(columns=['tpep_pickup_datetime', 'tpep_dropoff_datetime', 'pickup_date', 'pickup_time', 'dropoff_date', 'dropoff_time'], inplace=True)\n",
        "    taxiData = pd.concat([taxiData, taxiDataBatchDF])"
      ],
      "metadata": {
        "colab": {
          "base_uri": "https://localhost:8080/"
        },
        "id": "Fc4O6wHppUXy",
        "outputId": "9581e0c4-a9b0-4f21-b471-c0f8abbf154c"
      },
      "execution_count": 101,
      "outputs": [
        {
          "output_type": "stream",
          "name": "stdout",
          "text": [
            "time: 30.4 s (started: 2022-11-23 03:13:37 +00:00)\n"
          ]
        }
      ]
    },
    {
      "cell_type": "code",
      "source": [
        "scaler = MinMaxScaler()\n",
        "taxiData = pd.DataFrame(scaler.fit_transform(taxiData.values), columns=taxiData.columns, index=taxiData.index)"
      ],
      "metadata": {
        "colab": {
          "base_uri": "https://localhost:8080/"
        },
        "id": "TPErxJ91eWSo",
        "outputId": "ab6c6429-c3ee-46e4-b76c-050d4598a84f"
      },
      "execution_count": 102,
      "outputs": [
        {
          "output_type": "stream",
          "name": "stdout",
          "text": [
            "time: 17.3 s (started: 2022-11-23 03:14:13 +00:00)\n"
          ]
        }
      ]
    },
    {
      "cell_type": "code",
      "source": [
        "X_train, X_test, y_train, y_test = train_test_split(taxiData.loc[:, (taxiData.columns!='ride_duration')], \n",
        "                                                    taxiData.loc[:, 'ride_duration'], \n",
        "                                                    test_size=0.2, \n",
        "                                                    random_state=random_state)"
      ],
      "metadata": {
        "colab": {
          "base_uri": "https://localhost:8080/"
        },
        "id": "9vk_Bwj-pZY_",
        "outputId": "cddb1d08-2737-45ff-fb17-c587b2fccead"
      },
      "execution_count": 104,
      "outputs": [
        {
          "output_type": "stream",
          "name": "stdout",
          "text": [
            "time: 21.3 s (started: 2022-11-23 03:14:56 +00:00)\n"
          ]
        }
      ]
    },
    {
      "cell_type": "code",
      "source": [
        "X_train, X_val, y_train, y_val = train_test_split(taxiData.loc[:, (taxiData.columns!='ride_duration')], \n",
        "                                                    taxiData.loc[:, 'ride_duration'], \n",
        "                                                    test_size=0.2, \n",
        "                                                    random_state=random_state)"
      ],
      "metadata": {
        "colab": {
          "base_uri": "https://localhost:8080/"
        },
        "id": "W-LxkWKmpcsz",
        "outputId": "611b8480-66f4-44ff-a7ba-f9b17a3da859"
      },
      "execution_count": 105,
      "outputs": [
        {
          "output_type": "stream",
          "name": "stdout",
          "text": [
            "time: 23.8 s (started: 2022-11-23 03:15:17 +00:00)\n"
          ]
        }
      ]
    },
    {
      "cell_type": "code",
      "source": [
        "del yellowTaxiData2021\n",
        "del taxiData\n",
        "gc.collect()"
      ],
      "metadata": {
        "colab": {
          "base_uri": "https://localhost:8080/"
        },
        "id": "GiAS8tAspjuE",
        "outputId": "0be41245-3ee8-499c-b12d-0ea280c84207"
      },
      "execution_count": 106,
      "outputs": [
        {
          "output_type": "execute_result",
          "data": {
            "text/plain": [
              "153"
            ]
          },
          "metadata": {},
          "execution_count": 106
        },
        {
          "output_type": "stream",
          "name": "stdout",
          "text": [
            "time: 95.9 ms (started: 2022-11-23 03:16:02 +00:00)\n"
          ]
        }
      ]
    },
    {
      "cell_type": "code",
      "source": [
        "lgbmRegressor = lgb.LGBMRegressor()"
      ],
      "metadata": {
        "colab": {
          "base_uri": "https://localhost:8080/"
        },
        "id": "5ofnN__F5fzQ",
        "outputId": "b480c6d8-fb75-42bd-a808-01b7609947d8"
      },
      "execution_count": 107,
      "outputs": [
        {
          "output_type": "stream",
          "name": "stdout",
          "text": [
            "time: 875 µs (started: 2022-11-23 03:16:07 +00:00)\n"
          ]
        }
      ]
    },
    {
      "cell_type": "code",
      "source": [
        "lgbmParamsForRandomCV = {'n_estimators': [5, 6, 7, 8, 9, 10], 'max_features': ['auto', 'sqrt'], 'max_depth': [10, 15, 20, 25, 30, 35, 40], 'min_samples_split': [2, 5, 10], 'min_samples_leaf': [1, 2, 4]}\n",
        "\n",
        "randomSearchCV = RandomizedSearchCV(estimator = lgbmRegressor, param_distributions = lgbmParamsForRandomCV, n_iter = 10, verbose=2, random_state=random_state, n_jobs = -1)\n",
        "randomSearchCV.fit(X_train[:5000000], y_train[:5000000])\n",
        "print(randomSearchCV.best_estimator_)"
      ],
      "metadata": {
        "colab": {
          "base_uri": "https://localhost:8080/"
        },
        "id": "8MUyKE7vqN3l",
        "outputId": "be3344e2-5b5c-41eb-c6ed-0d00f92229d3"
      },
      "execution_count": 108,
      "outputs": [
        {
          "output_type": "stream",
          "name": "stdout",
          "text": [
            "Fitting 5 folds for each of 10 candidates, totalling 50 fits\n",
            "LGBMRegressor(max_depth=40, max_features='sqrt', min_samples_leaf=2,\n",
            "              min_samples_split=5, n_estimators=10)\n",
            "time: 4min 7s (started: 2022-11-23 03:16:09 +00:00)\n"
          ]
        }
      ]
    },
    {
      "cell_type": "code",
      "source": [
        "lgbmRegressor = lgb.LGBMRegressor(max_depth=40, max_features='sqrt', min_samples_leaf=2,\n",
        "              min_samples_split=5, n_estimators=10, objective='regression', feature_fraction=0.9, bagging_fraction=0.5, max_bin=1000, learning_rate=0.1, random_state=random_state)\n"
      ],
      "metadata": {
        "colab": {
          "base_uri": "https://localhost:8080/"
        },
        "id": "-DQXmocA9tr4",
        "outputId": "b68ec26c-f96e-421f-d67a-7cec1a77da26"
      },
      "execution_count": 109,
      "outputs": [
        {
          "output_type": "stream",
          "name": "stdout",
          "text": [
            "time: 1.1 ms (started: 2022-11-23 03:20:27 +00:00)\n"
          ]
        }
      ]
    },
    {
      "cell_type": "code",
      "source": [
        "lgbmRegressor.fit(X_train, y_train, eval_set=[(X_val, y_val)], eval_metric='l1',callbacks=[lgb.early_stopping(20)])"
      ],
      "metadata": {
        "colab": {
          "base_uri": "https://localhost:8080/"
        },
        "id": "SgynYnt1A3sL",
        "outputId": "bea51e16-7711-4421-a9d2-2b1dd75c377d"
      },
      "execution_count": 110,
      "outputs": [
        {
          "output_type": "stream",
          "name": "stdout",
          "text": [
            "[1]\tvalid_0's l1: 0.163832\tvalid_0's l2: 0.040337\n",
            "Training until validation scores don't improve for 20 rounds.\n",
            "[2]\tvalid_0's l1: 0.153269\tvalid_0's l2: 0.035597\n",
            "[3]\tvalid_0's l1: 0.144177\tvalid_0's l2: 0.031751\n",
            "[4]\tvalid_0's l1: 0.136353\tvalid_0's l2: 0.0286089\n",
            "[5]\tvalid_0's l1: 0.129572\tvalid_0's l2: 0.026024\n",
            "[6]\tvalid_0's l1: 0.123772\tvalid_0's l2: 0.0239192\n",
            "[7]\tvalid_0's l1: 0.11879\tvalid_0's l2: 0.0221901\n",
            "[8]\tvalid_0's l1: 0.114496\tvalid_0's l2: 0.020764\n",
            "[9]\tvalid_0's l1: 0.11382\tvalid_0's l2: 0.0205308\n",
            "[10]\tvalid_0's l1: 0.113275\tvalid_0's l2: 0.0203421\n",
            "Did not meet early stopping. Best iteration is:\n",
            "[10]\tvalid_0's l1: 0.113275\tvalid_0's l2: 0.0203421\n"
          ]
        },
        {
          "output_type": "execute_result",
          "data": {
            "text/plain": [
              "LGBMRegressor(bagging_fraction=0.5, feature_fraction=0.9, max_bin=1000,\n",
              "              max_depth=40, max_features='sqrt', min_samples_leaf=2,\n",
              "              min_samples_split=5, n_estimators=10, objective='regression',\n",
              "              random_state=17)"
            ]
          },
          "metadata": {},
          "execution_count": 110
        },
        {
          "output_type": "stream",
          "name": "stdout",
          "text": [
            "time: 37.1 s (started: 2022-11-23 03:20:43 +00:00)\n"
          ]
        }
      ]
    },
    {
      "cell_type": "code",
      "source": [
        "predictions_train = lgbmRegressor.predict(X_train, num_iteration=lgbmRegressor.best_iteration_)"
      ],
      "metadata": {
        "colab": {
          "base_uri": "https://localhost:8080/"
        },
        "id": "DOOQNArRpeOb",
        "outputId": "29bc928f-dbac-42b5-d375-594747854e6d"
      },
      "execution_count": 116,
      "outputs": [
        {
          "output_type": "stream",
          "name": "stdout",
          "text": [
            "time: 18.5 s (started: 2022-11-23 04:02:04 +00:00)\n"
          ]
        }
      ]
    },
    {
      "cell_type": "code",
      "source": [
        "predictions = lgbmRegressor.predict(X_test, num_iteration=lgbmRegressor.best_iteration_)"
      ],
      "metadata": {
        "colab": {
          "base_uri": "https://localhost:8080/"
        },
        "id": "UjCLMs-HDF1L",
        "outputId": "e70413ef-1cda-4ae1-b474-6fdc80607c87"
      },
      "execution_count": 111,
      "outputs": [
        {
          "output_type": "stream",
          "name": "stdout",
          "text": [
            "time: 2.28 s (started: 2022-11-23 03:21:58 +00:00)\n"
          ]
        }
      ]
    },
    {
      "cell_type": "code",
      "source": [
        "rmse_train = mean_squared_error(y_train, predictions_train)**0.5\n",
        "print(f'The RMSE of training prediction is: {rmse_train}')"
      ],
      "metadata": {
        "colab": {
          "base_uri": "https://localhost:8080/"
        },
        "id": "pCJ8PnqspnoU",
        "outputId": "a0ff96ab-5b67-4153-8b62-ab4c2fbeb141"
      },
      "execution_count": 117,
      "outputs": [
        {
          "output_type": "stream",
          "name": "stdout",
          "text": [
            "The RMSE of training prediction is: 0.14264482481396076\n",
            "time: 282 ms (started: 2022-11-23 04:02:55 +00:00)\n"
          ]
        }
      ]
    },
    {
      "cell_type": "code",
      "source": [
        "mse_train = mean_squared_error(y_train, predictions_train)\n",
        "print(f'The MSE of training prediction is: {mse_train}')"
      ],
      "metadata": {
        "colab": {
          "base_uri": "https://localhost:8080/"
        },
        "id": "HN73x_piysoU",
        "outputId": "809a8ca9-861e-4637-bd0f-04dd72fd38de"
      },
      "execution_count": 120,
      "outputs": [
        {
          "output_type": "stream",
          "name": "stdout",
          "text": [
            "The MSE of training prediction is: 0.020347546046205554\n",
            "time: 139 ms (started: 2022-11-23 04:46:19 +00:00)\n"
          ]
        }
      ]
    },
    {
      "cell_type": "code",
      "source": [
        "mae_train = mean_absolute_error(y_train, predictions_train)\n",
        "print(f'The MAE of training prediction is: {mae_train}')"
      ],
      "metadata": {
        "colab": {
          "base_uri": "https://localhost:8080/"
        },
        "id": "XXNQ9uHMzVpb",
        "outputId": "488bf363-e160-49a8-c37c-cdb020c19e25"
      },
      "execution_count": 121,
      "outputs": [
        {
          "output_type": "stream",
          "name": "stdout",
          "text": [
            "The MAE of training prediction is: 0.11329334110638502\n",
            "time: 394 ms (started: 2022-11-23 04:46:29 +00:00)\n"
          ]
        }
      ]
    },
    {
      "cell_type": "code",
      "source": [
        "rmse_test = mean_squared_error(y_test, predictions)**0.5\n",
        "print(f'The RMSE of prediction is: {rmse_test}')"
      ],
      "metadata": {
        "colab": {
          "base_uri": "https://localhost:8080/"
        },
        "id": "DqVqmfE7DUgx",
        "outputId": "4a3a5611-8c3a-485b-dcc8-c2079314efe6"
      },
      "execution_count": 112,
      "outputs": [
        {
          "output_type": "stream",
          "name": "stdout",
          "text": [
            "The RMSE of prediction is: 0.14262587545327904\n",
            "time: 40.5 ms (started: 2022-11-23 03:22:05 +00:00)\n"
          ]
        }
      ]
    },
    {
      "cell_type": "code",
      "source": [
        "mse_test = mean_squared_error(y_test, predictions)\n",
        "print(f'The MSE of prediction is: {mse_test}')"
      ],
      "metadata": {
        "colab": {
          "base_uri": "https://localhost:8080/"
        },
        "id": "N1JdF82ty13x",
        "outputId": "08b78c59-864e-466c-e82b-72dc3ea19f0b"
      },
      "execution_count": 122,
      "outputs": [
        {
          "output_type": "stream",
          "name": "stdout",
          "text": [
            "The MSE of prediction is: 0.02034214034881426\n",
            "time: 143 ms (started: 2022-11-23 04:46:37 +00:00)\n"
          ]
        }
      ]
    },
    {
      "cell_type": "code",
      "source": [
        "mae_test = mean_absolute_error(y_test, predictions)\n",
        "print(f'The MAE of training prediction is: {mae_test}')"
      ],
      "metadata": {
        "colab": {
          "base_uri": "https://localhost:8080/"
        },
        "id": "vnS3FTb1zRBs",
        "outputId": "bdad23cc-3161-48fa-b95e-f1aefb9bd798"
      },
      "execution_count": 123,
      "outputs": [
        {
          "output_type": "stream",
          "name": "stdout",
          "text": [
            "The MAE of training prediction is: 0.11327522834307302\n",
            "time: 61.1 ms (started: 2022-11-23 04:46:48 +00:00)\n"
          ]
        }
      ]
    },
    {
      "cell_type": "code",
      "source": [
        "lgb.plot_importance(lgbmRegressor, figsize=(10, 9))"
      ],
      "metadata": {
        "colab": {
          "base_uri": "https://localhost:8080/",
          "height": 603
        },
        "id": "zgmA1gCqLO2x",
        "outputId": "7161df11-d1dc-4ea5-ec24-6b991e1579d1"
      },
      "execution_count": 113,
      "outputs": [
        {
          "output_type": "execute_result",
          "data": {
            "text/plain": [
              "<matplotlib.axes._subplots.AxesSubplot at 0x7f1c7b9dec10>"
            ]
          },
          "metadata": {},
          "execution_count": 113
        },
        {
          "output_type": "display_data",
          "data": {
            "text/plain": [
              "<Figure size 720x648 with 1 Axes>"
            ],
            "image/png": "[encoded data removed]"
          },
          "metadata": {
            "needs_background": "light"
          }
        },
        {
          "output_type": "stream",
          "name": "stdout",
          "text": [
            "time: 322 ms (started: 2022-11-23 03:22:09 +00:00)\n"
          ]
        }
      ]
    }
  ]
}