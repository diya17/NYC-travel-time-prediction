{
  "nbformat": 4,
  "nbformat_minor": 0,
  "metadata": {
    "colab": {
      "provenance": []
    },
    "kernelspec": {
      "name": "python3",
      "display_name": "Python 3"
    },
    "language_info": {
      "name": "python"
    },
    "gpuClass": "standard"
  },
  "cells": [
    {
      "cell_type": "code",
      "execution_count": 2,
      "metadata": {
        "colab": {
          "base_uri": "https://localhost:8080/"
        },
        "id": "ueYPQ4350uJX",
        "outputId": "9febe80f-24b8-482c-ed02-887992d9cd8b"
      },
      "outputs": [
        {
          "output_type": "stream",
          "name": "stdout",
          "text": [
            "Mounted at /content/drive\n"
          ]
        }
      ],
      "source": [
        "import pandas as pd\n",
        "from google.colab import drive\n",
        "import pathlib\n",
        "import numpy as np\n",
        "from pandas.tseries.holiday import USFederalHolidayCalendar\n",
        "from datetime import datetime, timedelta\n",
        "import gc\n",
        "import matplotlib.pyplot as plt\n",
        "\n",
        "\n",
        "drive.mount('/content/drive',force_remount=True)"
      ]
    },
    {
      "cell_type": "code",
      "source": [
        "data_dir = \"/content/drive/MyDrive/2020-par/yellow_tripdata_2020-09.parquet\"\n",
        "data_dir = pathlib.Path(data_dir)\n",
        "df9 = pd.read_parquet(data_dir)"
      ],
      "metadata": {
        "id": "WBV5STVqsA9-"
      },
      "execution_count": null,
      "outputs": []
    },
    {
      "cell_type": "code",
      "source": [
        "df9.shape"
      ],
      "metadata": {
        "id": "VacltdBm4dQs"
      },
      "execution_count": null,
      "outputs": []
    },
    {
      "cell_type": "code",
      "source": [
        "df9.drop(columns=['VendorID', 'RatecodeID', 'store_and_fwd_flag', 'payment_type', 'fare_amount', 'extra', 'mta_tax', 'tip_amount', 'tolls_amount', 'improvement_surcharge', 'total_amount', 'congestion_surcharge', 'airport_fee'], inplace=True)\n",
        "print(df9[df9['trip_distance'] < 1.0].shape)\n",
        "df9 = df9[df9['trip_distance'] >= 1.0]\n",
        "print(df9.shape)\n",
        "print(df9[df9['passenger_count'] == 0].shape)\n",
        "df9 = df9[df9['passenger_count'] != 0]\n",
        "df9.shape"
      ],
      "metadata": {
        "id": "y1ZPEAB-4e2G"
      },
      "execution_count": null,
      "outputs": []
    },
    {
      "cell_type": "code",
      "source": [
        "data_dir = \"/content/drive/MyDrive/2020-par/yellow_tripdata_2020-10.parquet\"\n",
        "data_dir = pathlib.Path(data_dir)\n",
        "df10 = pd.read_parquet(data_dir)"
      ],
      "metadata": {
        "id": "wjbVC5UAsCpy"
      },
      "execution_count": null,
      "outputs": []
    },
    {
      "cell_type": "code",
      "source": [
        "df10.shape"
      ],
      "metadata": {
        "id": "k82PJNBF4yGs"
      },
      "execution_count": null,
      "outputs": []
    },
    {
      "cell_type": "code",
      "source": [
        "df10.drop(columns=['VendorID', 'RatecodeID', 'store_and_fwd_flag', 'payment_type', 'fare_amount', 'extra', 'mta_tax', 'tip_amount', 'tolls_amount', 'improvement_surcharge', 'total_amount', 'congestion_surcharge', 'airport_fee'], inplace=True)\n",
        "print(df10[df10['trip_distance'] < 1.0].shape)\n",
        "df10 = df10[df10['trip_distance'] >= 1.0]\n",
        "print(df10.shape)\n",
        "print(df10[df10['passenger_count'] == 0].shape)\n",
        "df10 = df10[df10['passenger_count'] != 0]\n",
        "df10.shape"
      ],
      "metadata": {
        "colab": {
          "base_uri": "https://localhost:8080/",
          "height": 258
        },
        "id": "AgJFOdOM41fP",
        "outputId": "5f7926b6-9291-4e58-f2ff-36f0bdbdafbf"
      },
      "execution_count": 2,
      "outputs": [
        {
          "output_type": "error",
          "ename": "NameError",
          "evalue": "ignored",
          "traceback": [
            "\u001b[0;31m---------------------------------------------------------------------------\u001b[0m",
            "\u001b[0;31mNameError\u001b[0m                                 Traceback (most recent call last)",
            "\u001b[0;32m<ipython-input-2-37c241093284>\u001b[0m in \u001b[0;36m<module>\u001b[0;34m\u001b[0m\n\u001b[0;32m----> 1\u001b[0;31m \u001b[0mdf10\u001b[0m\u001b[0;34m.\u001b[0m\u001b[0mdrop\u001b[0m\u001b[0;34m(\u001b[0m\u001b[0mcolumns\u001b[0m\u001b[0;34m=\u001b[0m\u001b[0;34m[\u001b[0m\u001b[0;34m'VendorID'\u001b[0m\u001b[0;34m,\u001b[0m \u001b[0;34m'RatecodeID'\u001b[0m\u001b[0;34m,\u001b[0m \u001b[0;34m'store_and_fwd_flag'\u001b[0m\u001b[0;34m,\u001b[0m \u001b[0;34m'payment_type'\u001b[0m\u001b[0;34m,\u001b[0m \u001b[0;34m'fare_amount'\u001b[0m\u001b[0;34m,\u001b[0m \u001b[0;34m'extra'\u001b[0m\u001b[0;34m,\u001b[0m \u001b[0;34m'mta_tax'\u001b[0m\u001b[0;34m,\u001b[0m \u001b[0;34m'tip_amount'\u001b[0m\u001b[0;34m,\u001b[0m \u001b[0;34m'tolls_amount'\u001b[0m\u001b[0;34m,\u001b[0m \u001b[0;34m'improvement_surcharge'\u001b[0m\u001b[0;34m,\u001b[0m \u001b[0;34m'total_amount'\u001b[0m\u001b[0;34m,\u001b[0m \u001b[0;34m'congestion_surcharge'\u001b[0m\u001b[0;34m,\u001b[0m \u001b[0;34m'airport_fee'\u001b[0m\u001b[0;34m]\u001b[0m\u001b[0;34m,\u001b[0m \u001b[0minplace\u001b[0m\u001b[0;34m=\u001b[0m\u001b[0;32mTrue\u001b[0m\u001b[0;34m)\u001b[0m\u001b[0;34m\u001b[0m\u001b[0;34m\u001b[0m\u001b[0m\n\u001b[0m\u001b[1;32m      2\u001b[0m \u001b[0mprint\u001b[0m\u001b[0;34m(\u001b[0m\u001b[0mdf10\u001b[0m\u001b[0;34m[\u001b[0m\u001b[0mdf10\u001b[0m\u001b[0;34m[\u001b[0m\u001b[0;34m'trip_distance'\u001b[0m\u001b[0;34m]\u001b[0m \u001b[0;34m<\u001b[0m \u001b[0;36m1.0\u001b[0m\u001b[0;34m]\u001b[0m\u001b[0;34m.\u001b[0m\u001b[0mshape\u001b[0m\u001b[0;34m)\u001b[0m\u001b[0;34m\u001b[0m\u001b[0;34m\u001b[0m\u001b[0m\n\u001b[1;32m      3\u001b[0m \u001b[0mdf10\u001b[0m \u001b[0;34m=\u001b[0m \u001b[0mdf10\u001b[0m\u001b[0;34m[\u001b[0m\u001b[0mdf10\u001b[0m\u001b[0;34m[\u001b[0m\u001b[0;34m'trip_distance'\u001b[0m\u001b[0;34m]\u001b[0m \u001b[0;34m>=\u001b[0m \u001b[0;36m1.0\u001b[0m\u001b[0;34m]\u001b[0m\u001b[0;34m\u001b[0m\u001b[0;34m\u001b[0m\u001b[0m\n\u001b[1;32m      4\u001b[0m \u001b[0mprint\u001b[0m\u001b[0;34m(\u001b[0m\u001b[0mdf10\u001b[0m\u001b[0;34m.\u001b[0m\u001b[0mshape\u001b[0m\u001b[0;34m)\u001b[0m\u001b[0;34m\u001b[0m\u001b[0;34m\u001b[0m\u001b[0m\n\u001b[1;32m      5\u001b[0m \u001b[0mprint\u001b[0m\u001b[0;34m(\u001b[0m\u001b[0mdf10\u001b[0m\u001b[0;34m[\u001b[0m\u001b[0mdf10\u001b[0m\u001b[0;34m[\u001b[0m\u001b[0;34m'passenger_count'\u001b[0m\u001b[0;34m]\u001b[0m \u001b[0;34m==\u001b[0m \u001b[0;36m0\u001b[0m\u001b[0;34m]\u001b[0m\u001b[0;34m.\u001b[0m\u001b[0mshape\u001b[0m\u001b[0;34m)\u001b[0m\u001b[0;34m\u001b[0m\u001b[0;34m\u001b[0m\u001b[0m\n",
            "\u001b[0;31mNameError\u001b[0m: name 'df10' is not defined"
          ]
        }
      ]
    },
    {
      "cell_type": "code",
      "source": [
        "data_dir = \"/content/drive/MyDrive/2020-par/yellow_tripdata_2020-11.parquet\"\n",
        "data_dir = pathlib.Path(data_dir)\n",
        "df11 = pd.read_parquet(data_dir)"
      ],
      "metadata": {
        "id": "4uXmwra0sExX"
      },
      "execution_count": 8,
      "outputs": []
    },
    {
      "cell_type": "code",
      "source": [
        "df11.shape"
      ],
      "metadata": {
        "colab": {
          "base_uri": "https://localhost:8080/"
        },
        "id": "55E8D0S35az4",
        "outputId": "5eaaef48-43b9-4644-f37f-54d785b2cefd"
      },
      "execution_count": 9,
      "outputs": [
        {
          "output_type": "execute_result",
          "data": {
            "text/plain": [
              "(1509000, 19)"
            ]
          },
          "metadata": {},
          "execution_count": 9
        }
      ]
    },
    {
      "cell_type": "code",
      "source": [
        "df11.drop(columns=['VendorID', 'RatecodeID', 'store_and_fwd_flag', 'payment_type', 'fare_amount', 'extra', 'mta_tax', 'tip_amount', 'tolls_amount', 'improvement_surcharge', 'total_amount', 'congestion_surcharge', 'airport_fee'], inplace=True)\n",
        "print(df11[df11['trip_distance'] < 1.0].shape)\n",
        "df11 = df11[df11['trip_distance'] >= 1.0]\n",
        "print(df11.shape)\n",
        "print(df11[df11['passenger_count'] == 0].shape)\n",
        "df11 = df11[df11['passenger_count'] != 0]\n",
        "df11.shape"
      ],
      "metadata": {
        "colab": {
          "base_uri": "https://localhost:8080/"
        },
        "id": "PV8sNiYO5eDJ",
        "outputId": "541ba393-1d91-4817-c216-e1e3635a2312"
      },
      "execution_count": 10,
      "outputs": [
        {
          "output_type": "stream",
          "name": "stdout",
          "text": [
            "(362312, 6)\n",
            "(1146688, 6)\n",
            "(21164, 6)\n"
          ]
        },
        {
          "output_type": "execute_result",
          "data": {
            "text/plain": [
              "(1125524, 6)"
            ]
          },
          "metadata": {},
          "execution_count": 10
        }
      ]
    },
    {
      "cell_type": "code",
      "source": [
        "data_dir = \"/content/drive/MyDrive/2020-par/yellow_tripdata_2020-12.parquet\"\n",
        "data_dir = pathlib.Path(data_dir)\n",
        "df12 = pd.read_parquet(data_dir)"
      ],
      "metadata": {
        "id": "i1zpLE9lsHJK"
      },
      "execution_count": 11,
      "outputs": []
    },
    {
      "cell_type": "code",
      "source": [
        "df12.shape"
      ],
      "metadata": {
        "colab": {
          "base_uri": "https://localhost:8080/"
        },
        "id": "SbjP94QJ5r_C",
        "outputId": "dff7b6dc-c5ef-4407-f649-cb9af54d29e5"
      },
      "execution_count": 12,
      "outputs": [
        {
          "output_type": "execute_result",
          "data": {
            "text/plain": [
              "(1461898, 19)"
            ]
          },
          "metadata": {},
          "execution_count": 12
        }
      ]
    },
    {
      "cell_type": "code",
      "source": [
        "df12.drop(columns=['VendorID', 'RatecodeID', 'store_and_fwd_flag', 'payment_type', 'fare_amount', 'extra', 'mta_tax', 'tip_amount', 'tolls_amount', 'improvement_surcharge', 'total_amount', 'congestion_surcharge', 'airport_fee'], inplace=True)\n",
        "print(df12[df12['trip_distance'] < 1.0].shape)\n",
        "df12 = df12[df12['trip_distance'] >= 1.0]\n",
        "print(df12.shape)\n",
        "print(df12[df12['passenger_count'] == 0].shape)\n",
        "df12 = df12[df12['passenger_count'] != 0]\n",
        "df12.shape"
      ],
      "metadata": {
        "colab": {
          "base_uri": "https://localhost:8080/"
        },
        "id": "DJq6SU7x5uT_",
        "outputId": "e371ded9-050e-461c-e8d4-ef7d6f148fa3"
      },
      "execution_count": 13,
      "outputs": [
        {
          "output_type": "stream",
          "name": "stdout",
          "text": [
            "(366190, 6)\n",
            "(1095708, 6)\n",
            "(20344, 6)\n"
          ]
        },
        {
          "output_type": "execute_result",
          "data": {
            "text/plain": [
              "(1075364, 6)"
            ]
          },
          "metadata": {},
          "execution_count": 13
        }
      ]
    },
    {
      "cell_type": "code",
      "source": [
        "frames = [df9, df10, df11, df12]"
      ],
      "metadata": {
        "id": "UEazLVsUsMs5"
      },
      "execution_count": 14,
      "outputs": []
    },
    {
      "cell_type": "code",
      "source": [
        "yelloTaxiData2020 = pd.concat(frames)\n",
        "df1 = df2 = df3= df4 = df5 = df6 = df7 = df8 = df9 = df10 = df11 = df12 = None\n",
        "del df1,df2,df3,df4,df5,df6,df7,df8,df9,df10,df11,df12,frames\n",
        "yelloTaxiData2020"
      ],
      "metadata": {
        "colab": {
          "base_uri": "https://localhost:8080/",
          "height": 424
        },
        "id": "wqYkkaMh6-gk",
        "outputId": "50d40e6c-f30e-412d-a066-f4c74f3447bf"
      },
      "execution_count": 15,
      "outputs": [
        {
          "output_type": "execute_result",
          "data": {
            "text/plain": [
              "        tpep_pickup_datetime tpep_dropoff_datetime  passenger_count  \\\n",
              "0        2020-09-01 00:38:58   2020-09-01 01:08:12              1.0   \n",
              "1        2020-09-01 00:55:26   2020-09-01 01:15:34              1.0   \n",
              "2        2020-09-01 00:00:40   2020-09-01 00:10:25              5.0   \n",
              "3        2020-09-01 00:26:01   2020-09-01 00:35:50              1.0   \n",
              "4        2020-09-01 00:29:09   2020-09-01 01:00:33              1.0   \n",
              "...                      ...                   ...              ...   \n",
              "1461893  2020-12-31 23:44:35   2021-01-01 00:01:22              NaN   \n",
              "1461894  2020-12-31 23:41:36   2020-12-31 23:50:32              NaN   \n",
              "1461895  2020-12-31 23:01:17   2020-12-31 23:40:37              NaN   \n",
              "1461896  2020-12-31 23:31:29   2020-12-31 23:44:22              NaN   \n",
              "1461897  2020-12-31 23:12:48   2020-12-31 23:24:51              NaN   \n",
              "\n",
              "         trip_distance  PULocationID  DOLocationID  \n",
              "0                10.76           132            62  \n",
              "1                 6.37            48           129  \n",
              "2                 2.32           102            37  \n",
              "3                 1.82           137           246  \n",
              "4                 4.90            79           170  \n",
              "...                ...           ...           ...  \n",
              "1461893           9.22           143            20  \n",
              "1461894           4.79             4           262  \n",
              "1461895          28.00           210            78  \n",
              "1461896           7.08           148           129  \n",
              "1461897           2.35            18           235  \n",
              "\n",
              "[4463757 rows x 6 columns]"
            ],
            "text/html": [
              "\n",
              "  <div id=\"df-9452b74d-ec11-4ab9-bef0-b27a6497c486\">\n",
              "    <div class=\"colab-df-container\">\n",
              "      <div>\n",
              "<style scoped>\n",
              "    .dataframe tbody tr th:only-of-type {\n",
              "        vertical-align: middle;\n",
              "    }\n",
              "\n",
              "    .dataframe tbody tr th {\n",
              "        vertical-align: top;\n",
              "    }\n",
              "\n",
              "    .dataframe thead th {\n",
              "        text-align: right;\n",
              "    }\n",
              "</style>\n",
              "<table border=\"1\" class=\"dataframe\">\n",
              "  <thead>\n",
              "    <tr style=\"text-align: right;\">\n",
              "      <th></th>\n",
              "      <th>tpep_pickup_datetime</th>\n",
              "      <th>tpep_dropoff_datetime</th>\n",
              "      <th>passenger_count</th>\n",
              "      <th>trip_distance</th>\n",
              "      <th>PULocationID</th>\n",
              "      <th>DOLocationID</th>\n",
              "    </tr>\n",
              "  </thead>\n",
              "  <tbody>\n",
              "    <tr>\n",
              "      <th>0</th>\n",
              "      <td>2020-09-01 00:38:58</td>\n",
              "      <td>2020-09-01 01:08:12</td>\n",
              "      <td>1.0</td>\n",
              "      <td>10.76</td>\n",
              "      <td>132</td>\n",
              "      <td>62</td>\n",
              "    </tr>\n",
              "    <tr>\n",
              "      <th>1</th>\n",
              "      <td>2020-09-01 00:55:26</td>\n",
              "      <td>2020-09-01 01:15:34</td>\n",
              "      <td>1.0</td>\n",
              "      <td>6.37</td>\n",
              "      <td>48</td>\n",
              "      <td>129</td>\n",
              "    </tr>\n",
              "    <tr>\n",
              "      <th>2</th>\n",
              "      <td>2020-09-01 00:00:40</td>\n",
              "      <td>2020-09-01 00:10:25</td>\n",
              "      <td>5.0</td>\n",
              "      <td>2.32</td>\n",
              "      <td>102</td>\n",
              "      <td>37</td>\n",
              "    </tr>\n",
              "    <tr>\n",
              "      <th>3</th>\n",
              "      <td>2020-09-01 00:26:01</td>\n",
              "      <td>2020-09-01 00:35:50</td>\n",
              "      <td>1.0</td>\n",
              "      <td>1.82</td>\n",
              "      <td>137</td>\n",
              "      <td>246</td>\n",
              "    </tr>\n",
              "    <tr>\n",
              "      <th>4</th>\n",
              "      <td>2020-09-01 00:29:09</td>\n",
              "      <td>2020-09-01 01:00:33</td>\n",
              "      <td>1.0</td>\n",
              "      <td>4.90</td>\n",
              "      <td>79</td>\n",
              "      <td>170</td>\n",
              "    </tr>\n",
              "    <tr>\n",
              "      <th>...</th>\n",
              "      <td>...</td>\n",
              "      <td>...</td>\n",
              "      <td>...</td>\n",
              "      <td>...</td>\n",
              "      <td>...</td>\n",
              "      <td>...</td>\n",
              "    </tr>\n",
              "    <tr>\n",
              "      <th>1461893</th>\n",
              "      <td>2020-12-31 23:44:35</td>\n",
              "      <td>2021-01-01 00:01:22</td>\n",
              "      <td>NaN</td>\n",
              "      <td>9.22</td>\n",
              "      <td>143</td>\n",
              "      <td>20</td>\n",
              "    </tr>\n",
              "    <tr>\n",
              "      <th>1461894</th>\n",
              "      <td>2020-12-31 23:41:36</td>\n",
              "      <td>2020-12-31 23:50:32</td>\n",
              "      <td>NaN</td>\n",
              "      <td>4.79</td>\n",
              "      <td>4</td>\n",
              "      <td>262</td>\n",
              "    </tr>\n",
              "    <tr>\n",
              "      <th>1461895</th>\n",
              "      <td>2020-12-31 23:01:17</td>\n",
              "      <td>2020-12-31 23:40:37</td>\n",
              "      <td>NaN</td>\n",
              "      <td>28.00</td>\n",
              "      <td>210</td>\n",
              "      <td>78</td>\n",
              "    </tr>\n",
              "    <tr>\n",
              "      <th>1461896</th>\n",
              "      <td>2020-12-31 23:31:29</td>\n",
              "      <td>2020-12-31 23:44:22</td>\n",
              "      <td>NaN</td>\n",
              "      <td>7.08</td>\n",
              "      <td>148</td>\n",
              "      <td>129</td>\n",
              "    </tr>\n",
              "    <tr>\n",
              "      <th>1461897</th>\n",
              "      <td>2020-12-31 23:12:48</td>\n",
              "      <td>2020-12-31 23:24:51</td>\n",
              "      <td>NaN</td>\n",
              "      <td>2.35</td>\n",
              "      <td>18</td>\n",
              "      <td>235</td>\n",
              "    </tr>\n",
              "  </tbody>\n",
              "</table>\n",
              "<p>4463757 rows × 6 columns</p>\n",
              "</div>\n",
              "      <button class=\"colab-df-convert\" onclick=\"convertToInteractive('df-9452b74d-ec11-4ab9-bef0-b27a6497c486')\"\n",
              "              title=\"Convert this dataframe to an interactive table.\"\n",
              "              style=\"display:none;\">\n",
              "        \n",
              "  <svg xmlns=\"http://www.w3.org/2000/svg\" height=\"24px\"viewBox=\"0 0 24 24\"\n",
              "       width=\"24px\">\n",
              "    <path d=\"M0 0h24v24H0V0z\" fill=\"none\"/>\n",
              "    <path d=\"M18.56 5.44l.94 2.06.94-2.06 2.06-.94-2.06-.94-.94-2.06-.94 2.06-2.06.94zm-11 1L8.5 8.5l.94-2.06 2.06-.94-2.06-.94L8.5 2.5l-.94 2.06-2.06.94zm10 10l.94 2.06.94-2.06 2.06-.94-2.06-.94-.94-2.06-.94 2.06-2.06.94z\"/><path d=\"M17.41 7.96l-1.37-1.37c-.4-.4-.92-.59-1.43-.59-.52 0-1.04.2-1.43.59L10.3 9.45l-7.72 7.72c-.78.78-.78 2.05 0 2.83L4 21.41c.39.39.9.59 1.41.59.51 0 1.02-.2 1.41-.59l7.78-7.78 2.81-2.81c.8-.78.8-2.07 0-2.86zM5.41 20L4 18.59l7.72-7.72 1.47 1.35L5.41 20z\"/>\n",
              "  </svg>\n",
              "      </button>\n",
              "      \n",
              "  <style>\n",
              "    .colab-df-container {\n",
              "      display:flex;\n",
              "      flex-wrap:wrap;\n",
              "      gap: 12px;\n",
              "    }\n",
              "\n",
              "    .colab-df-convert {\n",
              "      background-color: #E8F0FE;\n",
              "      border: none;\n",
              "      border-radius: 50%;\n",
              "      cursor: pointer;\n",
              "      display: none;\n",
              "      fill: #1967D2;\n",
              "      height: 32px;\n",
              "      padding: 0 0 0 0;\n",
              "      width: 32px;\n",
              "    }\n",
              "\n",
              "    .colab-df-convert:hover {\n",
              "      background-color: #E2EBFA;\n",
              "      box-shadow: 0px 1px 2px rgba(60, 64, 67, 0.3), 0px 1px 3px 1px rgba(60, 64, 67, 0.15);\n",
              "      fill: #174EA6;\n",
              "    }\n",
              "\n",
              "    [theme=dark] .colab-df-convert {\n",
              "      background-color: #3B4455;\n",
              "      fill: #D2E3FC;\n",
              "    }\n",
              "\n",
              "    [theme=dark] .colab-df-convert:hover {\n",
              "      background-color: #434B5C;\n",
              "      box-shadow: 0px 1px 3px 1px rgba(0, 0, 0, 0.15);\n",
              "      filter: drop-shadow(0px 1px 2px rgba(0, 0, 0, 0.3));\n",
              "      fill: #FFFFFF;\n",
              "    }\n",
              "  </style>\n",
              "\n",
              "      <script>\n",
              "        const buttonEl =\n",
              "          document.querySelector('#df-9452b74d-ec11-4ab9-bef0-b27a6497c486 button.colab-df-convert');\n",
              "        buttonEl.style.display =\n",
              "          google.colab.kernel.accessAllowed ? 'block' : 'none';\n",
              "\n",
              "        async function convertToInteractive(key) {\n",
              "          const element = document.querySelector('#df-9452b74d-ec11-4ab9-bef0-b27a6497c486');\n",
              "          const dataTable =\n",
              "            await google.colab.kernel.invokeFunction('convertToInteractive',\n",
              "                                                     [key], {});\n",
              "          if (!dataTable) return;\n",
              "\n",
              "          const docLinkHtml = 'Like what you see? Visit the ' +\n",
              "            '<a target=\"_blank\" href=https://colab.research.google.com/notebooks/data_table.ipynb>data table notebook</a>'\n",
              "            + ' to learn more about interactive tables.';\n",
              "          element.innerHTML = '';\n",
              "          dataTable['output_type'] = 'display_data';\n",
              "          await google.colab.output.renderOutput(dataTable, element);\n",
              "          const docLink = document.createElement('div');\n",
              "          docLink.innerHTML = docLinkHtml;\n",
              "          element.appendChild(docLink);\n",
              "        }\n",
              "      </script>\n",
              "    </div>\n",
              "  </div>\n",
              "  "
            ]
          },
          "metadata": {},
          "execution_count": 15
        }
      ]
    },
    {
      "cell_type": "code",
      "source": [
        "yelloTaxiData2020.shape"
      ],
      "metadata": {
        "colab": {
          "base_uri": "https://localhost:8080/"
        },
        "id": "Jxs6j1Fb71d4",
        "outputId": "b06511f4-325c-4e69-b36b-039f64fea207"
      },
      "execution_count": 16,
      "outputs": [
        {
          "output_type": "execute_result",
          "data": {
            "text/plain": [
              "(4463757, 6)"
            ]
          },
          "metadata": {},
          "execution_count": 16
        }
      ]
    },
    {
      "cell_type": "code",
      "source": [
        "plt.subplots(figsize=(20,10))\n",
        "plt.title(\"Visualize Outliers\")\n",
        "yelloTaxiData2020.boxplot();"
      ],
      "metadata": {
        "colab": {
          "base_uri": "https://localhost:8080/",
          "height": 664
        },
        "id": "7BTZyvY6hW7D",
        "outputId": "bc0e9a9b-7d18-4fd5-d685-45847d79f2dc"
      },
      "execution_count": 17,
      "outputs": [
        {
          "output_type": "stream",
          "name": "stderr",
          "text": [
            "/usr/local/lib/python3.7/dist-packages/matplotlib/cbook/__init__.py:1376: VisibleDeprecationWarning: Creating an ndarray from ragged nested sequences (which is a list-or-tuple of lists-or-tuples-or ndarrays with different lengths or shapes) is deprecated. If you meant to do this, you must specify 'dtype=object' when creating the ndarray.\n",
            "  X = np.atleast_1d(X.T if isinstance(X, np.ndarray) else np.asarray(X))\n"
          ]
        },
        {
          "output_type": "display_data",
          "data": {
            "text/plain": [
              "<Figure size 1440x720 with 1 Axes>"
            ],
            "image/png": "[encoded data removed]"
          },
          "metadata": {
            "needs_background": "light"
          }
        }
      ]
    },
    {
      "cell_type": "code",
      "source": [
        "yelloTaxiData2020[yelloTaxiData2020['trip_distance'] > 200000].shape"
      ],
      "metadata": {
        "colab": {
          "base_uri": "https://localhost:8080/"
        },
        "id": "RnGmI-0Dh_fu",
        "outputId": "569e90cc-5f29-4451-c875-d61917f83ee4"
      },
      "execution_count": 18,
      "outputs": [
        {
          "output_type": "execute_result",
          "data": {
            "text/plain": [
              "(11, 6)"
            ]
          },
          "metadata": {},
          "execution_count": 18
        }
      ]
    },
    {
      "cell_type": "code",
      "source": [
        "yelloTaxiData2020 = yelloTaxiData2020[yelloTaxiData2020['trip_distance'] < 200000]"
      ],
      "metadata": {
        "id": "okNjkamviRzq"
      },
      "execution_count": 19,
      "outputs": []
    },
    {
      "cell_type": "code",
      "source": [
        "gc.collect()"
      ],
      "metadata": {
        "colab": {
          "base_uri": "https://localhost:8080/"
        },
        "id": "VBoRW4gAib_r",
        "outputId": "3d532739-3ecc-484f-fe85-360641a2d411"
      },
      "execution_count": 20,
      "outputs": [
        {
          "output_type": "execute_result",
          "data": {
            "text/plain": [
              "4491"
            ]
          },
          "metadata": {},
          "execution_count": 20
        }
      ]
    },
    {
      "cell_type": "code",
      "source": [
        "# Calculating the ride duration from the pickup and dropoff date time\n",
        "yelloTaxiData2020['tpep_dropoff_datetime'] = pd.to_datetime(yelloTaxiData2020.tpep_dropoff_datetime)\n",
        "yelloTaxiData2020['tpep_pickup_datetime'] = pd.to_datetime(yelloTaxiData2020.tpep_pickup_datetime)\n",
        "yelloTaxiData2020.loc[:, 'ride_duration'] = (yelloTaxiData2020['tpep_dropoff_datetime'] - yelloTaxiData2020['tpep_pickup_datetime']).astype('timedelta64[s]')"
      ],
      "metadata": {
        "id": "EjeVMfi6O2HJ",
        "colab": {
          "base_uri": "https://localhost:8080/"
        },
        "outputId": "2e3304d8-254f-4cf8-990e-c6ab07b5b6d8"
      },
      "execution_count": 21,
      "outputs": [
        {
          "output_type": "stream",
          "name": "stderr",
          "text": [
            "/usr/local/lib/python3.7/dist-packages/ipykernel_launcher.py:2: SettingWithCopyWarning: \n",
            "A value is trying to be set on a copy of a slice from a DataFrame.\n",
            "Try using .loc[row_indexer,col_indexer] = value instead\n",
            "\n",
            "See the caveats in the documentation: https://pandas.pydata.org/pandas-docs/stable/user_guide/indexing.html#returning-a-view-versus-a-copy\n",
            "  \n",
            "/usr/local/lib/python3.7/dist-packages/ipykernel_launcher.py:3: SettingWithCopyWarning: \n",
            "A value is trying to be set on a copy of a slice from a DataFrame.\n",
            "Try using .loc[row_indexer,col_indexer] = value instead\n",
            "\n",
            "See the caveats in the documentation: https://pandas.pydata.org/pandas-docs/stable/user_guide/indexing.html#returning-a-view-versus-a-copy\n",
            "  This is separate from the ipykernel package so we can avoid doing imports until\n",
            "/usr/local/lib/python3.7/dist-packages/pandas/core/indexing.py:1667: SettingWithCopyWarning: \n",
            "A value is trying to be set on a copy of a slice from a DataFrame.\n",
            "Try using .loc[row_indexer,col_indexer] = value instead\n",
            "\n",
            "See the caveats in the documentation: https://pandas.pydata.org/pandas-docs/stable/user_guide/indexing.html#returning-a-view-versus-a-copy\n",
            "  self.obj[key] = value\n"
          ]
        }
      ]
    },
    {
      "cell_type": "code",
      "source": [
        "plt.subplots(figsize=(20,10))\n",
        "plt.title(\"Visualize Outliers\")\n",
        "yelloTaxiData2020.boxplot(column=['ride_duration']);"
      ],
      "metadata": {
        "colab": {
          "base_uri": "https://localhost:8080/",
          "height": 608
        },
        "id": "vtr0ZpTFimgr",
        "outputId": "8f52bd65-1fcb-44f9-816f-bd9c20c162a0"
      },
      "execution_count": 22,
      "outputs": [
        {
          "output_type": "display_data",
          "data": {
            "text/plain": [
              "<Figure size 1440x720 with 1 Axes>"
            ],
            "image/png": "[encoded data removed]"
          },
          "metadata": {
            "needs_background": "light"
          }
        }
      ]
    },
    {
      "cell_type": "code",
      "source": [
        "plt.subplots(figsize=(20,10))\n",
        "plt.title(\"Visualize Outliers\")\n",
        "yelloTaxiData2020.boxplot(column=['ride_duration'], showfliers=False, notch=True);"
      ],
      "metadata": {
        "colab": {
          "base_uri": "https://localhost:8080/",
          "height": 608
        },
        "id": "0nEO2WRgi0tZ",
        "outputId": "e1b44235-26a5-45be-dec1-070eefa6d49f"
      },
      "execution_count": 23,
      "outputs": [
        {
          "output_type": "display_data",
          "data": {
            "text/plain": [
              "<Figure size 1440x720 with 1 Axes>"
            ],
            "image/png": "[encoded data removed]"
          },
          "metadata": {
            "needs_background": "light"
          }
        }
      ]
    },
    {
      "cell_type": "code",
      "source": [
        "yelloTaxiData2020[yelloTaxiData2020['ride_duration']<=0].shape"
      ],
      "metadata": {
        "colab": {
          "base_uri": "https://localhost:8080/"
        },
        "id": "YwBIqsxHi_05",
        "outputId": "acb83895-6d85-4de6-f458-77c6d2521c99"
      },
      "execution_count": 24,
      "outputs": [
        {
          "output_type": "execute_result",
          "data": {
            "text/plain": [
              "(18967, 7)"
            ]
          },
          "metadata": {},
          "execution_count": 24
        }
      ]
    },
    {
      "cell_type": "code",
      "source": [
        "yelloTaxiData2020 = yelloTaxiData2020[yelloTaxiData2020['ride_duration']>0]"
      ],
      "metadata": {
        "id": "GLQp8V2PjKJ7"
      },
      "execution_count": 25,
      "outputs": []
    },
    {
      "cell_type": "code",
      "source": [
        "yelloTaxiData2020.shape"
      ],
      "metadata": {
        "colab": {
          "base_uri": "https://localhost:8080/"
        },
        "id": "YojGRcEGjQDP",
        "outputId": "d09c069d-55da-4eb8-ec84-0133710c1b01"
      },
      "execution_count": 26,
      "outputs": [
        {
          "output_type": "execute_result",
          "data": {
            "text/plain": [
              "(4444779, 7)"
            ]
          },
          "metadata": {},
          "execution_count": 26
        }
      ]
    },
    {
      "cell_type": "code",
      "source": [
        "yelloTaxiData2020[yelloTaxiData2020['ride_duration']>2500].shape"
      ],
      "metadata": {
        "colab": {
          "base_uri": "https://localhost:8080/"
        },
        "id": "oCaGqbqrjTek",
        "outputId": "83a5b649-7f4d-4bd2-fbd8-f9dd6e516b14"
      },
      "execution_count": 27,
      "outputs": [
        {
          "output_type": "execute_result",
          "data": {
            "text/plain": [
              "(136222, 7)"
            ]
          },
          "metadata": {},
          "execution_count": 27
        }
      ]
    },
    {
      "cell_type": "code",
      "source": [
        "yelloTaxiData2020 = yelloTaxiData2020[yelloTaxiData2020['ride_duration']<=2500]"
      ],
      "metadata": {
        "id": "C2En3scHjtd9"
      },
      "execution_count": 28,
      "outputs": []
    },
    {
      "cell_type": "code",
      "source": [
        "\n",
        "yelloTaxiData2020 = yelloTaxiData2020[yelloTaxiData2020['ride_duration'].between(np.mean(yelloTaxiData2020['ride_duration']) - 2*np.std(yelloTaxiData2020['ride_duration']), np.mean(yelloTaxiData2020['ride_duration']) + 2*np.std(yelloTaxiData2020['ride_duration']), inclusive = True)]"
      ],
      "metadata": {
        "colab": {
          "base_uri": "https://localhost:8080/"
        },
        "id": "pqjz2iYSP-t_",
        "outputId": "a6a48a57-9bbe-4ecc-f341-5ad387accc86"
      },
      "execution_count": 29,
      "outputs": [
        {
          "output_type": "stream",
          "name": "stderr",
          "text": [
            "/usr/local/lib/python3.7/dist-packages/ipykernel_launcher.py:1: FutureWarning: Boolean inputs to the `inclusive` argument are deprecated infavour of `both` or `neither`.\n",
            "  \"\"\"Entry point for launching an IPython kernel.\n"
          ]
        }
      ]
    },
    {
      "cell_type": "code",
      "source": [
        "yelloTaxiData2020.shape"
      ],
      "metadata": {
        "colab": {
          "base_uri": "https://localhost:8080/"
        },
        "id": "cJtRl24RRUr9",
        "outputId": "963b454b-c280-4310-ebba-842de2d03b27"
      },
      "execution_count": 30,
      "outputs": [
        {
          "output_type": "execute_result",
          "data": {
            "text/plain": [
              "(4069192, 7)"
            ]
          },
          "metadata": {},
          "execution_count": 30
        }
      ]
    },
    {
      "cell_type": "code",
      "source": [
        "yelloTaxiData2020.loc[:, 'pickup_date'] = yelloTaxiData2020['tpep_pickup_datetime'].dt.date\n",
        "yelloTaxiData2020.loc[:, 'pickup_time'] = yelloTaxiData2020['tpep_pickup_datetime'].dt.time\n",
        "yelloTaxiData2020.loc[:, 'pickup_weekday'] = yelloTaxiData2020['tpep_pickup_datetime'].dt.weekday\n",
        "yelloTaxiData2020.loc[:, 'pickup_weekofyear'] = yelloTaxiData2020['tpep_pickup_datetime'].dt.weekofyear\n",
        "yelloTaxiData2020.loc[:, 'pickup_hour'] = yelloTaxiData2020['tpep_pickup_datetime'].dt.hour\n",
        "yelloTaxiData2020.loc[:, 'pickup_minute'] = yelloTaxiData2020['tpep_pickup_datetime'].dt.minute\n",
        "yelloTaxiData2020.loc[:, 'pickup_dt'] = (yelloTaxiData2020['tpep_pickup_datetime'] - yelloTaxiData2020['tpep_pickup_datetime'].min()).dt.total_seconds()\n",
        "yelloTaxiData2020.loc[:, 'pickup_week_hour'] = yelloTaxiData2020['pickup_weekday'] * 24 + yelloTaxiData2020['pickup_hour']\n",
        "yelloTaxiData2020.loc[:, 'pickup_dayofyear'] = yelloTaxiData2020['tpep_pickup_datetime'].dt.dayofyear\n",
        "yelloTaxiData2020.loc[:, 'pickup_month'] = yelloTaxiData2020['tpep_pickup_datetime'].dt.month\n",
        "yelloTaxiData2020.loc[:, 'dropoff_date'] = yelloTaxiData2020['tpep_dropoff_datetime'].dt.date\n",
        "yelloTaxiData2020.loc[:, 'dropoff_time'] = yelloTaxiData2020['tpep_dropoff_datetime'].dt.time\n",
        "yelloTaxiData2020.loc[:, 'dropoff_hour'] = yelloTaxiData2020['tpep_dropoff_datetime'].dt.hour\n",
        "yelloTaxiData2020.loc[:, 'dropoff_weekday'] = yelloTaxiData2020['tpep_dropoff_datetime'].dt.weekday\n",
        "yelloTaxiData2020.loc[:, 'dropoff_month'] = yelloTaxiData2020['tpep_dropoff_datetime'].dt.month\n",
        "holidayCalendar = USFederalHolidayCalendar()\n",
        "holidays = holidayCalendar.holidays()\n",
        "yelloTaxiData2020['pickup_holiday'] = pd.to_datetime(yelloTaxiData2020.tpep_pickup_datetime.dt.date).isin(holidays)\n",
        "yelloTaxiData2020['pickup_holiday'] = yelloTaxiData2020.pickup_holiday.map(lambda x: 1 if x == True else 0)\n",
        "yelloTaxiData2020['pickup_near_holiday'] = (pd.to_datetime(yelloTaxiData2020.tpep_pickup_datetime.dt.date).isin(holidays + timedelta(days=1)) | pd.to_datetime(yelloTaxiData2020.tpep_pickup_datetime.dt.date).isin(holidays - timedelta(days=1)))\n",
        "yelloTaxiData2020['pickup_near_holiday'] = yelloTaxiData2020.pickup_near_holiday.map(lambda x: 1 if x == True else 0)"
      ],
      "metadata": {
        "colab": {
          "base_uri": "https://localhost:8080/"
        },
        "id": "jVCLW_yiObP3",
        "outputId": "5ff1de45-8c6b-40f7-860d-f2b9268a6882"
      },
      "execution_count": 31,
      "outputs": [
        {
          "output_type": "stream",
          "name": "stderr",
          "text": [
            "/usr/local/lib/python3.7/dist-packages/ipykernel_launcher.py:4: FutureWarning: Series.dt.weekofyear and Series.dt.week have been deprecated.  Please use Series.dt.isocalendar().week instead.\n",
            "  after removing the cwd from sys.path.\n"
          ]
        }
      ]
    },
    {
      "cell_type": "code",
      "source": [
        "yelloTaxiData2020.head()"
      ],
      "metadata": {
        "colab": {
          "base_uri": "https://localhost:8080/",
          "height": 300
        },
        "id": "mNJHl6j3RszI",
        "outputId": "39c1ff54-dc7f-4adf-d420-995551a263f4"
      },
      "execution_count": 32,
      "outputs": [
        {
          "output_type": "execute_result",
          "data": {
            "text/plain": [
              "  tpep_pickup_datetime tpep_dropoff_datetime  passenger_count  trip_distance  \\\n",
              "1  2020-09-01 00:55:26   2020-09-01 01:15:34              1.0           6.37   \n",
              "2  2020-09-01 00:00:40   2020-09-01 00:10:25              5.0           2.32   \n",
              "3  2020-09-01 00:26:01   2020-09-01 00:35:50              1.0           1.82   \n",
              "5  2020-09-01 00:09:50   2020-09-01 00:12:38              3.0           1.03   \n",
              "6  2020-09-01 00:40:30   2020-09-01 00:52:16              5.0           3.43   \n",
              "\n",
              "   PULocationID  DOLocationID  ride_duration pickup_date pickup_time  \\\n",
              "1            48           129         1208.0  2020-09-01    00:55:26   \n",
              "2           102            37          585.0  2020-09-01    00:00:40   \n",
              "3           137           246          589.0  2020-09-01    00:26:01   \n",
              "5           263           141          168.0  2020-09-01    00:09:50   \n",
              "6           170           263          706.0  2020-09-01    00:40:30   \n",
              "\n",
              "   pickup_weekday  ...  pickup_week_hour  pickup_dayofyear  pickup_month  \\\n",
              "1               1  ...                24               245             9   \n",
              "2               1  ...                24               245             9   \n",
              "3               1  ...                24               245             9   \n",
              "5               1  ...                24               245             9   \n",
              "6               1  ...                24               245             9   \n",
              "\n",
              "   dropoff_date  dropoff_time  dropoff_hour  dropoff_weekday dropoff_month  \\\n",
              "1    2020-09-01      01:15:34             1                1             9   \n",
              "2    2020-09-01      00:10:25             0                1             9   \n",
              "3    2020-09-01      00:35:50             0                1             9   \n",
              "5    2020-09-01      00:12:38             0                1             9   \n",
              "6    2020-09-01      00:52:16             0                1             9   \n",
              "\n",
              "  pickup_holiday  pickup_near_holiday  \n",
              "1              0                    0  \n",
              "2              0                    0  \n",
              "3              0                    0  \n",
              "5              0                    0  \n",
              "6              0                    0  \n",
              "\n",
              "[5 rows x 24 columns]"
            ],
            "text/html": [
              "\n",
              "  <div id=\"df-ae469723-ce01-4549-90e9-e10ce7bfd3d8\">\n",
              "    <div class=\"colab-df-container\">\n",
              "      <div>\n",
              "<style scoped>\n",
              "    .dataframe tbody tr th:only-of-type {\n",
              "        vertical-align: middle;\n",
              "    }\n",
              "\n",
              "    .dataframe tbody tr th {\n",
              "        vertical-align: top;\n",
              "    }\n",
              "\n",
              "    .dataframe thead th {\n",
              "        text-align: right;\n",
              "    }\n",
              "</style>\n",
              "<table border=\"1\" class=\"dataframe\">\n",
              "  <thead>\n",
              "    <tr style=\"text-align: right;\">\n",
              "      <th></th>\n",
              "      <th>tpep_pickup_datetime</th>\n",
              "      <th>tpep_dropoff_datetime</th>\n",
              "      <th>passenger_count</th>\n",
              "      <th>trip_distance</th>\n",
              "      <th>PULocationID</th>\n",
              "      <th>DOLocationID</th>\n",
              "      <th>ride_duration</th>\n",
              "      <th>pickup_date</th>\n",
              "      <th>pickup_time</th>\n",
              "      <th>pickup_weekday</th>\n",
              "      <th>...</th>\n",
              "      <th>pickup_week_hour</th>\n",
              "      <th>pickup_dayofyear</th>\n",
              "      <th>pickup_month</th>\n",
              "      <th>dropoff_date</th>\n",
              "      <th>dropoff_time</th>\n",
              "      <th>dropoff_hour</th>\n",
              "      <th>dropoff_weekday</th>\n",
              "      <th>dropoff_month</th>\n",
              "      <th>pickup_holiday</th>\n",
              "      <th>pickup_near_holiday</th>\n",
              "    </tr>\n",
              "  </thead>\n",
              "  <tbody>\n",
              "    <tr>\n",
              "      <th>1</th>\n",
              "      <td>2020-09-01 00:55:26</td>\n",
              "      <td>2020-09-01 01:15:34</td>\n",
              "      <td>1.0</td>\n",
              "      <td>6.37</td>\n",
              "      <td>48</td>\n",
              "      <td>129</td>\n",
              "      <td>1208.0</td>\n",
              "      <td>2020-09-01</td>\n",
              "      <td>00:55:26</td>\n",
              "      <td>1</td>\n",
              "      <td>...</td>\n",
              "      <td>24</td>\n",
              "      <td>245</td>\n",
              "      <td>9</td>\n",
              "      <td>2020-09-01</td>\n",
              "      <td>01:15:34</td>\n",
              "      <td>1</td>\n",
              "      <td>1</td>\n",
              "      <td>9</td>\n",
              "      <td>0</td>\n",
              "      <td>0</td>\n",
              "    </tr>\n",
              "    <tr>\n",
              "      <th>2</th>\n",
              "      <td>2020-09-01 00:00:40</td>\n",
              "      <td>2020-09-01 00:10:25</td>\n",
              "      <td>5.0</td>\n",
              "      <td>2.32</td>\n",
              "      <td>102</td>\n",
              "      <td>37</td>\n",
              "      <td>585.0</td>\n",
              "      <td>2020-09-01</td>\n",
              "      <td>00:00:40</td>\n",
              "      <td>1</td>\n",
              "      <td>...</td>\n",
              "      <td>24</td>\n",
              "      <td>245</td>\n",
              "      <td>9</td>\n",
              "      <td>2020-09-01</td>\n",
              "      <td>00:10:25</td>\n",
              "      <td>0</td>\n",
              "      <td>1</td>\n",
              "      <td>9</td>\n",
              "      <td>0</td>\n",
              "      <td>0</td>\n",
              "    </tr>\n",
              "    <tr>\n",
              "      <th>3</th>\n",
              "      <td>2020-09-01 00:26:01</td>\n",
              "      <td>2020-09-01 00:35:50</td>\n",
              "      <td>1.0</td>\n",
              "      <td>1.82</td>\n",
              "      <td>137</td>\n",
              "      <td>246</td>\n",
              "      <td>589.0</td>\n",
              "      <td>2020-09-01</td>\n",
              "      <td>00:26:01</td>\n",
              "      <td>1</td>\n",
              "      <td>...</td>\n",
              "      <td>24</td>\n",
              "      <td>245</td>\n",
              "      <td>9</td>\n",
              "      <td>2020-09-01</td>\n",
              "      <td>00:35:50</td>\n",
              "      <td>0</td>\n",
              "      <td>1</td>\n",
              "      <td>9</td>\n",
              "      <td>0</td>\n",
              "      <td>0</td>\n",
              "    </tr>\n",
              "    <tr>\n",
              "      <th>5</th>\n",
              "      <td>2020-09-01 00:09:50</td>\n",
              "      <td>2020-09-01 00:12:38</td>\n",
              "      <td>3.0</td>\n",
              "      <td>1.03</td>\n",
              "      <td>263</td>\n",
              "      <td>141</td>\n",
              "      <td>168.0</td>\n",
              "      <td>2020-09-01</td>\n",
              "      <td>00:09:50</td>\n",
              "      <td>1</td>\n",
              "      <td>...</td>\n",
              "      <td>24</td>\n",
              "      <td>245</td>\n",
              "      <td>9</td>\n",
              "      <td>2020-09-01</td>\n",
              "      <td>00:12:38</td>\n",
              "      <td>0</td>\n",
              "      <td>1</td>\n",
              "      <td>9</td>\n",
              "      <td>0</td>\n",
              "      <td>0</td>\n",
              "    </tr>\n",
              "    <tr>\n",
              "      <th>6</th>\n",
              "      <td>2020-09-01 00:40:30</td>\n",
              "      <td>2020-09-01 00:52:16</td>\n",
              "      <td>5.0</td>\n",
              "      <td>3.43</td>\n",
              "      <td>170</td>\n",
              "      <td>263</td>\n",
              "      <td>706.0</td>\n",
              "      <td>2020-09-01</td>\n",
              "      <td>00:40:30</td>\n",
              "      <td>1</td>\n",
              "      <td>...</td>\n",
              "      <td>24</td>\n",
              "      <td>245</td>\n",
              "      <td>9</td>\n",
              "      <td>2020-09-01</td>\n",
              "      <td>00:52:16</td>\n",
              "      <td>0</td>\n",
              "      <td>1</td>\n",
              "      <td>9</td>\n",
              "      <td>0</td>\n",
              "      <td>0</td>\n",
              "    </tr>\n",
              "  </tbody>\n",
              "</table>\n",
              "<p>5 rows × 24 columns</p>\n",
              "</div>\n",
              "      <button class=\"colab-df-convert\" onclick=\"convertToInteractive('df-ae469723-ce01-4549-90e9-e10ce7bfd3d8')\"\n",
              "              title=\"Convert this dataframe to an interactive table.\"\n",
              "              style=\"display:none;\">\n",
              "        \n",
              "  <svg xmlns=\"http://www.w3.org/2000/svg\" height=\"24px\"viewBox=\"0 0 24 24\"\n",
              "       width=\"24px\">\n",
              "    <path d=\"M0 0h24v24H0V0z\" fill=\"none\"/>\n",
              "    <path d=\"M18.56 5.44l.94 2.06.94-2.06 2.06-.94-2.06-.94-.94-2.06-.94 2.06-2.06.94zm-11 1L8.5 8.5l.94-2.06 2.06-.94-2.06-.94L8.5 2.5l-.94 2.06-2.06.94zm10 10l.94 2.06.94-2.06 2.06-.94-2.06-.94-.94-2.06-.94 2.06-2.06.94z\"/><path d=\"M17.41 7.96l-1.37-1.37c-.4-.4-.92-.59-1.43-.59-.52 0-1.04.2-1.43.59L10.3 9.45l-7.72 7.72c-.78.78-.78 2.05 0 2.83L4 21.41c.39.39.9.59 1.41.59.51 0 1.02-.2 1.41-.59l7.78-7.78 2.81-2.81c.8-.78.8-2.07 0-2.86zM5.41 20L4 18.59l7.72-7.72 1.47 1.35L5.41 20z\"/>\n",
              "  </svg>\n",
              "      </button>\n",
              "      \n",
              "  <style>\n",
              "    .colab-df-container {\n",
              "      display:flex;\n",
              "      flex-wrap:wrap;\n",
              "      gap: 12px;\n",
              "    }\n",
              "\n",
              "    .colab-df-convert {\n",
              "      background-color: #E8F0FE;\n",
              "      border: none;\n",
              "      border-radius: 50%;\n",
              "      cursor: pointer;\n",
              "      display: none;\n",
              "      fill: #1967D2;\n",
              "      height: 32px;\n",
              "      padding: 0 0 0 0;\n",
              "      width: 32px;\n",
              "    }\n",
              "\n",
              "    .colab-df-convert:hover {\n",
              "      background-color: #E2EBFA;\n",
              "      box-shadow: 0px 1px 2px rgba(60, 64, 67, 0.3), 0px 1px 3px 1px rgba(60, 64, 67, 0.15);\n",
              "      fill: #174EA6;\n",
              "    }\n",
              "\n",
              "    [theme=dark] .colab-df-convert {\n",
              "      background-color: #3B4455;\n",
              "      fill: #D2E3FC;\n",
              "    }\n",
              "\n",
              "    [theme=dark] .colab-df-convert:hover {\n",
              "      background-color: #434B5C;\n",
              "      box-shadow: 0px 1px 3px 1px rgba(0, 0, 0, 0.15);\n",
              "      filter: drop-shadow(0px 1px 2px rgba(0, 0, 0, 0.3));\n",
              "      fill: #FFFFFF;\n",
              "    }\n",
              "  </style>\n",
              "\n",
              "      <script>\n",
              "        const buttonEl =\n",
              "          document.querySelector('#df-ae469723-ce01-4549-90e9-e10ce7bfd3d8 button.colab-df-convert');\n",
              "        buttonEl.style.display =\n",
              "          google.colab.kernel.accessAllowed ? 'block' : 'none';\n",
              "\n",
              "        async function convertToInteractive(key) {\n",
              "          const element = document.querySelector('#df-ae469723-ce01-4549-90e9-e10ce7bfd3d8');\n",
              "          const dataTable =\n",
              "            await google.colab.kernel.invokeFunction('convertToInteractive',\n",
              "                                                     [key], {});\n",
              "          if (!dataTable) return;\n",
              "\n",
              "          const docLinkHtml = 'Like what you see? Visit the ' +\n",
              "            '<a target=\"_blank\" href=https://colab.research.google.com/notebooks/data_table.ipynb>data table notebook</a>'\n",
              "            + ' to learn more about interactive tables.';\n",
              "          element.innerHTML = '';\n",
              "          dataTable['output_type'] = 'display_data';\n",
              "          await google.colab.output.renderOutput(dataTable, element);\n",
              "          const docLink = document.createElement('div');\n",
              "          docLink.innerHTML = docLinkHtml;\n",
              "          element.appendChild(docLink);\n",
              "        }\n",
              "      </script>\n",
              "    </div>\n",
              "  </div>\n",
              "  "
            ]
          },
          "metadata": {},
          "execution_count": 32
        }
      ]
    },
    {
      "cell_type": "code",
      "source": [
        "yelloTaxiData2020.shape"
      ],
      "metadata": {
        "id": "gcmU2WCFTHBU",
        "outputId": "69a505a8-07ce-46a3-a04c-4a29ff951ad9",
        "colab": {
          "base_uri": "https://localhost:8080/"
        }
      },
      "execution_count": 33,
      "outputs": [
        {
          "output_type": "execute_result",
          "data": {
            "text/plain": [
              "(4069192, 24)"
            ]
          },
          "metadata": {},
          "execution_count": 33
        }
      ]
    },
    {
      "cell_type": "code",
      "source": [
        "yelloTaxiData2020.to_parquet('/content/drive/MyDrive/yellow_tripdata_2020_data.parquet')"
      ],
      "metadata": {
        "id": "8YMOrFBY0z1C"
      },
      "execution_count": 34,
      "outputs": []
    },
    {
      "cell_type": "markdown",
      "source": [],
      "metadata": {
        "id": "nUvZUWNY0wy6"
      }
    }
  ]
}