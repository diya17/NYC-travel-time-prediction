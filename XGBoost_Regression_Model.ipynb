{
  "cells": [
    {
      "cell_type": "code",
      "execution_count": 30,
      "metadata": {
        "colab": {
          "base_uri": "https://localhost:8080/"
        },
        "id": "v0tQEpW4DcfK",
        "outputId": "aa4fa55e-9a61-4375-e298-2747ddac5740"
      },
      "outputs": [
        {
          "output_type": "stream",
          "name": "stdout",
          "text": [
            "Looking in indexes: https://pypi.org/simple, https://us-python.pkg.dev/colab-wheels/public/simple/\n",
            "Requirement already satisfied: ipython-autotime in /usr/local/lib/python3.7/dist-packages (0.3.1)\n",
            "Requirement already satisfied: ipython in /usr/local/lib/python3.7/dist-packages (from ipython-autotime) (7.9.0)\n",
            "Requirement already satisfied: pexpect in /usr/local/lib/python3.7/dist-packages (from ipython->ipython-autotime) (4.8.0)\n",
            "Requirement already satisfied: pygments in /usr/local/lib/python3.7/dist-packages (from ipython->ipython-autotime) (2.6.1)\n",
            "Requirement already satisfied: prompt-toolkit<2.1.0,>=2.0.0 in /usr/local/lib/python3.7/dist-packages (from ipython->ipython-autotime) (2.0.10)\n",
            "Requirement already satisfied: backcall in /usr/local/lib/python3.7/dist-packages (from ipython->ipython-autotime) (0.2.0)\n",
            "Requirement already satisfied: pickleshare in /usr/local/lib/python3.7/dist-packages (from ipython->ipython-autotime) (0.7.5)\n",
            "Requirement already satisfied: traitlets>=4.2 in /usr/local/lib/python3.7/dist-packages (from ipython->ipython-autotime) (5.1.1)\n",
            "Requirement already satisfied: setuptools>=18.5 in /usr/local/lib/python3.7/dist-packages (from ipython->ipython-autotime) (57.4.0)\n",
            "Requirement already satisfied: jedi>=0.10 in /usr/local/lib/python3.7/dist-packages (from ipython->ipython-autotime) (0.18.2)\n",
            "Requirement already satisfied: decorator in /usr/local/lib/python3.7/dist-packages (from ipython->ipython-autotime) (4.4.2)\n",
            "Requirement already satisfied: parso<0.9.0,>=0.8.0 in /usr/local/lib/python3.7/dist-packages (from jedi>=0.10->ipython->ipython-autotime) (0.8.3)\n",
            "Requirement already satisfied: wcwidth in /usr/local/lib/python3.7/dist-packages (from prompt-toolkit<2.1.0,>=2.0.0->ipython->ipython-autotime) (0.2.5)\n",
            "Requirement already satisfied: six>=1.9.0 in /usr/local/lib/python3.7/dist-packages (from prompt-toolkit<2.1.0,>=2.0.0->ipython->ipython-autotime) (1.15.0)\n",
            "Requirement already satisfied: ptyprocess>=0.5 in /usr/local/lib/python3.7/dist-packages (from pexpect->ipython->ipython-autotime) (0.7.0)\n",
            "The autotime extension is already loaded. To reload it, use:\n",
            "  %reload_ext autotime\n",
            "Mounted at /content/drive\n",
            "time: 5.02 s (started: 2022-11-23 10:18:25 +00:00)\n"
          ]
        }
      ],
      "source": [
        "!pip install ipython-autotime\n",
        "%load_ext autotime\n",
        "import pandas as pd\n",
        "from google.colab import drive\n",
        "import pathlib\n",
        "import numpy as np\n",
        "import gc\n",
        "import matplotlib.pyplot as plt\n",
        "from xgboost import XGBRegressor\n",
        "import pyarrow.parquet as pq\n",
        "from sklearn.model_selection import train_test_split\n",
        "from sklearn.metrics import mean_squared_error\n",
        "from sklearn.metrics import mean_absolute_error\n",
        "from sklearn.preprocessing import MinMaxScaler\n",
        "from xgboost import plot_importance\n",
        "\n",
        "\n",
        "drive.mount('/content/drive',force_remount=True)"
      ]
    },
    {
      "cell_type": "code",
      "source": [
        "random_state=17"
      ],
      "metadata": {
        "colab": {
          "base_uri": "https://localhost:8080/"
        },
        "id": "IGgAeOxfY4lh",
        "outputId": "49d2e06f-b35a-4a9c-aeba-0bfa0722c3fe"
      },
      "execution_count": 2,
      "outputs": [
        {
          "output_type": "stream",
          "name": "stdout",
          "text": [
            "time: 729 µs (started: 2022-11-23 06:56:44 +00:00)\n"
          ]
        }
      ]
    },
    {
      "cell_type": "code",
      "execution_count": 3,
      "metadata": {
        "colab": {
          "base_uri": "https://localhost:8080/"
        },
        "id": "k9XRTmWtOVsC",
        "outputId": "da65a3f6-a6ab-43bf-c4e2-01d18ae61156"
      },
      "outputs": [
        {
          "output_type": "stream",
          "name": "stdout",
          "text": [
            "time: 892 µs (started: 2022-11-23 06:56:44 +00:00)\n"
          ]
        }
      ],
      "source": [
        "XGBRegressorModel = XGBRegressor(max_depth=6, learning_rate=0.09, iteration=250, random_state=random_state)"
      ]
    },
    {
      "cell_type": "code",
      "source": [
        "taxiData = pd.DataFrame()"
      ],
      "metadata": {
        "colab": {
          "base_uri": "https://localhost:8080/"
        },
        "id": "3d_anN31U2tJ",
        "outputId": "d657d49a-0692-4dc1-9c12-6e8d7d3f3a4c"
      },
      "execution_count": 4,
      "outputs": [
        {
          "output_type": "stream",
          "name": "stdout",
          "text": [
            "time: 2.49 ms (started: 2022-11-23 06:56:44 +00:00)\n"
          ]
        }
      ]
    },
    {
      "cell_type": "code",
      "execution_count": 5,
      "metadata": {
        "id": "7f6byBVKPoFG",
        "colab": {
          "base_uri": "https://localhost:8080/"
        },
        "outputId": "b5c9e25f-887d-467f-9ef6-16f10c1e15c3"
      },
      "outputs": [
        {
          "output_type": "stream",
          "name": "stdout",
          "text": [
            "time: 174 ms (started: 2022-11-23 06:56:44 +00:00)\n"
          ]
        }
      ],
      "source": [
        "data_dir = \"/content/drive/MyDrive/yellow_tripdata_2020_data.parquet\"\n",
        "data_dir = pathlib.Path(data_dir)\n",
        "yellowTaxiData2020 = pq.ParquetFile(data_dir)\n",
        "del data_dir"
      ]
    },
    {
      "cell_type": "code",
      "execution_count": 6,
      "metadata": {
        "id": "mOhmoFQpZR7Z",
        "colab": {
          "base_uri": "https://localhost:8080/"
        },
        "outputId": "7b5a50d3-cb07-42ef-ea0e-99f25dd3bdb3"
      },
      "outputs": [
        {
          "output_type": "stream",
          "name": "stdout",
          "text": [
            "time: 2.92 s (started: 2022-11-23 06:56:45 +00:00)\n"
          ]
        }
      ],
      "source": [
        "for taxiDataBatch in yellowTaxiData2020.iter_batches(batch_size=2000000):\n",
        "    taxiDataBatchDF = taxiDataBatch.to_pandas()\n",
        "    taxiDataBatchDF.drop(columns=['tpep_pickup_datetime', 'tpep_dropoff_datetime', 'pickup_date', 'pickup_time', 'dropoff_date', 'dropoff_time'], inplace=True)\n",
        "    taxiData = pd.concat([taxiData, taxiDataBatchDF])\n"
      ]
    },
    {
      "cell_type": "code",
      "source": [
        "taxiData.shape"
      ],
      "metadata": {
        "colab": {
          "base_uri": "https://localhost:8080/"
        },
        "id": "1g-iQNiFVsM2",
        "outputId": "52784c9b-2d11-4c6c-96ff-afc0f048dbd0"
      },
      "execution_count": 7,
      "outputs": [
        {
          "output_type": "execute_result",
          "data": {
            "text/plain": [
              "(4069192, 18)"
            ]
          },
          "metadata": {},
          "execution_count": 7
        },
        {
          "output_type": "stream",
          "name": "stdout",
          "text": [
            "time: 7.93 ms (started: 2022-11-23 06:56:48 +00:00)\n"
          ]
        }
      ]
    },
    {
      "cell_type": "code",
      "execution_count": 8,
      "metadata": {
        "id": "878B9VjddAhl",
        "colab": {
          "base_uri": "https://localhost:8080/"
        },
        "outputId": "77a11ab9-335b-4a73-b088-e7221de33bb4"
      },
      "outputs": [
        {
          "output_type": "stream",
          "name": "stdout",
          "text": [
            "time: 553 µs (started: 2022-11-23 06:56:48 +00:00)\n"
          ]
        }
      ],
      "source": [
        "del yellowTaxiData2020"
      ]
    },
    {
      "cell_type": "code",
      "execution_count": 9,
      "metadata": {
        "id": "oiCyjCAtu_-3",
        "colab": {
          "base_uri": "https://localhost:8080/"
        },
        "outputId": "a181f7d2-e4d1-4099-f693-b6a3c1f85138"
      },
      "outputs": [
        {
          "output_type": "execute_result",
          "data": {
            "text/plain": [
              "66"
            ]
          },
          "metadata": {},
          "execution_count": 9
        },
        {
          "output_type": "stream",
          "name": "stdout",
          "text": [
            "time: 77.1 ms (started: 2022-11-23 06:56:48 +00:00)\n"
          ]
        }
      ],
      "source": [
        "gc.collect()"
      ]
    },
    {
      "cell_type": "code",
      "execution_count": 10,
      "metadata": {
        "id": "TmC2RQvAc0-H",
        "colab": {
          "base_uri": "https://localhost:8080/"
        },
        "outputId": "9f5b87b8-11d0-42c2-c7e9-d877cde632d9"
      },
      "outputs": [
        {
          "output_type": "stream",
          "name": "stdout",
          "text": [
            "time: 162 ms (started: 2022-11-23 06:56:49 +00:00)\n"
          ]
        }
      ],
      "source": [
        "data_dir = \"/content/drive/MyDrive/yellow_tripdata_2021_data.parquet\"\n",
        "data_dir = pathlib.Path(data_dir)\n",
        "yellowTaxiData2021 = pq.ParquetFile(data_dir)\n",
        "del data_dir"
      ]
    },
    {
      "cell_type": "code",
      "source": [
        "for taxiDataBatch in yellowTaxiData2021.iter_batches(batch_size=2000000):\n",
        "    taxiDataBatchDF = taxiDataBatch.to_pandas()\n",
        "    taxiDataBatchDF.drop(columns=['tpep_pickup_datetime', 'tpep_dropoff_datetime', 'pickup_date', 'pickup_time', 'dropoff_date', 'dropoff_time'], inplace=True)\n",
        "    taxiData = pd.concat([taxiData, taxiDataBatchDF])"
      ],
      "metadata": {
        "colab": {
          "base_uri": "https://localhost:8080/"
        },
        "id": "JrDD87TCVLPc",
        "outputId": "744b9383-f825-4afd-b9e1-6da29bba20d8"
      },
      "execution_count": 11,
      "outputs": [
        {
          "output_type": "stream",
          "name": "stdout",
          "text": [
            "time: 16.5 s (started: 2022-11-23 06:56:51 +00:00)\n"
          ]
        }
      ]
    },
    {
      "cell_type": "code",
      "source": [
        "scaler = MinMaxScaler()\n",
        "taxiData = pd.DataFrame(scaler.fit_transform(taxiData.values), columns=taxiData.columns, index=taxiData.index)"
      ],
      "metadata": {
        "colab": {
          "base_uri": "https://localhost:8080/"
        },
        "id": "VBl86d05cDQr",
        "outputId": "6e868c58-9415-4861-b779-de91d61eceb2"
      },
      "execution_count": 12,
      "outputs": [
        {
          "output_type": "stream",
          "name": "stdout",
          "text": [
            "time: 7.91 s (started: 2022-11-23 06:57:08 +00:00)\n"
          ]
        }
      ]
    },
    {
      "cell_type": "code",
      "source": [
        "X_train, X_test, y_train, y_test = train_test_split(taxiData.loc[:, (taxiData.columns!='ride_duration')], \n",
        "                                                    taxiData.loc[:, 'ride_duration'], \n",
        "                                                    test_size=0.4, \n",
        "                                                    random_state=random_state)"
      ],
      "metadata": {
        "colab": {
          "base_uri": "https://localhost:8080/"
        },
        "id": "6bo__xA3b3iH",
        "outputId": "b26d15a2-550c-4d1a-d4eb-949465add264"
      },
      "execution_count": 13,
      "outputs": [
        {
          "output_type": "stream",
          "name": "stdout",
          "text": [
            "time: 9.93 s (started: 2022-11-23 06:57:16 +00:00)\n"
          ]
        }
      ]
    },
    {
      "cell_type": "code",
      "source": [
        "del yellowTaxiData2021"
      ],
      "metadata": {
        "colab": {
          "base_uri": "https://localhost:8080/"
        },
        "id": "dpvTdg4GX3xW",
        "outputId": "c66173ea-31af-4470-b466-4ac1fd016300"
      },
      "execution_count": 14,
      "outputs": [
        {
          "output_type": "stream",
          "name": "stdout",
          "text": [
            "time: 635 µs (started: 2022-11-23 06:57:25 +00:00)\n"
          ]
        }
      ]
    },
    {
      "cell_type": "code",
      "source": [
        "del taxiData"
      ],
      "metadata": {
        "colab": {
          "base_uri": "https://localhost:8080/"
        },
        "id": "GcdrUhbac131",
        "outputId": "0f20478c-d338-4d91-d30c-7d08d7741901"
      },
      "execution_count": 15,
      "outputs": [
        {
          "output_type": "stream",
          "name": "stdout",
          "text": [
            "time: 634 µs (started: 2022-11-23 06:57:25 +00:00)\n"
          ]
        }
      ]
    },
    {
      "cell_type": "code",
      "source": [
        "gc.collect()"
      ],
      "metadata": {
        "colab": {
          "base_uri": "https://localhost:8080/"
        },
        "id": "_xvDBME2X5sJ",
        "outputId": "e6953a47-6b04-455f-8ae5-52468a980745"
      },
      "execution_count": 16,
      "outputs": [
        {
          "output_type": "execute_result",
          "data": {
            "text/plain": [
              "175"
            ]
          },
          "metadata": {},
          "execution_count": 16
        },
        {
          "output_type": "stream",
          "name": "stdout",
          "text": [
            "time: 57.2 ms (started: 2022-11-23 06:57:25 +00:00)\n"
          ]
        }
      ]
    },
    {
      "cell_type": "code",
      "source": [
        "del taxiDataBatchDF"
      ],
      "metadata": {
        "colab": {
          "base_uri": "https://localhost:8080/"
        },
        "id": "9aNZe-o2Zjdj",
        "outputId": "90af8363-27fb-4b28-fac7-52ea49d14ecb"
      },
      "execution_count": 17,
      "outputs": [
        {
          "output_type": "stream",
          "name": "stdout",
          "text": [
            "time: 446 µs (started: 2022-11-23 06:57:26 +00:00)\n"
          ]
        }
      ]
    },
    {
      "cell_type": "code",
      "source": [
        "gc.collect()"
      ],
      "metadata": {
        "colab": {
          "base_uri": "https://localhost:8080/"
        },
        "id": "UQhQPyUYZ3hQ",
        "outputId": "82479823-7b89-4474-aa32-a70f6f7c87dc"
      },
      "execution_count": 18,
      "outputs": [
        {
          "output_type": "execute_result",
          "data": {
            "text/plain": [
              "44"
            ]
          },
          "metadata": {},
          "execution_count": 18
        },
        {
          "output_type": "stream",
          "name": "stdout",
          "text": [
            "time: 54.8 ms (started: 2022-11-23 06:57:26 +00:00)\n"
          ]
        }
      ]
    },
    {
      "cell_type": "code",
      "source": [
        "XGBRegressorModel.fit(X_train, y_train)"
      ],
      "metadata": {
        "colab": {
          "base_uri": "https://localhost:8080/"
        },
        "id": "8E06IzXwX8kQ",
        "outputId": "2175f069-8c51-4867-8ad9-12a97bfef8a5"
      },
      "execution_count": 19,
      "outputs": [
        {
          "output_type": "stream",
          "name": "stdout",
          "text": [
            "[06:57:35] WARNING: /workspace/src/objective/regression_obj.cu:152: reg:linear is now deprecated in favor of reg:squarederror.\n",
            "[06:57:35] WARNING: /workspace/src/learner.cc:686: Tree method is automatically selected to be 'approx' for faster speed. To use old behavior (exact greedy algorithm on single machine), set tree_method to 'exact'.\n"
          ]
        },
        {
          "output_type": "execute_result",
          "data": {
            "text/plain": [
              "XGBRegressor(iteration=250, learning_rate=0.09, max_depth=6, random_state=17)"
            ]
          },
          "metadata": {},
          "execution_count": 19
        },
        {
          "output_type": "stream",
          "name": "stdout",
          "text": [
            "time: 2h 24min 12s (started: 2022-11-23 06:57:29 +00:00)\n"
          ]
        }
      ]
    },
    {
      "cell_type": "code",
      "source": [
        "predictions = XGBRegressorModel.predict(X_test)"
      ],
      "metadata": {
        "id": "Oudr-pRMYL7f",
        "colab": {
          "base_uri": "https://localhost:8080/"
        },
        "outputId": "b357ad5d-f61e-4e03-a1b9-bb88d330992d"
      },
      "execution_count": 20,
      "outputs": [
        {
          "output_type": "stream",
          "name": "stdout",
          "text": [
            "time: 59.7 s (started: 2022-11-23 09:21:53 +00:00)\n"
          ]
        }
      ]
    },
    {
      "cell_type": "code",
      "source": [
        "predictions_train = XGBRegressorModel.predict(X_train)"
      ],
      "metadata": {
        "id": "pv4PQ3kG0cD3",
        "colab": {
          "base_uri": "https://localhost:8080/"
        },
        "outputId": "61f54d64-3115-45dc-8ec9-21143792d2b1"
      },
      "execution_count": 21,
      "outputs": [
        {
          "output_type": "stream",
          "name": "stdout",
          "text": [
            "time: 1min 29s (started: 2022-11-23 09:22:58 +00:00)\n"
          ]
        }
      ]
    },
    {
      "cell_type": "code",
      "source": [
        "rmse_train = mean_squared_error(y_train, predictions_train)**0.5\n",
        "print(f'The RMSE of training prediction is: {rmse_train}')"
      ],
      "metadata": {
        "id": "7dl_O-lD0fA3",
        "colab": {
          "base_uri": "https://localhost:8080/"
        },
        "outputId": "4131b334-a6e1-4074-c14b-ce8dcc4f3d1c"
      },
      "execution_count": 22,
      "outputs": [
        {
          "output_type": "stream",
          "name": "stdout",
          "text": [
            "The RMSE of training prediction is: 0.10741046544906936\n",
            "time: 191 ms (started: 2022-11-23 09:25:20 +00:00)\n"
          ]
        }
      ]
    },
    {
      "cell_type": "code",
      "source": [
        "mse_train = mean_squared_error(y_train, predictions_train)\n",
        "print(f'The MSE of training prediction is: {mse_train}')"
      ],
      "metadata": {
        "id": "_1J4IXfj0sHB",
        "colab": {
          "base_uri": "https://localhost:8080/"
        },
        "outputId": "06c03ff7-6db3-4a8e-86ef-47a9863f7a73"
      },
      "execution_count": 23,
      "outputs": [
        {
          "output_type": "stream",
          "name": "stdout",
          "text": [
            "The MSE of training prediction is: 0.011537008087985723\n",
            "time: 73.3 ms (started: 2022-11-23 09:25:29 +00:00)\n"
          ]
        }
      ]
    },
    {
      "cell_type": "code",
      "source": [
        "mae_train = mean_absolute_error(y_train, predictions_train)\n",
        "print(f'The MAE of training prediction is: {mae_train}')"
      ],
      "metadata": {
        "id": "EjgCEXz_0uVF",
        "colab": {
          "base_uri": "https://localhost:8080/"
        },
        "outputId": "b0c59396-d9ea-4e69-a7e6-2906eafa02de"
      },
      "execution_count": 24,
      "outputs": [
        {
          "output_type": "stream",
          "name": "stdout",
          "text": [
            "The MAE of training prediction is: 0.08050702934962413\n",
            "time: 165 ms (started: 2022-11-23 09:25:31 +00:00)\n"
          ]
        }
      ]
    },
    {
      "cell_type": "code",
      "source": [
        "rmse_test = mean_squared_error(y_test, predictions)**0.5\n",
        "print(f'The RMSE of prediction is: {rmse_test}')"
      ],
      "metadata": {
        "id": "B5AhKmCg0wsp",
        "colab": {
          "base_uri": "https://localhost:8080/"
        },
        "outputId": "1f889f11-9bd9-42ff-eb47-c53711f324ec"
      },
      "execution_count": 25,
      "outputs": [
        {
          "output_type": "stream",
          "name": "stdout",
          "text": [
            "The RMSE of prediction is: 0.10739925367263024\n",
            "time: 49.5 ms (started: 2022-11-23 09:25:32 +00:00)\n"
          ]
        }
      ]
    },
    {
      "cell_type": "code",
      "source": [
        "mse_test = mean_squared_error(y_test, predictions)\n",
        "print(f'The MSE of prediction is: {mse_test}')"
      ],
      "metadata": {
        "id": "cWs8nX6l006M",
        "colab": {
          "base_uri": "https://localhost:8080/"
        },
        "outputId": "31e18b9b-53a6-4d2b-9fb3-b68da8ef44aa"
      },
      "execution_count": 26,
      "outputs": [
        {
          "output_type": "stream",
          "name": "stdout",
          "text": [
            "The MSE of prediction is: 0.01153459968943798\n",
            "time: 50.2 ms (started: 2022-11-23 09:25:35 +00:00)\n"
          ]
        }
      ]
    },
    {
      "cell_type": "code",
      "source": [
        "mae_test = mean_absolute_error(y_test, predictions)\n",
        "print(f'The MAE of training prediction is: {mae_test}')"
      ],
      "metadata": {
        "id": "iCoqqwOg02-d",
        "colab": {
          "base_uri": "https://localhost:8080/"
        },
        "outputId": "e339917d-c00c-48f4-d868-832181c9c9da"
      },
      "execution_count": 27,
      "outputs": [
        {
          "output_type": "stream",
          "name": "stdout",
          "text": [
            "The MAE of training prediction is: 0.08048598340565506\n",
            "time: 55.9 ms (started: 2022-11-23 09:25:37 +00:00)\n"
          ]
        }
      ]
    },
    {
      "cell_type": "code",
      "source": [
        "plot_importance(XGBRegressorModel)"
      ],
      "metadata": {
        "colab": {
          "base_uri": "https://localhost:8080/",
          "height": 331
        },
        "id": "bdz4mt6d_wwo",
        "outputId": "5ff15804-1ed7-4e9c-8bd3-7ccd6a43480b"
      },
      "execution_count": 32,
      "outputs": [
        {
          "output_type": "execute_result",
          "data": {
            "text/plain": [
              "<matplotlib.axes._subplots.AxesSubplot at 0x7fbce825fed0>"
            ]
          },
          "metadata": {},
          "execution_count": 32
        },
        {
          "output_type": "display_data",
          "data": {
            "text/plain": [
              "<Figure size 432x288 with 1 Axes>"
            ],
            "image/png": "[encoded data removed]"
          },
          "metadata": {
            "needs_background": "light"
          }
        },
        {
          "output_type": "stream",
          "name": "stdout",
          "text": [
            "time: 246 ms (started: 2022-11-23 10:19:28 +00:00)\n"
          ]
        }
      ]
    }
  ],
  "metadata": {
    "colab": {
      "provenance": [],
      "machine_shape": "hm"
    },
    "gpuClass": "standard",
    "kernelspec": {
      "display_name": "Python 3",
      "name": "python3"
    },
    "language_info": {
      "name": "python"
    },
    "accelerator": "GPU"
  },
  "nbformat": 4,
  "nbformat_minor": 0
}